{
  "nbformat": 4,
  "nbformat_minor": 0,
  "metadata": {
    "colab": {
      "name": "11_커피지수_전처리(매장추출).ipynb",
      "provenance": [],
      "collapsed_sections": []
    },
    "kernelspec": {
      "name": "python3",
      "display_name": "Python 3"
    },
    "language_info": {
      "name": "python"
    }
  },
  "cells": [
    {
      "cell_type": "code",
      "metadata": {
        "id": "tCOnvQi-tueZ"
      },
      "source": [
        "import numpy as np\n",
        "import pandas as pd\n",
        "import warnings\n",
        "warnings.filterwarnings('ignore')"
      ],
      "execution_count": null,
      "outputs": []
    },
    {
      "cell_type": "code",
      "metadata": {
        "colab": {
          "base_uri": "https://localhost:8080/"
        },
        "id": "AOXPlNANnkD3",
        "outputId": "77e8c220-b0b0-402d-f103-441210fde62b"
      },
      "source": [
        "from google.colab import drive\n",
        "drive.mount('/content/mnt')"
      ],
      "execution_count": null,
      "outputs": [
        {
          "output_type": "stream",
          "name": "stdout",
          "text": [
            "Mounted at /content/mnt\n"
          ]
        }
      ]
    },
    {
      "cell_type": "code",
      "metadata": {
        "id": "tJXE5Q6nnqcU"
      },
      "source": [
        "data_folder = '/content/mnt/MyDrive/데이터/소상공인시장진흥공단'"
      ],
      "execution_count": null,
      "outputs": []
    },
    {
      "cell_type": "code",
      "metadata": {
        "colab": {
          "base_uri": "https://localhost:8080/"
        },
        "id": "jphu7xKZoFAC",
        "outputId": "d04217b3-4cbe-47e2-a1ef-01e8312a43c2"
      },
      "source": [
        "from glob import glob\n",
        "for file in glob(f'{data_folder}/*.csv'):\n",
        "    print(file)"
      ],
      "execution_count": null,
      "outputs": [
        {
          "output_type": "stream",
          "name": "stdout",
          "text": [
            "/content/mnt/MyDrive/데이터/소상공인시장진흥공단/소상공인시장진흥공단_상가(상권)정보_강원_202106.csv\n",
            "/content/mnt/MyDrive/데이터/소상공인시장진흥공단/소상공인시장진흥공단_상가(상권)정보_경기_202106.csv\n",
            "/content/mnt/MyDrive/데이터/소상공인시장진흥공단/소상공인시장진흥공단_상가(상권)정보_경남_202106.csv\n",
            "/content/mnt/MyDrive/데이터/소상공인시장진흥공단/소상공인시장진흥공단_상가(상권)정보_경북_202106.csv\n",
            "/content/mnt/MyDrive/데이터/소상공인시장진흥공단/소상공인시장진흥공단_상가(상권)정보_광주_202106.csv\n",
            "/content/mnt/MyDrive/데이터/소상공인시장진흥공단/소상공인시장진흥공단_상가(상권)정보_대구_202106.csv\n",
            "/content/mnt/MyDrive/데이터/소상공인시장진흥공단/소상공인시장진흥공단_상가(상권)정보_대전_202106.csv\n",
            "/content/mnt/MyDrive/데이터/소상공인시장진흥공단/소상공인시장진흥공단_상가(상권)정보_부산_202106.csv\n",
            "/content/mnt/MyDrive/데이터/소상공인시장진흥공단/소상공인시장진흥공단_상가(상권)정보_서울_202106.csv\n",
            "/content/mnt/MyDrive/데이터/소상공인시장진흥공단/소상공인시장진흥공단_상가(상권)정보_세종_202106.csv\n",
            "/content/mnt/MyDrive/데이터/소상공인시장진흥공단/소상공인시장진흥공단_상가(상권)정보_울산_202106.csv\n",
            "/content/mnt/MyDrive/데이터/소상공인시장진흥공단/소상공인시장진흥공단_상가(상권)정보_인천_202106.csv\n",
            "/content/mnt/MyDrive/데이터/소상공인시장진흥공단/소상공인시장진흥공단_상가(상권)정보_전남_202106.csv\n",
            "/content/mnt/MyDrive/데이터/소상공인시장진흥공단/소상공인시장진흥공단_상가(상권)정보_전북_202106.csv\n",
            "/content/mnt/MyDrive/데이터/소상공인시장진흥공단/소상공인시장진흥공단_상가(상권)정보_제주_202106.csv\n",
            "/content/mnt/MyDrive/데이터/소상공인시장진흥공단/소상공인시장진흥공단_상가(상권)정보_충남_202106.csv\n",
            "/content/mnt/MyDrive/데이터/소상공인시장진흥공단/소상공인시장진흥공단_상가(상권)정보_충북_202106.csv\n"
          ]
        }
      ]
    },
    {
      "cell_type": "code",
      "metadata": {
        "colab": {
          "base_uri": "https://localhost:8080/"
        },
        "id": "NGZ98K8MoMah",
        "outputId": "6aa2fa20-e891-4d6a-941f-621b0c21ab5d"
      },
      "source": [
        "df = pd.read_csv(f'{data_folder}/소상공인시장진흥공단_상가(상권)정보_서울_202106.csv')\n",
        "print(df.shape)"
      ],
      "execution_count": null,
      "outputs": [
        {
          "output_type": "stream",
          "name": "stdout",
          "text": [
            "(316078, 39)\n"
          ]
        }
      ]
    },
    {
      "cell_type": "markdown",
      "metadata": {
        "id": "Dih923DhIp5s"
      },
      "source": [
        "## 전국 데이터에서 4개 매장 정보 추출하기"
      ]
    },
    {
      "cell_type": "code",
      "metadata": {
        "colab": {
          "base_uri": "https://localhost:8080/",
          "height": 221
        },
        "id": "3BrOBJdS6c3t",
        "outputId": "1e0f3373-f0d4-4f13-a669-04b3831340a9"
      },
      "source": [
        "df = df[df.상권업종중분류코드 == 'Q12']\n",
        "df = df[['상호명', '지점명', '시도명', '시군구명', '도로명주소']]\n",
        "print(df.shape)\n",
        "df.head()"
      ],
      "execution_count": null,
      "outputs": [
        {
          "output_type": "stream",
          "name": "stdout",
          "text": [
            "(20832, 5)\n"
          ]
        },
        {
          "output_type": "execute_result",
          "data": {
            "text/html": [
              "<div>\n",
              "<style scoped>\n",
              "    .dataframe tbody tr th:only-of-type {\n",
              "        vertical-align: middle;\n",
              "    }\n",
              "\n",
              "    .dataframe tbody tr th {\n",
              "        vertical-align: top;\n",
              "    }\n",
              "\n",
              "    .dataframe thead th {\n",
              "        text-align: right;\n",
              "    }\n",
              "</style>\n",
              "<table border=\"1\" class=\"dataframe\">\n",
              "  <thead>\n",
              "    <tr style=\"text-align: right;\">\n",
              "      <th></th>\n",
              "      <th>상호명</th>\n",
              "      <th>지점명</th>\n",
              "      <th>시도명</th>\n",
              "      <th>시군구명</th>\n",
              "      <th>도로명주소</th>\n",
              "    </tr>\n",
              "  </thead>\n",
              "  <tbody>\n",
              "    <tr>\n",
              "      <th>28</th>\n",
              "      <td>커피빈</td>\n",
              "      <td>코리아대학로대명거리점</td>\n",
              "      <td>서울특별시</td>\n",
              "      <td>종로구</td>\n",
              "      <td>서울특별시 종로구 대명길 25</td>\n",
              "    </tr>\n",
              "    <tr>\n",
              "      <th>111</th>\n",
              "      <td>요거프레소</td>\n",
              "      <td>쌍문점</td>\n",
              "      <td>서울특별시</td>\n",
              "      <td>도봉구</td>\n",
              "      <td>서울특별시 도봉구 도당로 7</td>\n",
              "    </tr>\n",
              "    <tr>\n",
              "      <th>190</th>\n",
              "      <td>메머드커피</td>\n",
              "      <td>NaN</td>\n",
              "      <td>서울특별시</td>\n",
              "      <td>마포구</td>\n",
              "      <td>서울특별시 마포구 와우산로 149</td>\n",
              "    </tr>\n",
              "    <tr>\n",
              "      <th>197</th>\n",
              "      <td>우성커피숍</td>\n",
              "      <td>NaN</td>\n",
              "      <td>서울특별시</td>\n",
              "      <td>양천구</td>\n",
              "      <td>서울특별시 양천구 오목로 48</td>\n",
              "    </tr>\n",
              "    <tr>\n",
              "      <th>225</th>\n",
              "      <td>카페클럽</td>\n",
              "      <td>NaN</td>\n",
              "      <td>서울특별시</td>\n",
              "      <td>송파구</td>\n",
              "      <td>서울특별시 송파구 동남로2길 3-6</td>\n",
              "    </tr>\n",
              "  </tbody>\n",
              "</table>\n",
              "</div>"
            ],
            "text/plain": [
              "       상호명          지점명    시도명 시군구명                도로명주소\n",
              "28     커피빈  코리아대학로대명거리점  서울특별시  종로구     서울특별시 종로구 대명길 25\n",
              "111  요거프레소          쌍문점  서울특별시  도봉구      서울특별시 도봉구 도당로 7\n",
              "190  메머드커피          NaN  서울특별시  마포구   서울특별시 마포구 와우산로 149\n",
              "197  우성커피숍          NaN  서울특별시  양천구     서울특별시 양천구 오목로 48\n",
              "225   카페클럽          NaN  서울특별시  송파구  서울특별시 송파구 동남로2길 3-6"
            ]
          },
          "metadata": {},
          "execution_count": 7
        }
      ]
    },
    {
      "cell_type": "code",
      "metadata": {
        "colab": {
          "base_uri": "https://localhost:8080/",
          "height": 202
        },
        "id": "OYgwoh6o7KTK",
        "outputId": "bed108a3-5cee-45ce-91b5-9bd5c82026fc"
      },
      "source": [
        "sb = df[df.상호명.str.contains('스타벅스|starbucks', case=False)]\n",
        "sb.head()"
      ],
      "execution_count": null,
      "outputs": [
        {
          "output_type": "execute_result",
          "data": {
            "text/html": [
              "<div>\n",
              "<style scoped>\n",
              "    .dataframe tbody tr th:only-of-type {\n",
              "        vertical-align: middle;\n",
              "    }\n",
              "\n",
              "    .dataframe tbody tr th {\n",
              "        vertical-align: top;\n",
              "    }\n",
              "\n",
              "    .dataframe thead th {\n",
              "        text-align: right;\n",
              "    }\n",
              "</style>\n",
              "<table border=\"1\" class=\"dataframe\">\n",
              "  <thead>\n",
              "    <tr style=\"text-align: right;\">\n",
              "      <th></th>\n",
              "      <th>상호명</th>\n",
              "      <th>지점명</th>\n",
              "      <th>시도명</th>\n",
              "      <th>시군구명</th>\n",
              "      <th>도로명주소</th>\n",
              "    </tr>\n",
              "  </thead>\n",
              "  <tbody>\n",
              "    <tr>\n",
              "      <th>1738</th>\n",
              "      <td>스타벅스</td>\n",
              "      <td>동숭로아트점</td>\n",
              "      <td>서울특별시</td>\n",
              "      <td>종로구</td>\n",
              "      <td>서울특별시 종로구 동숭길 110</td>\n",
              "    </tr>\n",
              "    <tr>\n",
              "      <th>2766</th>\n",
              "      <td>스타벅스남부터미널2점</td>\n",
              "      <td>남부터미널2점</td>\n",
              "      <td>서울특별시</td>\n",
              "      <td>서초구</td>\n",
              "      <td>서울특별시 서초구 효령로 274</td>\n",
              "    </tr>\n",
              "    <tr>\n",
              "      <th>3785</th>\n",
              "      <td>스타벅스</td>\n",
              "      <td>당산점</td>\n",
              "      <td>서울특별시</td>\n",
              "      <td>영등포구</td>\n",
              "      <td>서울특별시 영등포구 양평로 64</td>\n",
              "    </tr>\n",
              "    <tr>\n",
              "      <th>3933</th>\n",
              "      <td>스타벅스</td>\n",
              "      <td>가로수길점</td>\n",
              "      <td>서울특별시</td>\n",
              "      <td>강남구</td>\n",
              "      <td>서울특별시 강남구 논현로175길 94</td>\n",
              "    </tr>\n",
              "    <tr>\n",
              "      <th>3995</th>\n",
              "      <td>스타벅스미아사거리역점</td>\n",
              "      <td>미아사거리역점</td>\n",
              "      <td>서울특별시</td>\n",
              "      <td>강북구</td>\n",
              "      <td>서울특별시 강북구 도봉로 32</td>\n",
              "    </tr>\n",
              "  </tbody>\n",
              "</table>\n",
              "</div>"
            ],
            "text/plain": [
              "              상호명      지점명    시도명  시군구명                 도로명주소\n",
              "1738         스타벅스   동숭로아트점  서울특별시   종로구     서울특별시 종로구 동숭길 110\n",
              "2766  스타벅스남부터미널2점  남부터미널2점  서울특별시   서초구     서울특별시 서초구 효령로 274\n",
              "3785         스타벅스      당산점  서울특별시  영등포구     서울특별시 영등포구 양평로 64\n",
              "3933         스타벅스    가로수길점  서울특별시   강남구  서울특별시 강남구 논현로175길 94\n",
              "3995  스타벅스미아사거리역점  미아사거리역점  서울특별시   강북구      서울특별시 강북구 도봉로 32"
            ]
          },
          "metadata": {},
          "execution_count": 8
        }
      ]
    },
    {
      "cell_type": "code",
      "metadata": {
        "colab": {
          "base_uri": "https://localhost:8080/",
          "height": 202
        },
        "id": "Ue3HIq8qKxvo",
        "outputId": "e9b0e4b6-f59c-4cba-9da3-2622107a268e"
      },
      "source": [
        "cb = df[df.상호명.str.contains('커피빈|coffeebean', case=False)]\n",
        "cb.head()"
      ],
      "execution_count": null,
      "outputs": [
        {
          "output_type": "execute_result",
          "data": {
            "text/html": [
              "<div>\n",
              "<style scoped>\n",
              "    .dataframe tbody tr th:only-of-type {\n",
              "        vertical-align: middle;\n",
              "    }\n",
              "\n",
              "    .dataframe tbody tr th {\n",
              "        vertical-align: top;\n",
              "    }\n",
              "\n",
              "    .dataframe thead th {\n",
              "        text-align: right;\n",
              "    }\n",
              "</style>\n",
              "<table border=\"1\" class=\"dataframe\">\n",
              "  <thead>\n",
              "    <tr style=\"text-align: right;\">\n",
              "      <th></th>\n",
              "      <th>상호명</th>\n",
              "      <th>지점명</th>\n",
              "      <th>시도명</th>\n",
              "      <th>시군구명</th>\n",
              "      <th>도로명주소</th>\n",
              "    </tr>\n",
              "  </thead>\n",
              "  <tbody>\n",
              "    <tr>\n",
              "      <th>28</th>\n",
              "      <td>커피빈</td>\n",
              "      <td>코리아대학로대명거리점</td>\n",
              "      <td>서울특별시</td>\n",
              "      <td>종로구</td>\n",
              "      <td>서울특별시 종로구 대명길 25</td>\n",
              "    </tr>\n",
              "    <tr>\n",
              "      <th>316</th>\n",
              "      <td>커피빈코리아낙성대역점</td>\n",
              "      <td>코리아낙성대역점</td>\n",
              "      <td>서울특별시</td>\n",
              "      <td>관악구</td>\n",
              "      <td>서울특별시 관악구 남부순환로 1909</td>\n",
              "    </tr>\n",
              "    <tr>\n",
              "      <th>1470</th>\n",
              "      <td>커피빈</td>\n",
              "      <td>코리아강남역랭기지타워점</td>\n",
              "      <td>서울특별시</td>\n",
              "      <td>강남구</td>\n",
              "      <td>서울특별시 강남구 테헤란로4길 28</td>\n",
              "    </tr>\n",
              "    <tr>\n",
              "      <th>1491</th>\n",
              "      <td>커피빈</td>\n",
              "      <td>코리아청담성당점</td>\n",
              "      <td>서울특별시</td>\n",
              "      <td>강남구</td>\n",
              "      <td>서울특별시 강남구 삼성로 716</td>\n",
              "    </tr>\n",
              "    <tr>\n",
              "      <th>1506</th>\n",
              "      <td>커피빈</td>\n",
              "      <td>코리아청담에스점</td>\n",
              "      <td>서울특별시</td>\n",
              "      <td>강남구</td>\n",
              "      <td>서울특별시 강남구 압구정로 461</td>\n",
              "    </tr>\n",
              "  </tbody>\n",
              "</table>\n",
              "</div>"
            ],
            "text/plain": [
              "              상호명           지점명    시도명 시군구명                 도로명주소\n",
              "28            커피빈   코리아대학로대명거리점  서울특별시  종로구      서울특별시 종로구 대명길 25\n",
              "316   커피빈코리아낙성대역점      코리아낙성대역점  서울특별시  관악구  서울특별시 관악구 남부순환로 1909\n",
              "1470          커피빈  코리아강남역랭기지타워점  서울특별시  강남구   서울특별시 강남구 테헤란로4길 28\n",
              "1491          커피빈      코리아청담성당점  서울특별시  강남구     서울특별시 강남구 삼성로 716\n",
              "1506          커피빈      코리아청담에스점  서울특별시  강남구    서울특별시 강남구 압구정로 461"
            ]
          },
          "metadata": {},
          "execution_count": 9
        }
      ]
    },
    {
      "cell_type": "code",
      "metadata": {
        "colab": {
          "base_uri": "https://localhost:8080/",
          "height": 202
        },
        "id": "NKfcAHttKzUZ",
        "outputId": "88e76c8d-0c16-4281-af52-ca5b3b3c6d79"
      },
      "source": [
        "ed = df[df.상호명.str.contains('이디야|ediya', case=False)]\n",
        "ed.head()"
      ],
      "execution_count": null,
      "outputs": [
        {
          "output_type": "execute_result",
          "data": {
            "text/html": [
              "<div>\n",
              "<style scoped>\n",
              "    .dataframe tbody tr th:only-of-type {\n",
              "        vertical-align: middle;\n",
              "    }\n",
              "\n",
              "    .dataframe tbody tr th {\n",
              "        vertical-align: top;\n",
              "    }\n",
              "\n",
              "    .dataframe thead th {\n",
              "        text-align: right;\n",
              "    }\n",
              "</style>\n",
              "<table border=\"1\" class=\"dataframe\">\n",
              "  <thead>\n",
              "    <tr style=\"text-align: right;\">\n",
              "      <th></th>\n",
              "      <th>상호명</th>\n",
              "      <th>지점명</th>\n",
              "      <th>시도명</th>\n",
              "      <th>시군구명</th>\n",
              "      <th>도로명주소</th>\n",
              "    </tr>\n",
              "  </thead>\n",
              "  <tbody>\n",
              "    <tr>\n",
              "      <th>1272</th>\n",
              "      <td>이디야커피</td>\n",
              "      <td>신길역점</td>\n",
              "      <td>서울특별시</td>\n",
              "      <td>영등포구</td>\n",
              "      <td>서울특별시 영등포구 영등포로 353</td>\n",
              "    </tr>\n",
              "    <tr>\n",
              "      <th>1411</th>\n",
              "      <td>이디야커피</td>\n",
              "      <td>라이프점</td>\n",
              "      <td>서울특별시</td>\n",
              "      <td>영등포구</td>\n",
              "      <td>서울특별시 영등포구 63로 40</td>\n",
              "    </tr>\n",
              "    <tr>\n",
              "      <th>2433</th>\n",
              "      <td>이디야커피양재AT점</td>\n",
              "      <td>양재AT점</td>\n",
              "      <td>서울특별시</td>\n",
              "      <td>서초구</td>\n",
              "      <td>서울특별시 서초구 동산로 3</td>\n",
              "    </tr>\n",
              "    <tr>\n",
              "      <th>2785</th>\n",
              "      <td>이디야커피</td>\n",
              "      <td>시흥점</td>\n",
              "      <td>서울특별시</td>\n",
              "      <td>금천구</td>\n",
              "      <td>서울특별시 금천구 금하로 750</td>\n",
              "    </tr>\n",
              "    <tr>\n",
              "      <th>4498</th>\n",
              "      <td>이디야커피</td>\n",
              "      <td>개봉중앙점</td>\n",
              "      <td>서울특별시</td>\n",
              "      <td>구로구</td>\n",
              "      <td>서울특별시 구로구 개봉로3길 26</td>\n",
              "    </tr>\n",
              "  </tbody>\n",
              "</table>\n",
              "</div>"
            ],
            "text/plain": [
              "             상호명    지점명    시도명  시군구명                도로명주소\n",
              "1272       이디야커피   신길역점  서울특별시  영등포구  서울특별시 영등포구 영등포로 353\n",
              "1411       이디야커피   라이프점  서울특별시  영등포구    서울특별시 영등포구 63로 40\n",
              "2433  이디야커피양재AT점  양재AT점  서울특별시   서초구      서울특별시 서초구 동산로 3\n",
              "2785       이디야커피    시흥점  서울특별시   금천구    서울특별시 금천구 금하로 750\n",
              "4498       이디야커피  개봉중앙점  서울특별시   구로구   서울특별시 구로구 개봉로3길 26"
            ]
          },
          "metadata": {},
          "execution_count": 10
        }
      ]
    },
    {
      "cell_type": "code",
      "metadata": {
        "colab": {
          "base_uri": "https://localhost:8080/",
          "height": 202
        },
        "id": "0K_fzdhTKzHy",
        "outputId": "465f6a74-f8c6-44c6-a177-8bc234562f1a"
      },
      "source": [
        "paik = df[df.상호명.str.contains('빽다방|paikscoffee', case=False)]\n",
        "paik.head()"
      ],
      "execution_count": null,
      "outputs": [
        {
          "output_type": "execute_result",
          "data": {
            "text/html": [
              "<div>\n",
              "<style scoped>\n",
              "    .dataframe tbody tr th:only-of-type {\n",
              "        vertical-align: middle;\n",
              "    }\n",
              "\n",
              "    .dataframe tbody tr th {\n",
              "        vertical-align: top;\n",
              "    }\n",
              "\n",
              "    .dataframe thead th {\n",
              "        text-align: right;\n",
              "    }\n",
              "</style>\n",
              "<table border=\"1\" class=\"dataframe\">\n",
              "  <thead>\n",
              "    <tr style=\"text-align: right;\">\n",
              "      <th></th>\n",
              "      <th>상호명</th>\n",
              "      <th>지점명</th>\n",
              "      <th>시도명</th>\n",
              "      <th>시군구명</th>\n",
              "      <th>도로명주소</th>\n",
              "    </tr>\n",
              "  </thead>\n",
              "  <tbody>\n",
              "    <tr>\n",
              "      <th>7607</th>\n",
              "      <td>빽다방공덕새창로점</td>\n",
              "      <td>공덕새창로점</td>\n",
              "      <td>서울특별시</td>\n",
              "      <td>마포구</td>\n",
              "      <td>서울특별시 마포구 새창로 15-1</td>\n",
              "    </tr>\n",
              "    <tr>\n",
              "      <th>8565</th>\n",
              "      <td>빽다방서초우성점</td>\n",
              "      <td>서초우성점</td>\n",
              "      <td>서울특별시</td>\n",
              "      <td>서초구</td>\n",
              "      <td>서울특별시 서초구 사임당로 181</td>\n",
              "    </tr>\n",
              "    <tr>\n",
              "      <th>19901</th>\n",
              "      <td>빽다방중계은행사거리점</td>\n",
              "      <td>중계은행사거리점</td>\n",
              "      <td>서울특별시</td>\n",
              "      <td>노원구</td>\n",
              "      <td>서울특별시 노원구 한글비석로 235</td>\n",
              "    </tr>\n",
              "    <tr>\n",
              "      <th>26972</th>\n",
              "      <td>빽다방성신여대점</td>\n",
              "      <td>성신여대점</td>\n",
              "      <td>서울특별시</td>\n",
              "      <td>성북구</td>\n",
              "      <td>서울특별시 성북구 동소문로20나길 3</td>\n",
              "    </tr>\n",
              "    <tr>\n",
              "      <th>27346</th>\n",
              "      <td>빽다방신림역1호점</td>\n",
              "      <td>신림역1호점</td>\n",
              "      <td>서울특별시</td>\n",
              "      <td>관악구</td>\n",
              "      <td>서울특별시 관악구 남부순환로 1592</td>\n",
              "    </tr>\n",
              "  </tbody>\n",
              "</table>\n",
              "</div>"
            ],
            "text/plain": [
              "               상호명       지점명    시도명 시군구명                 도로명주소\n",
              "7607     빽다방공덕새창로점    공덕새창로점  서울특별시  마포구    서울특별시 마포구 새창로 15-1\n",
              "8565      빽다방서초우성점     서초우성점  서울특별시  서초구    서울특별시 서초구 사임당로 181\n",
              "19901  빽다방중계은행사거리점  중계은행사거리점  서울특별시  노원구   서울특별시 노원구 한글비석로 235\n",
              "26972     빽다방성신여대점     성신여대점  서울특별시  성북구  서울특별시 성북구 동소문로20나길 3\n",
              "27346    빽다방신림역1호점    신림역1호점  서울특별시  관악구  서울특별시 관악구 남부순환로 1592"
            ]
          },
          "metadata": {},
          "execution_count": 11
        }
      ]
    },
    {
      "cell_type": "code",
      "metadata": {
        "colab": {
          "base_uri": "https://localhost:8080/"
        },
        "id": "uNl6MgZsKzDx",
        "outputId": "da99fd35-bd8c-4d8b-c5ac-b0e52f74f217"
      },
      "source": [
        "len(sb), len(cb), len(ed), len(paik)"
      ],
      "execution_count": null,
      "outputs": [
        {
          "output_type": "execute_result",
          "data": {
            "text/plain": [
              "(489, 169, 440, 127)"
            ]
          },
          "metadata": {},
          "execution_count": 12
        }
      ]
    },
    {
      "cell_type": "markdown",
      "metadata": {
        "id": "EJmZfO4gM4cz"
      },
      "source": [
        "## 전국 데이터에서 4개 매장 정보 추출하기"
      ]
    },
    {
      "cell_type": "code",
      "metadata": {
        "id": "4cDvyhDIKyl2"
      },
      "source": [
        "starbucks = pd.DataFrame(columns=['상호명', '지점명', '시도명', '시군구명', '도로명주소'])\n",
        "coffeebean = pd.DataFrame(columns=['상호명', '지점명', '시도명', '시군구명', '도로명주소'])\n",
        "ediya = pd.DataFrame(columns=['상호명', '지점명', '시도명', '시군구명', '도로명주소'])\n",
        "paikscoffee = pd.DataFrame(columns=['상호명', '지점명', '시도명', '시군구명', '도로명주소'])"
      ],
      "execution_count": null,
      "outputs": []
    },
    {
      "cell_type": "code",
      "metadata": {
        "colab": {
          "base_uri": "https://localhost:8080/"
        },
        "id": "nfP26MODN2oX",
        "outputId": "e32d23f7-d57e-4c52-b73e-787bdd90fdf6"
      },
      "source": [
        "from glob import glob\n",
        "for filename in glob(f'{data_folder}/*.csv'):\n",
        "    print(file)\n",
        "    df = pd.read_csv(filename)\n",
        "    df = df[df.상권업종중분류코드 == 'Q12']\n",
        "    df = df[['상호명', '지점명', '시도명', '시군구명', '도로명주소']]\n",
        "\n",
        "    sb = df[df.상호명.str.contains('스타벅스|starbucks', case=False)]\n",
        "    cb = df[df.상호명.str.contains('커피빈|coffeebean', case=False)]\n",
        "    ed = df[df.상호명.str.contains('이디야|ediya', case=False)]\n",
        "    paik = df[df.상호명.str.contains('빽다방|paikscoffee', case=False)]\n",
        "\n",
        "    starbucks = pd.concat([starbucks, sb])\n",
        "    coffeebean = pd.concat([coffeebean, cb])\n",
        "    ediya = pd.concat([ediya, ed])\n",
        "    paikscoffee = pd.concat([paikscoffee, paik])"
      ],
      "execution_count": null,
      "outputs": [
        {
          "output_type": "stream",
          "name": "stdout",
          "text": [
            "/content/mnt/MyDrive/데이터/소상공인시장진흥공단/소상공인시장진흥공단_상가(상권)정보_충북_202106.csv\n",
            "/content/mnt/MyDrive/데이터/소상공인시장진흥공단/소상공인시장진흥공단_상가(상권)정보_충북_202106.csv\n",
            "/content/mnt/MyDrive/데이터/소상공인시장진흥공단/소상공인시장진흥공단_상가(상권)정보_충북_202106.csv\n",
            "/content/mnt/MyDrive/데이터/소상공인시장진흥공단/소상공인시장진흥공단_상가(상권)정보_충북_202106.csv\n",
            "/content/mnt/MyDrive/데이터/소상공인시장진흥공단/소상공인시장진흥공단_상가(상권)정보_충북_202106.csv\n",
            "/content/mnt/MyDrive/데이터/소상공인시장진흥공단/소상공인시장진흥공단_상가(상권)정보_충북_202106.csv\n",
            "/content/mnt/MyDrive/데이터/소상공인시장진흥공단/소상공인시장진흥공단_상가(상권)정보_충북_202106.csv\n",
            "/content/mnt/MyDrive/데이터/소상공인시장진흥공단/소상공인시장진흥공단_상가(상권)정보_충북_202106.csv\n",
            "/content/mnt/MyDrive/데이터/소상공인시장진흥공단/소상공인시장진흥공단_상가(상권)정보_충북_202106.csv\n",
            "/content/mnt/MyDrive/데이터/소상공인시장진흥공단/소상공인시장진흥공단_상가(상권)정보_충북_202106.csv\n",
            "/content/mnt/MyDrive/데이터/소상공인시장진흥공단/소상공인시장진흥공단_상가(상권)정보_충북_202106.csv\n",
            "/content/mnt/MyDrive/데이터/소상공인시장진흥공단/소상공인시장진흥공단_상가(상권)정보_충북_202106.csv\n",
            "/content/mnt/MyDrive/데이터/소상공인시장진흥공단/소상공인시장진흥공단_상가(상권)정보_충북_202106.csv\n",
            "/content/mnt/MyDrive/데이터/소상공인시장진흥공단/소상공인시장진흥공단_상가(상권)정보_충북_202106.csv\n",
            "/content/mnt/MyDrive/데이터/소상공인시장진흥공단/소상공인시장진흥공단_상가(상권)정보_충북_202106.csv\n",
            "/content/mnt/MyDrive/데이터/소상공인시장진흥공단/소상공인시장진흥공단_상가(상권)정보_충북_202106.csv\n",
            "/content/mnt/MyDrive/데이터/소상공인시장진흥공단/소상공인시장진흥공단_상가(상권)정보_충북_202106.csv\n"
          ]
        }
      ]
    },
    {
      "cell_type": "code",
      "metadata": {
        "id": "_tc-O4ZaO30C"
      },
      "source": [
        "result_dir = '/content/mnt/MyDrive/results/CoffeeIndex'"
      ],
      "execution_count": null,
      "outputs": []
    },
    {
      "cell_type": "code",
      "metadata": {
        "id": "MkDI583tPQaM"
      },
      "source": [
        "!mkdir -p $result_dir"
      ],
      "execution_count": null,
      "outputs": []
    },
    {
      "cell_type": "code",
      "metadata": {
        "id": "4yVLoGdzPorM"
      },
      "source": [
        "starbucks.to_csv(f'{result_dir}/스타벅스.csv', index=False)"
      ],
      "execution_count": null,
      "outputs": []
    },
    {
      "cell_type": "code",
      "metadata": {
        "id": "-9uZtMeJP7MR"
      },
      "source": [
        "coffeebean.to_csv(f'{result_dir}/커피빈.csv', index=False)\n",
        "ediya.to_csv(f'{result_dir}/이디야.csv', index=False)\n",
        "paikscoffee.to_csv(f'{result_dir}/빽다방.csv', index=False)"
      ],
      "execution_count": null,
      "outputs": []
    },
    {
      "cell_type": "code",
      "metadata": {
        "id": "3NmWm9x5QI9U"
      },
      "source": [
        ""
      ],
      "execution_count": null,
      "outputs": []
    }
  ]
}