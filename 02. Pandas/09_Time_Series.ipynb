{
  "nbformat": 4,
  "nbformat_minor": 0,
  "metadata": {
    "colab": {
      "name": "09_Time_Series.ipynb",
      "provenance": [],
      "collapsed_sections": []
    },
    "kernelspec": {
      "name": "python3",
      "display_name": "Python 3"
    },
    "language_info": {
      "name": "python"
    }
  },
  "cells": [
    {
      "cell_type": "markdown",
      "metadata": {
        "id": "YPNAFdHF4N3s"
      },
      "source": [
        "# 시계열"
      ]
    },
    {
      "cell_type": "code",
      "metadata": {
        "id": "1QoVpAZr4xCq"
      },
      "source": [
        "import numpy as np\n",
        "import pandas as pd"
      ],
      "execution_count": 5,
      "outputs": []
    },
    {
      "cell_type": "markdown",
      "metadata": {
        "id": "rVuauEZI4RYg"
      },
      "source": [
        "## Datetimeindex"
      ]
    },
    {
      "cell_type": "code",
      "metadata": {
        "colab": {
          "base_uri": "https://localhost:8080/"
        },
        "id": "iT_XStgM3qX7",
        "outputId": "32490a4f-dcff-488b-9715-f1181c0d36de"
      },
      "source": [
        "date_str = [\"2021, 8, 10\", \"2021-8-11\", \"20210812\", \"2021.8.13\", '081521', '8/15/21']\n",
        "idx = pd.to_datetime(date_str)\n",
        "idx"
      ],
      "execution_count": 12,
      "outputs": [
        {
          "output_type": "execute_result",
          "data": {
            "text/plain": [
              "DatetimeIndex(['2021-08-10', '2021-08-11', '2021-08-12', '2021-08-13',\n",
              "               '2021-08-15', '2021-08-15'],\n",
              "              dtype='datetime64[ns]', freq=None)"
            ]
          },
          "metadata": {
            "tags": []
          },
          "execution_count": 12
        }
      ]
    },
    {
      "cell_type": "code",
      "metadata": {
        "colab": {
          "base_uri": "https://localhost:8080/"
        },
        "id": "IPafzQLQ43oi",
        "outputId": "e16ea532-dfcd-4736-de63-eefb20a70893"
      },
      "source": [
        "np.random.seed(2021)\n",
        "s = pd.Series(np.random.randn(6), index=idx)\n",
        "s"
      ],
      "execution_count": 13,
      "outputs": [
        {
          "output_type": "execute_result",
          "data": {
            "text/plain": [
              "2021-08-10    1.488609\n",
              "2021-08-11    0.676011\n",
              "2021-08-12   -0.418451\n",
              "2021-08-13   -0.806521\n",
              "2021-08-15    0.555876\n",
              "2021-08-15   -0.705504\n",
              "dtype: float64"
            ]
          },
          "metadata": {
            "tags": []
          },
          "execution_count": 13
        }
      ]
    },
    {
      "cell_type": "code",
      "metadata": {
        "colab": {
          "base_uri": "https://localhost:8080/"
        },
        "id": "F_-4GoPv5oFK",
        "outputId": "bff9af80-548f-419a-9131-47828c13c981"
      },
      "source": [
        "pd.date_range('20210801','2021-8-31')"
      ],
      "execution_count": 15,
      "outputs": [
        {
          "output_type": "execute_result",
          "data": {
            "text/plain": [
              "DatetimeIndex(['2021-08-01', '2021-08-02', '2021-08-03', '2021-08-04',\n",
              "               '2021-08-05', '2021-08-06', '2021-08-07', '2021-08-08',\n",
              "               '2021-08-09', '2021-08-10', '2021-08-11', '2021-08-12',\n",
              "               '2021-08-13', '2021-08-14', '2021-08-15', '2021-08-16',\n",
              "               '2021-08-17', '2021-08-18', '2021-08-19', '2021-08-20',\n",
              "               '2021-08-21', '2021-08-22', '2021-08-23', '2021-08-24',\n",
              "               '2021-08-25', '2021-08-26', '2021-08-27', '2021-08-28',\n",
              "               '2021-08-29', '2021-08-30', '2021-08-31'],\n",
              "              dtype='datetime64[ns]', freq='D')"
            ]
          },
          "metadata": {
            "tags": []
          },
          "execution_count": 15
        }
      ]
    },
    {
      "cell_type": "code",
      "metadata": {
        "colab": {
          "base_uri": "https://localhost:8080/"
        },
        "id": "biE6kopd59Ov",
        "outputId": "bbdadeab-bab9-4778-c4d3-157c8269eeda"
      },
      "source": [
        "# day\n",
        "pd.date_range('20210801', periods=31)"
      ],
      "execution_count": 16,
      "outputs": [
        {
          "output_type": "execute_result",
          "data": {
            "text/plain": [
              "DatetimeIndex(['2021-08-01', '2021-08-02', '2021-08-03', '2021-08-04',\n",
              "               '2021-08-05', '2021-08-06', '2021-08-07', '2021-08-08',\n",
              "               '2021-08-09', '2021-08-10', '2021-08-11', '2021-08-12',\n",
              "               '2021-08-13', '2021-08-14', '2021-08-15', '2021-08-16',\n",
              "               '2021-08-17', '2021-08-18', '2021-08-19', '2021-08-20',\n",
              "               '2021-08-21', '2021-08-22', '2021-08-23', '2021-08-24',\n",
              "               '2021-08-25', '2021-08-26', '2021-08-27', '2021-08-28',\n",
              "               '2021-08-29', '2021-08-30', '2021-08-31'],\n",
              "              dtype='datetime64[ns]', freq='D')"
            ]
          },
          "metadata": {
            "tags": []
          },
          "execution_count": 16
        }
      ]
    },
    {
      "cell_type": "code",
      "metadata": {
        "colab": {
          "base_uri": "https://localhost:8080/"
        },
        "id": "4larOnTe9XvX",
        "outputId": "5cbc6832-180f-44f5-e436-8a86835ea194"
      },
      "source": [
        "# Biz day\n",
        "pd.date_range('20210801', periods=22, freq='B')"
      ],
      "execution_count": 18,
      "outputs": [
        {
          "output_type": "execute_result",
          "data": {
            "text/plain": [
              "DatetimeIndex(['2021-08-02', '2021-08-03', '2021-08-04', '2021-08-05',\n",
              "               '2021-08-06', '2021-08-09', '2021-08-10', '2021-08-11',\n",
              "               '2021-08-12', '2021-08-13', '2021-08-16', '2021-08-17',\n",
              "               '2021-08-18', '2021-08-19', '2021-08-20', '2021-08-23',\n",
              "               '2021-08-24', '2021-08-25', '2021-08-26', '2021-08-27',\n",
              "               '2021-08-30', '2021-08-31'],\n",
              "              dtype='datetime64[ns]', freq='B')"
            ]
          },
          "metadata": {
            "tags": []
          },
          "execution_count": 18
        }
      ]
    },
    {
      "cell_type": "code",
      "metadata": {
        "colab": {
          "base_uri": "https://localhost:8080/"
        },
        "id": "7xFbtqqW9dnX",
        "outputId": "dabde6aa-808d-430a-d686-1eff76e71cfd"
      },
      "source": [
        "# sunday\n",
        "pd.date_range('20210801', '20210831', freq='W')"
      ],
      "execution_count": 20,
      "outputs": [
        {
          "output_type": "execute_result",
          "data": {
            "text/plain": [
              "DatetimeIndex(['2021-08-01', '2021-08-08', '2021-08-15', '2021-08-22',\n",
              "               '2021-08-29'],\n",
              "              dtype='datetime64[ns]', freq='W-SUN')"
            ]
          },
          "metadata": {
            "tags": []
          },
          "execution_count": 20
        }
      ]
    },
    {
      "cell_type": "markdown",
      "metadata": {
        "id": "WqTZHHNf-ZiR"
      },
      "source": [
        "### resample 연산"
      ]
    },
    {
      "cell_type": "code",
      "metadata": {
        "colab": {
          "base_uri": "https://localhost:8080/"
        },
        "id": "0O7DDQ1T9sKg",
        "outputId": "4cd58775-fc5a-42f1-a658-90b8ffd14ae9"
      },
      "source": [
        "ts = pd.Series(np.random.randn(100), \n",
        "               index=pd.date_range(\"2021-1-1\", periods=100))\n",
        "ts.tail(10)"
      ],
      "execution_count": 23,
      "outputs": [
        {
          "output_type": "execute_result",
          "data": {
            "text/plain": [
              "2021-04-01   -0.432416\n",
              "2021-04-02    0.425937\n",
              "2021-04-03    0.756636\n",
              "2021-04-04   -0.994854\n",
              "2021-04-05   -0.740574\n",
              "2021-04-06    0.458233\n",
              "2021-04-07    1.257247\n",
              "2021-04-08   -0.441704\n",
              "2021-04-09    0.541335\n",
              "2021-04-10    0.567278\n",
              "Freq: D, dtype: float64"
            ]
          },
          "metadata": {
            "tags": []
          },
          "execution_count": 23
        }
      ]
    },
    {
      "cell_type": "code",
      "metadata": {
        "colab": {
          "base_uri": "https://localhost:8080/"
        },
        "id": "iOP6xaD3-sJJ",
        "outputId": "f8b93b40-9f3e-45c8-d93b-26cbaa06d19b"
      },
      "source": [
        "ts.resample('W').sum()"
      ],
      "execution_count": 26,
      "outputs": [
        {
          "output_type": "execute_result",
          "data": {
            "text/plain": [
              "2021-01-03    1.882274\n",
              "2021-01-10   -0.587323\n",
              "2021-01-17    0.482156\n",
              "2021-01-24    2.529930\n",
              "2021-01-31    2.592073\n",
              "2021-02-07   -0.748707\n",
              "2021-02-14   -0.616711\n",
              "2021-02-21   -2.130237\n",
              "2021-02-28    3.162516\n",
              "2021-03-07    2.101247\n",
              "2021-03-14   -2.296551\n",
              "2021-03-21    2.385758\n",
              "2021-03-28    2.711540\n",
              "2021-04-04    0.862270\n",
              "2021-04-11    1.641815\n",
              "Freq: W-SUN, dtype: float64"
            ]
          },
          "metadata": {
            "tags": []
          },
          "execution_count": 26
        }
      ]
    },
    {
      "cell_type": "code",
      "metadata": {
        "id": "k4K0dJM7-4F1"
      },
      "source": [
        ""
      ],
      "execution_count": null,
      "outputs": []
    }
  ]
}