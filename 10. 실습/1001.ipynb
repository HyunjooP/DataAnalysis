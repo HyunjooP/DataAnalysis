{
  "nbformat": 4,
  "nbformat_minor": 0,
  "metadata": {
    "colab": {
      "name": "박현주_1001.ipynb",
      "provenance": [],
      "collapsed_sections": [
        "8O_5QaH3IrmU",
        "QkiWSjQqJQ_r",
        "CZD9yeBFJWVC",
        "STwRqPCbuXDt",
        "TdfknSSpElnE",
        "UIbfglnQEw8h"
      ]
    },
    "kernelspec": {
      "name": "python3",
      "display_name": "Python 3"
    },
    "language_info": {
      "name": "python"
    }
  },
  "cells": [
    {
      "cell_type": "code",
      "metadata": {
        "colab": {
          "base_uri": "https://localhost:8080/"
        },
        "id": "bOwgW8UgR6TD",
        "outputId": "ff21b791-5c72-4935-f9d1-7c55fea00b41"
      },
      "source": [
        "from google.colab import drive\n",
        "drive.mount('/gdrive', force_remount=True)"
      ],
      "execution_count": 3,
      "outputs": [
        {
          "output_type": "stream",
          "name": "stdout",
          "text": [
            "Mounted at /gdrive\n"
          ]
        }
      ]
    },
    {
      "cell_type": "code",
      "metadata": {
        "colab": {
          "base_uri": "https://localhost:8080/"
        },
        "id": "PoZgAkvmSnGM",
        "outputId": "9cd57287-53a1-4ddd-ec25-57f42e826aa8"
      },
      "source": [
        "from google.colab import drive\n",
        "drive.mount('/content/drive')"
      ],
      "execution_count": 4,
      "outputs": [
        {
          "output_type": "stream",
          "name": "stdout",
          "text": [
            "Mounted at /content/drive\n"
          ]
        }
      ]
    },
    {
      "cell_type": "code",
      "metadata": {
        "colab": {
          "base_uri": "https://localhost:8080/"
        },
        "id": "A61jePWJSnC2",
        "outputId": "88c35e2d-b11d-4428-b0b1-cb2f58d4eff3"
      },
      "source": [
        "import pandas as pd\n",
        "import numpy as np\n",
        "import seaborn as sns\n",
        "import matplotlib as mpl\n",
        "import matplotlib.pyplot as plt\n",
        "!sudo apt install -y fonts-nanum*  > /dev/null\n",
        "!sudo fc-cache -fv                 > /dev/null\n",
        "!rm ~/.cache/matplotlib -rf        > /dev/null\n",
        "mpl.rc('font', family='NanumGothic')\n",
        "\n",
        "mpl.rc('axes', unicode_minus=False)"
      ],
      "execution_count": 7,
      "outputs": [
        {
          "output_type": "stream",
          "name": "stdout",
          "text": [
            "\n",
            "WARNING: apt does not have a stable CLI interface. Use with caution in scripts.\n",
            "\n"
          ]
        }
      ]
    },
    {
      "cell_type": "code",
      "metadata": {
        "id": "PteJVYtOKK_z"
      },
      "source": [
        "hs = '/content/drive/MyDrive/4조_헬스케어/자료파일/1차전처리/healthcare_edit.csv'\n",
        "df = '/content/drive/MyDrive/4조_헬스케어/자료파일/1차전처리/인구대비데이터정리.csv'\n",
        "ar = '/content/drive/MyDrive/4조_헬스케어/자료파일/1차전처리/면적(2019).csv'\n",
        "\n",
        "hs = pd.read_csv(hs)\n",
        "df = pd.read_csv(df)\n",
        "ar = pd.read_csv(ar)"
      ],
      "execution_count": 451,
      "outputs": []
    },
    {
      "cell_type": "markdown",
      "metadata": {
        "id": "8O_5QaH3IrmU"
      },
      "source": [
        "## 요양급여비+입내원일수 추가"
      ]
    },
    {
      "cell_type": "code",
      "metadata": {
        "colab": {
          "base_uri": "https://localhost:8080/"
        },
        "id": "1exNJ0vpToSF",
        "outputId": "309c49fc-d938-44fc-94d1-67df65b96bf0"
      },
      "source": [
        "hs.dtypes"
      ],
      "execution_count": 459,
      "outputs": [
        {
          "output_type": "execute_result",
          "data": {
            "text/plain": [
              "Unnamed: 0      int64\n",
              "가입자 일련번호        int64\n",
              "연령대코드           int64\n",
              "시도코드            int64\n",
              "서식코드            int64\n",
              "진료과목코드          int64\n",
              "주상병코드          object\n",
              "입내원일수           int64\n",
              "심결가산율         float64\n",
              "심결요양급여비용총액      int64\n",
              "dtype: object"
            ]
          },
          "metadata": {},
          "execution_count": 459
        }
      ]
    },
    {
      "cell_type": "code",
      "metadata": {
        "colab": {
          "base_uri": "https://localhost:8080/",
          "height": 237
        },
        "id": "oUoSidG346y-",
        "outputId": "8b48b6d7-37e2-4dcd-85e2-19a9223c84be"
      },
      "source": [
        "df2 = hs.groupby('시도코드')[['입내원일수', '심결요양급여비용총액']].sum()\n",
        "df2.head()"
      ],
      "execution_count": 460,
      "outputs": [
        {
          "output_type": "execute_result",
          "data": {
            "text/html": [
              "<div>\n",
              "<style scoped>\n",
              "    .dataframe tbody tr th:only-of-type {\n",
              "        vertical-align: middle;\n",
              "    }\n",
              "\n",
              "    .dataframe tbody tr th {\n",
              "        vertical-align: top;\n",
              "    }\n",
              "\n",
              "    .dataframe thead th {\n",
              "        text-align: right;\n",
              "    }\n",
              "</style>\n",
              "<table border=\"1\" class=\"dataframe\">\n",
              "  <thead>\n",
              "    <tr style=\"text-align: right;\">\n",
              "      <th></th>\n",
              "      <th>입내원일수</th>\n",
              "      <th>심결요양급여비용총액</th>\n",
              "    </tr>\n",
              "    <tr>\n",
              "      <th>시도코드</th>\n",
              "      <th></th>\n",
              "      <th></th>\n",
              "    </tr>\n",
              "  </thead>\n",
              "  <tbody>\n",
              "    <tr>\n",
              "      <th>11</th>\n",
              "      <td>4191024</td>\n",
              "      <td>187836166960</td>\n",
              "    </tr>\n",
              "    <tr>\n",
              "      <th>21</th>\n",
              "      <td>1914593</td>\n",
              "      <td>85683171090</td>\n",
              "    </tr>\n",
              "    <tr>\n",
              "      <th>22</th>\n",
              "      <td>1113887</td>\n",
              "      <td>50084064620</td>\n",
              "    </tr>\n",
              "    <tr>\n",
              "      <th>23</th>\n",
              "      <td>1272059</td>\n",
              "      <td>59609191530</td>\n",
              "    </tr>\n",
              "    <tr>\n",
              "      <th>24</th>\n",
              "      <td>696180</td>\n",
              "      <td>32915444680</td>\n",
              "    </tr>\n",
              "  </tbody>\n",
              "</table>\n",
              "</div>"
            ],
            "text/plain": [
              "        입내원일수    심결요양급여비용총액\n",
              "시도코드                       \n",
              "11    4191024  187836166960\n",
              "21    1914593   85683171090\n",
              "22    1113887   50084064620\n",
              "23    1272059   59609191530\n",
              "24     696180   32915444680"
            ]
          },
          "metadata": {},
          "execution_count": 460
        }
      ]
    },
    {
      "cell_type": "code",
      "metadata": {
        "colab": {
          "base_uri": "https://localhost:8080/",
          "height": 438
        },
        "id": "cVNubPWTSgVq",
        "outputId": "3d0df6d3-e9ae-4239-92a8-2c7e0aa2af3f"
      },
      "source": [
        "df3 = pd.merge(df, df2, on='시도코드')\n",
        "del df3['Unnamed: 0']\n",
        "df3.rename(columns={'십만명당 회피가능사망율':'십만명당 회피가능사망수'},inplace=True)\n",
        "df3.head(3)"
      ],
      "execution_count": 461,
      "outputs": [
        {
          "output_type": "execute_result",
          "data": {
            "text/html": [
              "<div>\n",
              "<style scoped>\n",
              "    .dataframe tbody tr th:only-of-type {\n",
              "        vertical-align: middle;\n",
              "    }\n",
              "\n",
              "    .dataframe tbody tr th {\n",
              "        vertical-align: top;\n",
              "    }\n",
              "\n",
              "    .dataframe thead th {\n",
              "        text-align: right;\n",
              "    }\n",
              "</style>\n",
              "<table border=\"1\" class=\"dataframe\">\n",
              "  <thead>\n",
              "    <tr style=\"text-align: right;\">\n",
              "      <th></th>\n",
              "      <th>시도코드</th>\n",
              "      <th>시도명</th>\n",
              "      <th>십만명당 회피가능사망수</th>\n",
              "      <th>총 인구</th>\n",
              "      <th>주민등록인구</th>\n",
              "      <th>의료인수합계</th>\n",
              "      <th>의사</th>\n",
              "      <th>간호사</th>\n",
              "      <th>천명당 의료인수</th>\n",
              "      <th>천명당 의사수</th>\n",
              "      <th>천명당 간호사수</th>\n",
              "      <th>병상수합계</th>\n",
              "      <th>천명당 병상수</th>\n",
              "      <th>요양기관합계</th>\n",
              "      <th>상급종합병원</th>\n",
              "      <th>종합병원</th>\n",
              "      <th>병원</th>\n",
              "      <th>의원</th>\n",
              "      <th>천명당 요양기관수</th>\n",
              "      <th>천명당 상급+종합병원수</th>\n",
              "      <th>입내원일수</th>\n",
              "      <th>심결요양급여비용총액</th>\n",
              "    </tr>\n",
              "  </thead>\n",
              "  <tbody>\n",
              "    <tr>\n",
              "      <th>0</th>\n",
              "      <td>11</td>\n",
              "      <td>서울특별시</td>\n",
              "      <td>66.496942</td>\n",
              "      <td>9639541</td>\n",
              "      <td>9729107</td>\n",
              "      <td>114861</td>\n",
              "      <td>30359</td>\n",
              "      <td>52727</td>\n",
              "      <td>11.805914</td>\n",
              "      <td>3.120430</td>\n",
              "      <td>5.419511</td>\n",
              "      <td>88059</td>\n",
              "      <td>9.1</td>\n",
              "      <td>8924</td>\n",
              "      <td>13</td>\n",
              "      <td>44</td>\n",
              "      <td>228</td>\n",
              "      <td>8628</td>\n",
              "      <td>0.917248</td>\n",
              "      <td>0.005859</td>\n",
              "      <td>4191024</td>\n",
              "      <td>187836166960</td>\n",
              "    </tr>\n",
              "    <tr>\n",
              "      <th>1</th>\n",
              "      <td>21</td>\n",
              "      <td>부산광역시</td>\n",
              "      <td>86.370176</td>\n",
              "      <td>3372692</td>\n",
              "      <td>3413841</td>\n",
              "      <td>37028</td>\n",
              "      <td>8008</td>\n",
              "      <td>18514</td>\n",
              "      <td>10.846434</td>\n",
              "      <td>2.345745</td>\n",
              "      <td>5.423217</td>\n",
              "      <td>69862</td>\n",
              "      <td>20.5</td>\n",
              "      <td>2576</td>\n",
              "      <td>4</td>\n",
              "      <td>25</td>\n",
              "      <td>142</td>\n",
              "      <td>2384</td>\n",
              "      <td>0.754575</td>\n",
              "      <td>0.008495</td>\n",
              "      <td>1914593</td>\n",
              "      <td>85683171090</td>\n",
              "    </tr>\n",
              "    <tr>\n",
              "      <th>2</th>\n",
              "      <td>22</td>\n",
              "      <td>대구광역시</td>\n",
              "      <td>61.359540</td>\n",
              "      <td>2429940</td>\n",
              "      <td>2438031</td>\n",
              "      <td>26087</td>\n",
              "      <td>5908</td>\n",
              "      <td>12557</td>\n",
              "      <td>10.700028</td>\n",
              "      <td>2.423267</td>\n",
              "      <td>5.150468</td>\n",
              "      <td>38132</td>\n",
              "      <td>15.6</td>\n",
              "      <td>1950</td>\n",
              "      <td>5</td>\n",
              "      <td>11</td>\n",
              "      <td>109</td>\n",
              "      <td>1803</td>\n",
              "      <td>0.799826</td>\n",
              "      <td>0.006563</td>\n",
              "      <td>1113887</td>\n",
              "      <td>50084064620</td>\n",
              "    </tr>\n",
              "  </tbody>\n",
              "</table>\n",
              "</div>"
            ],
            "text/plain": [
              "   시도코드    시도명  십만명당 회피가능사망수  ...  천명당 상급+종합병원수    입내원일수    심결요양급여비용총액\n",
              "0    11  서울특별시     66.496942  ...      0.005859  4191024  187836166960\n",
              "1    21  부산광역시     86.370176  ...      0.008495  1914593   85683171090\n",
              "2    22  대구광역시     61.359540  ...      0.006563  1113887   50084064620\n",
              "\n",
              "[3 rows x 22 columns]"
            ]
          },
          "metadata": {},
          "execution_count": 461
        }
      ]
    },
    {
      "cell_type": "code",
      "metadata": {
        "colab": {
          "base_uri": "https://localhost:8080/",
          "height": 458
        },
        "id": "5S7p3Xzyavtw",
        "outputId": "577875d3-c789-41e8-9b4f-d2e00fb224ad"
      },
      "source": [
        "df3['인구당 요양급여비'] = df3['심결요양급여비용총액'] / df3['총 인구']\n",
        "df3['인구당 입내원일수'] = df3['입내원일수'] / df3['총 인구']\n",
        "df4 = pd.merge(df3, ar, on='시도코드')\n",
        "del df4['Unnamed: 0']\n",
        "del df4['시도']\n",
        "df4.head(3)"
      ],
      "execution_count": 462,
      "outputs": [
        {
          "output_type": "execute_result",
          "data": {
            "text/html": [
              "<div>\n",
              "<style scoped>\n",
              "    .dataframe tbody tr th:only-of-type {\n",
              "        vertical-align: middle;\n",
              "    }\n",
              "\n",
              "    .dataframe tbody tr th {\n",
              "        vertical-align: top;\n",
              "    }\n",
              "\n",
              "    .dataframe thead th {\n",
              "        text-align: right;\n",
              "    }\n",
              "</style>\n",
              "<table border=\"1\" class=\"dataframe\">\n",
              "  <thead>\n",
              "    <tr style=\"text-align: right;\">\n",
              "      <th></th>\n",
              "      <th>시도코드</th>\n",
              "      <th>시도명</th>\n",
              "      <th>십만명당 회피가능사망수</th>\n",
              "      <th>총 인구</th>\n",
              "      <th>주민등록인구</th>\n",
              "      <th>의료인수합계</th>\n",
              "      <th>의사</th>\n",
              "      <th>간호사</th>\n",
              "      <th>천명당 의료인수</th>\n",
              "      <th>천명당 의사수</th>\n",
              "      <th>천명당 간호사수</th>\n",
              "      <th>병상수합계</th>\n",
              "      <th>천명당 병상수</th>\n",
              "      <th>요양기관합계</th>\n",
              "      <th>상급종합병원</th>\n",
              "      <th>종합병원</th>\n",
              "      <th>병원</th>\n",
              "      <th>의원</th>\n",
              "      <th>천명당 요양기관수</th>\n",
              "      <th>천명당 상급+종합병원수</th>\n",
              "      <th>입내원일수</th>\n",
              "      <th>심결요양급여비용총액</th>\n",
              "      <th>인구당 요양급여비</th>\n",
              "      <th>인구당 입내원일수</th>\n",
              "      <th>면적(2019)</th>\n",
              "    </tr>\n",
              "  </thead>\n",
              "  <tbody>\n",
              "    <tr>\n",
              "      <th>0</th>\n",
              "      <td>11</td>\n",
              "      <td>서울특별시</td>\n",
              "      <td>66.496942</td>\n",
              "      <td>9639541</td>\n",
              "      <td>9729107</td>\n",
              "      <td>114861</td>\n",
              "      <td>30359</td>\n",
              "      <td>52727</td>\n",
              "      <td>11.805914</td>\n",
              "      <td>3.120430</td>\n",
              "      <td>5.419511</td>\n",
              "      <td>88059</td>\n",
              "      <td>9.1</td>\n",
              "      <td>8924</td>\n",
              "      <td>13</td>\n",
              "      <td>44</td>\n",
              "      <td>228</td>\n",
              "      <td>8628</td>\n",
              "      <td>0.917248</td>\n",
              "      <td>0.005859</td>\n",
              "      <td>4191024</td>\n",
              "      <td>187836166960</td>\n",
              "      <td>19486.007369</td>\n",
              "      <td>0.434774</td>\n",
              "      <td>605237001.6</td>\n",
              "    </tr>\n",
              "    <tr>\n",
              "      <th>1</th>\n",
              "      <td>21</td>\n",
              "      <td>부산광역시</td>\n",
              "      <td>86.370176</td>\n",
              "      <td>3372692</td>\n",
              "      <td>3413841</td>\n",
              "      <td>37028</td>\n",
              "      <td>8008</td>\n",
              "      <td>18514</td>\n",
              "      <td>10.846434</td>\n",
              "      <td>2.345745</td>\n",
              "      <td>5.423217</td>\n",
              "      <td>69862</td>\n",
              "      <td>20.5</td>\n",
              "      <td>2576</td>\n",
              "      <td>4</td>\n",
              "      <td>25</td>\n",
              "      <td>142</td>\n",
              "      <td>2384</td>\n",
              "      <td>0.754575</td>\n",
              "      <td>0.008495</td>\n",
              "      <td>1914593</td>\n",
              "      <td>85683171090</td>\n",
              "      <td>25404.979491</td>\n",
              "      <td>0.567675</td>\n",
              "      <td>770073413.2</td>\n",
              "    </tr>\n",
              "    <tr>\n",
              "      <th>2</th>\n",
              "      <td>22</td>\n",
              "      <td>대구광역시</td>\n",
              "      <td>61.359540</td>\n",
              "      <td>2429940</td>\n",
              "      <td>2438031</td>\n",
              "      <td>26087</td>\n",
              "      <td>5908</td>\n",
              "      <td>12557</td>\n",
              "      <td>10.700028</td>\n",
              "      <td>2.423267</td>\n",
              "      <td>5.150468</td>\n",
              "      <td>38132</td>\n",
              "      <td>15.6</td>\n",
              "      <td>1950</td>\n",
              "      <td>5</td>\n",
              "      <td>11</td>\n",
              "      <td>109</td>\n",
              "      <td>1803</td>\n",
              "      <td>0.799826</td>\n",
              "      <td>0.006563</td>\n",
              "      <td>1113887</td>\n",
              "      <td>50084064620</td>\n",
              "      <td>20611.235100</td>\n",
              "      <td>0.458401</td>\n",
              "      <td>883517307.5</td>\n",
              "    </tr>\n",
              "  </tbody>\n",
              "</table>\n",
              "</div>"
            ],
            "text/plain": [
              "   시도코드    시도명  십만명당 회피가능사망수  ...     인구당 요양급여비  인구당 입내원일수     면적(2019)\n",
              "0    11  서울특별시     66.496942  ...  19486.007369   0.434774  605237001.6\n",
              "1    21  부산광역시     86.370176  ...  25404.979491   0.567675  770073413.2\n",
              "2    22  대구광역시     61.359540  ...  20611.235100   0.458401  883517307.5\n",
              "\n",
              "[3 rows x 25 columns]"
            ]
          },
          "metadata": {},
          "execution_count": 462
        }
      ]
    },
    {
      "cell_type": "code",
      "metadata": {
        "id": "PLt1gqmEUMJu"
      },
      "source": [
        "df4['면적대비 요양기관수'] = df4['요양기관합계'] / df4['면적(2019)']"
      ],
      "execution_count": 463,
      "outputs": []
    },
    {
      "cell_type": "markdown",
      "metadata": {
        "id": "QkiWSjQqJQ_r"
      },
      "source": [
        "## 의료기관 내 의료종사자 수 전처리"
      ]
    },
    {
      "cell_type": "code",
      "metadata": {
        "colab": {
          "base_uri": "https://localhost:8080/",
          "height": 206
        },
        "id": "zeqUe_5BJBX2",
        "outputId": "e2632fc8-ea14-41ef-f720-fb82434d80d8"
      },
      "source": [
        "em = '/content/drive/MyDrive/4조_헬스케어/자료파일/1차전처리/employees.csv'\n",
        "em = pd.read_csv(em)\n",
        "em.head(5)"
      ],
      "execution_count": 464,
      "outputs": [
        {
          "output_type": "execute_result",
          "data": {
            "text/html": [
              "<div>\n",
              "<style scoped>\n",
              "    .dataframe tbody tr th:only-of-type {\n",
              "        vertical-align: middle;\n",
              "    }\n",
              "\n",
              "    .dataframe tbody tr th {\n",
              "        vertical-align: top;\n",
              "    }\n",
              "\n",
              "    .dataframe thead th {\n",
              "        text-align: right;\n",
              "    }\n",
              "</style>\n",
              "<table border=\"1\" class=\"dataframe\">\n",
              "  <thead>\n",
              "    <tr style=\"text-align: right;\">\n",
              "      <th></th>\n",
              "      <th>시도</th>\n",
              "      <th>요양기관종별</th>\n",
              "      <th>의사계</th>\n",
              "      <th>간호사계</th>\n",
              "    </tr>\n",
              "  </thead>\n",
              "  <tbody>\n",
              "    <tr>\n",
              "      <th>0</th>\n",
              "      <td>서울</td>\n",
              "      <td>소계</td>\n",
              "      <td>30359</td>\n",
              "      <td>52727</td>\n",
              "    </tr>\n",
              "    <tr>\n",
              "      <th>1</th>\n",
              "      <td>서울</td>\n",
              "      <td>상급종합병원</td>\n",
              "      <td>9910</td>\n",
              "      <td>22931</td>\n",
              "    </tr>\n",
              "    <tr>\n",
              "      <th>2</th>\n",
              "      <td>서울</td>\n",
              "      <td>종합병원</td>\n",
              "      <td>5191</td>\n",
              "      <td>14164</td>\n",
              "    </tr>\n",
              "    <tr>\n",
              "      <th>3</th>\n",
              "      <td>서울</td>\n",
              "      <td>병원</td>\n",
              "      <td>2074</td>\n",
              "      <td>6031</td>\n",
              "    </tr>\n",
              "    <tr>\n",
              "      <th>4</th>\n",
              "      <td>서울</td>\n",
              "      <td>의원</td>\n",
              "      <td>12413</td>\n",
              "      <td>4722</td>\n",
              "    </tr>\n",
              "  </tbody>\n",
              "</table>\n",
              "</div>"
            ],
            "text/plain": [
              "   시도  요양기관종별    의사계   간호사계\n",
              "0  서울      소계  30359  52727\n",
              "1  서울  상급종합병원   9910  22931\n",
              "2  서울    종합병원   5191  14164\n",
              "3  서울      병원   2074   6031\n",
              "4  서울      의원  12413   4722"
            ]
          },
          "metadata": {},
          "execution_count": 464
        }
      ]
    },
    {
      "cell_type": "code",
      "metadata": {
        "id": "JwoTnn8rWLiZ"
      },
      "source": [
        "em.replace(['서울', '부산', '인천', '대구', '광주', '대전', '울산', '경기', '강원', '충북', '충남',\n",
        "       '전북', '전남', '경북', '경남', '제주', '세종'],\n",
        "       ['11', '21', '23', '22', '24', '25', '26', '31', '32',\n",
        "       '33', '34', '35', '36', '37', '38', '39', '29'],inplace=True)\n",
        "em = em[em['요양기관종별'] != '소계']\n",
        "em = em[em['요양기관종별'] != '병원']\n",
        "em = em[em['요양기관종별'] != '의원']\n",
        "em.rename(columns={'시도':'시도코드'},inplace=True)\n",
        "em.rename(columns={'의사계':'상급의료기관 의사계'},inplace=True)\n",
        "em = em.groupby('시도코드')['상급의료기관 의사계'].sum().to_frame()"
      ],
      "execution_count": 465,
      "outputs": []
    },
    {
      "cell_type": "code",
      "metadata": {
        "id": "9j1EAWrQmgT6"
      },
      "source": [
        "\n",
        "city = ['서울', '부산', '대구', '인천',  '광주', '대전', '울산', '세종', '경기', '강원', '충북', '충남',\n",
        "       '전북', '전남', '경북', '경남', '제주', ]\n",
        "em['시도명'] = city"
      ],
      "execution_count": 466,
      "outputs": []
    },
    {
      "cell_type": "code",
      "metadata": {
        "id": "83APGJ4zncI1"
      },
      "source": [
        "em = em.set_index('시도명')"
      ],
      "execution_count": 467,
      "outputs": []
    },
    {
      "cell_type": "code",
      "metadata": {
        "id": "k_aWYHJlciLg"
      },
      "source": [
        "city_n = ['11','21','22','23','24','25','26','29','31','32','33','34','35','36','37','38','39']\n",
        "em['시도코드'] = city_n\n",
        "em = em.astype({'시도코드':'int'})"
      ],
      "execution_count": 468,
      "outputs": []
    },
    {
      "cell_type": "code",
      "metadata": {
        "colab": {
          "base_uri": "https://localhost:8080/",
          "height": 237
        },
        "id": "WAsedKgKnIft",
        "outputId": "7fc5e9c1-3afb-4801-bf17-3773c9eaeef5"
      },
      "source": [
        "em.head()"
      ],
      "execution_count": 469,
      "outputs": [
        {
          "output_type": "execute_result",
          "data": {
            "text/html": [
              "<div>\n",
              "<style scoped>\n",
              "    .dataframe tbody tr th:only-of-type {\n",
              "        vertical-align: middle;\n",
              "    }\n",
              "\n",
              "    .dataframe tbody tr th {\n",
              "        vertical-align: top;\n",
              "    }\n",
              "\n",
              "    .dataframe thead th {\n",
              "        text-align: right;\n",
              "    }\n",
              "</style>\n",
              "<table border=\"1\" class=\"dataframe\">\n",
              "  <thead>\n",
              "    <tr style=\"text-align: right;\">\n",
              "      <th></th>\n",
              "      <th>상급의료기관 의사계</th>\n",
              "      <th>시도코드</th>\n",
              "    </tr>\n",
              "    <tr>\n",
              "      <th>시도명</th>\n",
              "      <th></th>\n",
              "      <th></th>\n",
              "    </tr>\n",
              "  </thead>\n",
              "  <tbody>\n",
              "    <tr>\n",
              "      <th>서울</th>\n",
              "      <td>15101</td>\n",
              "      <td>11</td>\n",
              "    </tr>\n",
              "    <tr>\n",
              "      <th>부산</th>\n",
              "      <td>3175</td>\n",
              "      <td>21</td>\n",
              "    </tr>\n",
              "    <tr>\n",
              "      <th>대구</th>\n",
              "      <td>2375</td>\n",
              "      <td>22</td>\n",
              "    </tr>\n",
              "    <tr>\n",
              "      <th>인천</th>\n",
              "      <td>2081</td>\n",
              "      <td>23</td>\n",
              "    </tr>\n",
              "    <tr>\n",
              "      <th>광주</th>\n",
              "      <td>1456</td>\n",
              "      <td>24</td>\n",
              "    </tr>\n",
              "  </tbody>\n",
              "</table>\n",
              "</div>"
            ],
            "text/plain": [
              "     상급의료기관 의사계  시도코드\n",
              "시도명                  \n",
              "서울        15101    11\n",
              "부산         3175    21\n",
              "대구         2375    22\n",
              "인천         2081    23\n",
              "광주         1456    24"
            ]
          },
          "metadata": {},
          "execution_count": 469
        }
      ]
    },
    {
      "cell_type": "code",
      "metadata": {
        "id": "NVIywztDlMNP"
      },
      "source": [
        "df = pd.merge(df4, em)"
      ],
      "execution_count": 477,
      "outputs": []
    },
    {
      "cell_type": "code",
      "metadata": {
        "colab": {
          "base_uri": "https://localhost:8080/",
          "height": 660
        },
        "id": "Ay7PSazrJZln",
        "outputId": "2a188538-1a95-49a7-d43a-899a57eb3549"
      },
      "source": [
        "df.head()"
      ],
      "execution_count": 478,
      "outputs": [
        {
          "output_type": "execute_result",
          "data": {
            "text/html": [
              "<div>\n",
              "<style scoped>\n",
              "    .dataframe tbody tr th:only-of-type {\n",
              "        vertical-align: middle;\n",
              "    }\n",
              "\n",
              "    .dataframe tbody tr th {\n",
              "        vertical-align: top;\n",
              "    }\n",
              "\n",
              "    .dataframe thead th {\n",
              "        text-align: right;\n",
              "    }\n",
              "</style>\n",
              "<table border=\"1\" class=\"dataframe\">\n",
              "  <thead>\n",
              "    <tr style=\"text-align: right;\">\n",
              "      <th></th>\n",
              "      <th>시도코드</th>\n",
              "      <th>시도명</th>\n",
              "      <th>십만명당 회피가능사망수</th>\n",
              "      <th>총 인구</th>\n",
              "      <th>주민등록인구</th>\n",
              "      <th>의료인수합계</th>\n",
              "      <th>의사</th>\n",
              "      <th>간호사</th>\n",
              "      <th>천명당 의료인수</th>\n",
              "      <th>천명당 의사수</th>\n",
              "      <th>천명당 간호사수</th>\n",
              "      <th>병상수합계</th>\n",
              "      <th>천명당 병상수</th>\n",
              "      <th>요양기관합계</th>\n",
              "      <th>상급종합병원</th>\n",
              "      <th>종합병원</th>\n",
              "      <th>병원</th>\n",
              "      <th>의원</th>\n",
              "      <th>천명당 요양기관수</th>\n",
              "      <th>천명당 상급+종합병원수</th>\n",
              "      <th>입내원일수</th>\n",
              "      <th>심결요양급여비용총액</th>\n",
              "      <th>인구당 요양급여비</th>\n",
              "      <th>인구당 입내원일수</th>\n",
              "      <th>면적(2019)</th>\n",
              "      <th>면적대비 요양기관수</th>\n",
              "      <th>상급의료기관 의사계</th>\n",
              "    </tr>\n",
              "  </thead>\n",
              "  <tbody>\n",
              "    <tr>\n",
              "      <th>0</th>\n",
              "      <td>11</td>\n",
              "      <td>서울특별시</td>\n",
              "      <td>66.496942</td>\n",
              "      <td>9639541</td>\n",
              "      <td>9729107</td>\n",
              "      <td>114861</td>\n",
              "      <td>30359</td>\n",
              "      <td>52727</td>\n",
              "      <td>11.805914</td>\n",
              "      <td>3.120430</td>\n",
              "      <td>5.419511</td>\n",
              "      <td>88059</td>\n",
              "      <td>9.1</td>\n",
              "      <td>8924</td>\n",
              "      <td>13</td>\n",
              "      <td>44</td>\n",
              "      <td>228</td>\n",
              "      <td>8628</td>\n",
              "      <td>0.917248</td>\n",
              "      <td>0.005859</td>\n",
              "      <td>4191024</td>\n",
              "      <td>187836166960</td>\n",
              "      <td>19486.007369</td>\n",
              "      <td>0.434774</td>\n",
              "      <td>6.052370e+08</td>\n",
              "      <td>0.000015</td>\n",
              "      <td>15101</td>\n",
              "    </tr>\n",
              "    <tr>\n",
              "      <th>1</th>\n",
              "      <td>21</td>\n",
              "      <td>부산광역시</td>\n",
              "      <td>86.370176</td>\n",
              "      <td>3372692</td>\n",
              "      <td>3413841</td>\n",
              "      <td>37028</td>\n",
              "      <td>8008</td>\n",
              "      <td>18514</td>\n",
              "      <td>10.846434</td>\n",
              "      <td>2.345745</td>\n",
              "      <td>5.423217</td>\n",
              "      <td>69862</td>\n",
              "      <td>20.5</td>\n",
              "      <td>2576</td>\n",
              "      <td>4</td>\n",
              "      <td>25</td>\n",
              "      <td>142</td>\n",
              "      <td>2384</td>\n",
              "      <td>0.754575</td>\n",
              "      <td>0.008495</td>\n",
              "      <td>1914593</td>\n",
              "      <td>85683171090</td>\n",
              "      <td>25404.979491</td>\n",
              "      <td>0.567675</td>\n",
              "      <td>7.700734e+08</td>\n",
              "      <td>0.000003</td>\n",
              "      <td>3175</td>\n",
              "    </tr>\n",
              "    <tr>\n",
              "      <th>2</th>\n",
              "      <td>22</td>\n",
              "      <td>대구광역시</td>\n",
              "      <td>61.359540</td>\n",
              "      <td>2429940</td>\n",
              "      <td>2438031</td>\n",
              "      <td>26087</td>\n",
              "      <td>5908</td>\n",
              "      <td>12557</td>\n",
              "      <td>10.700028</td>\n",
              "      <td>2.423267</td>\n",
              "      <td>5.150468</td>\n",
              "      <td>38132</td>\n",
              "      <td>15.6</td>\n",
              "      <td>1950</td>\n",
              "      <td>5</td>\n",
              "      <td>11</td>\n",
              "      <td>109</td>\n",
              "      <td>1803</td>\n",
              "      <td>0.799826</td>\n",
              "      <td>0.006563</td>\n",
              "      <td>1113887</td>\n",
              "      <td>50084064620</td>\n",
              "      <td>20611.235100</td>\n",
              "      <td>0.458401</td>\n",
              "      <td>8.835173e+08</td>\n",
              "      <td>0.000002</td>\n",
              "      <td>2375</td>\n",
              "    </tr>\n",
              "    <tr>\n",
              "      <th>3</th>\n",
              "      <td>23</td>\n",
              "      <td>인천광역시</td>\n",
              "      <td>65.645136</td>\n",
              "      <td>2952237</td>\n",
              "      <td>2957026</td>\n",
              "      <td>24081</td>\n",
              "      <td>5071</td>\n",
              "      <td>11639</td>\n",
              "      <td>8.143655</td>\n",
              "      <td>1.714899</td>\n",
              "      <td>3.936049</td>\n",
              "      <td>34176</td>\n",
              "      <td>11.6</td>\n",
              "      <td>1677</td>\n",
              "      <td>3</td>\n",
              "      <td>16</td>\n",
              "      <td>62</td>\n",
              "      <td>1573</td>\n",
              "      <td>0.567124</td>\n",
              "      <td>0.006425</td>\n",
              "      <td>1272059</td>\n",
              "      <td>59609191530</td>\n",
              "      <td>20191.194518</td>\n",
              "      <td>0.430880</td>\n",
              "      <td>1.063258e+09</td>\n",
              "      <td>0.000002</td>\n",
              "      <td>2081</td>\n",
              "    </tr>\n",
              "    <tr>\n",
              "      <th>4</th>\n",
              "      <td>24</td>\n",
              "      <td>광주광역시</td>\n",
              "      <td>60.682137</td>\n",
              "      <td>1489730</td>\n",
              "      <td>1456468</td>\n",
              "      <td>17835</td>\n",
              "      <td>3658</td>\n",
              "      <td>8949</td>\n",
              "      <td>12.245377</td>\n",
              "      <td>2.511555</td>\n",
              "      <td>6.144316</td>\n",
              "      <td>40206</td>\n",
              "      <td>27.6</td>\n",
              "      <td>1075</td>\n",
              "      <td>2</td>\n",
              "      <td>21</td>\n",
              "      <td>80</td>\n",
              "      <td>948</td>\n",
              "      <td>0.738087</td>\n",
              "      <td>0.015792</td>\n",
              "      <td>696180</td>\n",
              "      <td>32915444680</td>\n",
              "      <td>22094.906245</td>\n",
              "      <td>0.467320</td>\n",
              "      <td>5.011363e+08</td>\n",
              "      <td>0.000002</td>\n",
              "      <td>1456</td>\n",
              "    </tr>\n",
              "  </tbody>\n",
              "</table>\n",
              "</div>"
            ],
            "text/plain": [
              "   시도코드    시도명  십만명당 회피가능사망수  ...      면적(2019)  면적대비 요양기관수  상급의료기관 의사계\n",
              "0    11  서울특별시     66.496942  ...  6.052370e+08    0.000015       15101\n",
              "1    21  부산광역시     86.370176  ...  7.700734e+08    0.000003        3175\n",
              "2    22  대구광역시     61.359540  ...  8.835173e+08    0.000002        2375\n",
              "3    23  인천광역시     65.645136  ...  1.063258e+09    0.000002        2081\n",
              "4    24  광주광역시     60.682137  ...  5.011363e+08    0.000002        1456\n",
              "\n",
              "[5 rows x 27 columns]"
            ]
          },
          "metadata": {},
          "execution_count": 478
        }
      ]
    },
    {
      "cell_type": "code",
      "metadata": {
        "colab": {
          "base_uri": "https://localhost:8080/"
        },
        "id": "28_iBaXSmBbO",
        "outputId": "6a83f95b-396f-4ccf-afe9-657efea1ec6a"
      },
      "source": [
        "df['인구대비 상급의료기관 의사수'] = df['상급의료기관 의사계'] / df['총 인구']\n",
        "df.columns"
      ],
      "execution_count": 479,
      "outputs": [
        {
          "output_type": "execute_result",
          "data": {
            "text/plain": [
              "Index(['시도코드', '시도명', '십만명당 회피가능사망수', '총 인구', '주민등록인구', '의료인수합계', '의사', '간호사',\n",
              "       '천명당 의료인수', '천명당 의사수', '천명당 간호사수', '병상수합계', '천명당 병상수', '요양기관합계',\n",
              "       '상급종합병원', '종합병원', '병원', '의원', '천명당 요양기관수', '천명당 상급+종합병원수', '입내원일수',\n",
              "       '심결요양급여비용총액', '인구당 요양급여비', '인구당 입내원일수', '면적(2019)', '면적대비 요양기관수',\n",
              "       '상급의료기관 의사계', '인구대비 상급의료기관 의사수'],\n",
              "      dtype='object')"
            ]
          },
          "metadata": {},
          "execution_count": 479
        }
      ]
    },
    {
      "cell_type": "code",
      "metadata": {
        "id": "uWsBuBl6mBVo"
      },
      "source": [
        "df = df[['시도코드', '십만명당 회피가능사망수',\n",
        "        '천명당 의료인수', '천명당 의사수', '천명당 간호사수', '천명당 병상수', \n",
        "        '천명당 요양기관수', '천명당 상급+종합병원수', '인구당 요양급여비', '인구당 입내원일수',\n",
        "        '면적대비 요양기관수', '인구대비 상급의료기관 의사수']]"
      ],
      "execution_count": 480,
      "outputs": []
    },
    {
      "cell_type": "code",
      "metadata": {
        "id": "_rOuQn-fmBPr"
      },
      "source": [
        ""
      ],
      "execution_count": 473,
      "outputs": []
    },
    {
      "cell_type": "markdown",
      "metadata": {
        "id": "CZD9yeBFJWVC"
      },
      "source": [
        "## 상관계수 확인"
      ]
    },
    {
      "cell_type": "code",
      "metadata": {
        "colab": {
          "base_uri": "https://localhost:8080/"
        },
        "id": "W8Q2NljLUMG6",
        "outputId": "f9b6a278-b258-438c-88cf-12945c7238cb"
      },
      "source": [
        "df.columns"
      ],
      "execution_count": 481,
      "outputs": [
        {
          "output_type": "execute_result",
          "data": {
            "text/plain": [
              "Index(['시도코드', '십만명당 회피가능사망수', '천명당 의료인수', '천명당 의사수', '천명당 간호사수', '천명당 병상수',\n",
              "       '천명당 요양기관수', '천명당 상급+종합병원수', '인구당 요양급여비', '인구당 입내원일수', '면적대비 요양기관수',\n",
              "       '인구대비 상급의료기관 의사수'],\n",
              "      dtype='object')"
            ]
          },
          "metadata": {},
          "execution_count": 481
        }
      ]
    },
    {
      "cell_type": "code",
      "metadata": {
        "colab": {
          "base_uri": "https://localhost:8080/",
          "height": 616
        },
        "id": "5WoQT_-jdGSq",
        "outputId": "79a40853-f868-4b7e-af7f-d829305d518d"
      },
      "source": [
        "df.corr(method='pearson')"
      ],
      "execution_count": 483,
      "outputs": [
        {
          "output_type": "execute_result",
          "data": {
            "text/html": [
              "<div>\n",
              "<style scoped>\n",
              "    .dataframe tbody tr th:only-of-type {\n",
              "        vertical-align: middle;\n",
              "    }\n",
              "\n",
              "    .dataframe tbody tr th {\n",
              "        vertical-align: top;\n",
              "    }\n",
              "\n",
              "    .dataframe thead th {\n",
              "        text-align: right;\n",
              "    }\n",
              "</style>\n",
              "<table border=\"1\" class=\"dataframe\">\n",
              "  <thead>\n",
              "    <tr style=\"text-align: right;\">\n",
              "      <th></th>\n",
              "      <th>시도코드</th>\n",
              "      <th>십만명당 회피가능사망수</th>\n",
              "      <th>천명당 의료인수</th>\n",
              "      <th>천명당 의사수</th>\n",
              "      <th>천명당 간호사수</th>\n",
              "      <th>천명당 병상수</th>\n",
              "      <th>천명당 요양기관수</th>\n",
              "      <th>천명당 상급+종합병원수</th>\n",
              "      <th>인구당 요양급여비</th>\n",
              "      <th>인구당 입내원일수</th>\n",
              "      <th>면적대비 요양기관수</th>\n",
              "      <th>인구대비 상급의료기관 의사수</th>\n",
              "    </tr>\n",
              "  </thead>\n",
              "  <tbody>\n",
              "    <tr>\n",
              "      <th>시도코드</th>\n",
              "      <td>1.000000</td>\n",
              "      <td>0.556786</td>\n",
              "      <td>-0.538182</td>\n",
              "      <td>-0.696295</td>\n",
              "      <td>-0.437508</td>\n",
              "      <td>0.055319</td>\n",
              "      <td>-0.667674</td>\n",
              "      <td>0.119711</td>\n",
              "      <td>0.417302</td>\n",
              "      <td>0.440171</td>\n",
              "      <td>-0.516391</td>\n",
              "      <td>-0.691576</td>\n",
              "    </tr>\n",
              "    <tr>\n",
              "      <th>십만명당 회피가능사망수</th>\n",
              "      <td>0.556786</td>\n",
              "      <td>1.000000</td>\n",
              "      <td>0.051419</td>\n",
              "      <td>-0.108371</td>\n",
              "      <td>0.152809</td>\n",
              "      <td>0.345836</td>\n",
              "      <td>-0.288016</td>\n",
              "      <td>0.466354</td>\n",
              "      <td>0.811950</td>\n",
              "      <td>0.776929</td>\n",
              "      <td>-0.323910</td>\n",
              "      <td>-0.097559</td>\n",
              "    </tr>\n",
              "    <tr>\n",
              "      <th>천명당 의료인수</th>\n",
              "      <td>-0.538182</td>\n",
              "      <td>0.051419</td>\n",
              "      <td>1.000000</td>\n",
              "      <td>0.935712</td>\n",
              "      <td>0.976004</td>\n",
              "      <td>0.591374</td>\n",
              "      <td>0.714701</td>\n",
              "      <td>0.530477</td>\n",
              "      <td>0.207433</td>\n",
              "      <td>0.024436</td>\n",
              "      <td>0.249575</td>\n",
              "      <td>0.873029</td>\n",
              "    </tr>\n",
              "    <tr>\n",
              "      <th>천명당 의사수</th>\n",
              "      <td>-0.696295</td>\n",
              "      <td>-0.108371</td>\n",
              "      <td>0.935712</td>\n",
              "      <td>1.000000</td>\n",
              "      <td>0.849739</td>\n",
              "      <td>0.343155</td>\n",
              "      <td>0.850268</td>\n",
              "      <td>0.282124</td>\n",
              "      <td>-0.034446</td>\n",
              "      <td>-0.131800</td>\n",
              "      <td>0.434171</td>\n",
              "      <td>0.967186</td>\n",
              "    </tr>\n",
              "    <tr>\n",
              "      <th>천명당 간호사수</th>\n",
              "      <td>-0.437508</td>\n",
              "      <td>0.152809</td>\n",
              "      <td>0.976004</td>\n",
              "      <td>0.849739</td>\n",
              "      <td>1.000000</td>\n",
              "      <td>0.641208</td>\n",
              "      <td>0.588526</td>\n",
              "      <td>0.619829</td>\n",
              "      <td>0.308310</td>\n",
              "      <td>0.075017</td>\n",
              "      <td>0.159234</td>\n",
              "      <td>0.798807</td>\n",
              "    </tr>\n",
              "    <tr>\n",
              "      <th>천명당 병상수</th>\n",
              "      <td>0.055319</td>\n",
              "      <td>0.345836</td>\n",
              "      <td>0.591374</td>\n",
              "      <td>0.343155</td>\n",
              "      <td>0.641208</td>\n",
              "      <td>1.000000</td>\n",
              "      <td>0.060237</td>\n",
              "      <td>0.723641</td>\n",
              "      <td>0.694860</td>\n",
              "      <td>0.575934</td>\n",
              "      <td>-0.246091</td>\n",
              "      <td>0.163626</td>\n",
              "    </tr>\n",
              "    <tr>\n",
              "      <th>천명당 요양기관수</th>\n",
              "      <td>-0.667674</td>\n",
              "      <td>-0.288016</td>\n",
              "      <td>0.714701</td>\n",
              "      <td>0.850268</td>\n",
              "      <td>0.588526</td>\n",
              "      <td>0.060237</td>\n",
              "      <td>1.000000</td>\n",
              "      <td>0.050820</td>\n",
              "      <td>-0.222337</td>\n",
              "      <td>-0.266728</td>\n",
              "      <td>0.352523</td>\n",
              "      <td>0.812270</td>\n",
              "    </tr>\n",
              "    <tr>\n",
              "      <th>천명당 상급+종합병원수</th>\n",
              "      <td>0.119711</td>\n",
              "      <td>0.466354</td>\n",
              "      <td>0.530477</td>\n",
              "      <td>0.282124</td>\n",
              "      <td>0.619829</td>\n",
              "      <td>0.723641</td>\n",
              "      <td>0.050820</td>\n",
              "      <td>1.000000</td>\n",
              "      <td>0.522315</td>\n",
              "      <td>0.355122</td>\n",
              "      <td>-0.275671</td>\n",
              "      <td>0.216497</td>\n",
              "    </tr>\n",
              "    <tr>\n",
              "      <th>인구당 요양급여비</th>\n",
              "      <td>0.417302</td>\n",
              "      <td>0.811950</td>\n",
              "      <td>0.207433</td>\n",
              "      <td>-0.034446</td>\n",
              "      <td>0.308310</td>\n",
              "      <td>0.694860</td>\n",
              "      <td>-0.222337</td>\n",
              "      <td>0.522315</td>\n",
              "      <td>1.000000</td>\n",
              "      <td>0.901911</td>\n",
              "      <td>-0.383883</td>\n",
              "      <td>-0.148645</td>\n",
              "    </tr>\n",
              "    <tr>\n",
              "      <th>인구당 입내원일수</th>\n",
              "      <td>0.440171</td>\n",
              "      <td>0.776929</td>\n",
              "      <td>0.024436</td>\n",
              "      <td>-0.131800</td>\n",
              "      <td>0.075017</td>\n",
              "      <td>0.575934</td>\n",
              "      <td>-0.266728</td>\n",
              "      <td>0.355122</td>\n",
              "      <td>0.901911</td>\n",
              "      <td>1.000000</td>\n",
              "      <td>-0.451805</td>\n",
              "      <td>-0.249019</td>\n",
              "    </tr>\n",
              "    <tr>\n",
              "      <th>면적대비 요양기관수</th>\n",
              "      <td>-0.516391</td>\n",
              "      <td>-0.323910</td>\n",
              "      <td>0.249575</td>\n",
              "      <td>0.434171</td>\n",
              "      <td>0.159234</td>\n",
              "      <td>-0.246091</td>\n",
              "      <td>0.352523</td>\n",
              "      <td>-0.275671</td>\n",
              "      <td>-0.383883</td>\n",
              "      <td>-0.451805</td>\n",
              "      <td>1.000000</td>\n",
              "      <td>0.484843</td>\n",
              "    </tr>\n",
              "    <tr>\n",
              "      <th>인구대비 상급의료기관 의사수</th>\n",
              "      <td>-0.691576</td>\n",
              "      <td>-0.097559</td>\n",
              "      <td>0.873029</td>\n",
              "      <td>0.967186</td>\n",
              "      <td>0.798807</td>\n",
              "      <td>0.163626</td>\n",
              "      <td>0.812270</td>\n",
              "      <td>0.216497</td>\n",
              "      <td>-0.148645</td>\n",
              "      <td>-0.249019</td>\n",
              "      <td>0.484843</td>\n",
              "      <td>1.000000</td>\n",
              "    </tr>\n",
              "  </tbody>\n",
              "</table>\n",
              "</div>"
            ],
            "text/plain": [
              "                     시도코드  십만명당 회피가능사망수  ...  면적대비 요양기관수  인구대비 상급의료기관 의사수\n",
              "시도코드             1.000000      0.556786  ...   -0.516391        -0.691576\n",
              "십만명당 회피가능사망수     0.556786      1.000000  ...   -0.323910        -0.097559\n",
              "천명당 의료인수        -0.538182      0.051419  ...    0.249575         0.873029\n",
              "천명당 의사수         -0.696295     -0.108371  ...    0.434171         0.967186\n",
              "천명당 간호사수        -0.437508      0.152809  ...    0.159234         0.798807\n",
              "천명당 병상수          0.055319      0.345836  ...   -0.246091         0.163626\n",
              "천명당 요양기관수       -0.667674     -0.288016  ...    0.352523         0.812270\n",
              "천명당 상급+종합병원수     0.119711      0.466354  ...   -0.275671         0.216497\n",
              "인구당 요양급여비        0.417302      0.811950  ...   -0.383883        -0.148645\n",
              "인구당 입내원일수        0.440171      0.776929  ...   -0.451805        -0.249019\n",
              "면적대비 요양기관수      -0.516391     -0.323910  ...    1.000000         0.484843\n",
              "인구대비 상급의료기관 의사수 -0.691576     -0.097559  ...    0.484843         1.000000\n",
              "\n",
              "[12 rows x 12 columns]"
            ]
          },
          "metadata": {},
          "execution_count": 483
        }
      ]
    },
    {
      "cell_type": "code",
      "metadata": {
        "colab": {
          "base_uri": "https://localhost:8080/",
          "height": 568
        },
        "id": "57pmn-BNUMEc",
        "outputId": "7efdc661-d377-43c1-fff5-c998bd1dc120"
      },
      "source": [
        "plt.rcParams[\"figure.figsize\"] = (7,7)\n",
        "sns.heatmap(df.corr(),\n",
        "           annot = True, cmap = 'PuBu', )"
      ],
      "execution_count": 484,
      "outputs": [
        {
          "output_type": "execute_result",
          "data": {
            "text/plain": [
              "<matplotlib.axes._subplots.AxesSubplot at 0x7f99780abd10>"
            ]
          },
          "metadata": {},
          "execution_count": 484
        },
        {
          "output_type": "display_data",
          "data": {
            "image/png": "[encoded data removed]",
            "text/plain": [
              "<Figure size 504x504 with 2 Axes>"
            ]
          },
          "metadata": {
            "needs_background": "light"
          }
        }
      ]
    },
    {
      "cell_type": "markdown",
      "metadata": {
        "id": "STwRqPCbuXDt"
      },
      "source": [
        "## PCA 분석"
      ]
    },
    {
      "cell_type": "code",
      "metadata": {
        "id": "fVgW1-Yasa1-"
      },
      "source": [
        "X = df.drop(['십만명당 회피가능사망수'], axis=1).values # 독립변수의 value만 추출\n",
        "y = df['십만명당 회피가능사망수'].values # 종속변수 추출"
      ],
      "execution_count": 426,
      "outputs": []
    },
    {
      "cell_type": "code",
      "metadata": {
        "colab": {
          "base_uri": "https://localhost:8080/"
        },
        "id": "Dr-DxPmSsayv",
        "outputId": "75904b8c-6c2c-4fef-872f-ae238ab06db6"
      },
      "source": [
        "# 스탠다드스케일\n",
        "from sklearn.preprocessing import StandardScaler\n",
        "\n",
        "scaler = StandardScaler()\n",
        "scaler.fit(X)\n",
        "df_scaled = scaler.transform(X) \n",
        "\n",
        "df_scaled.shape\n"
      ],
      "execution_count": 427,
      "outputs": [
        {
          "output_type": "execute_result",
          "data": {
            "text/plain": [
              "(17, 10)"
            ]
          },
          "metadata": {},
          "execution_count": 427
        }
      ]
    },
    {
      "cell_type": "code",
      "metadata": {
        "id": "RJ69h8lksawY"
      },
      "source": [
        "from sklearn.decomposition import PCA\n",
        "\n",
        "pca = PCA()\n",
        "pca.fit(df_scaled)\n",
        "\n",
        "X_pca = pca.transform(df_scaled)"
      ],
      "execution_count": 428,
      "outputs": []
    },
    {
      "cell_type": "code",
      "metadata": {
        "colab": {
          "base_uri": "https://localhost:8080/"
        },
        "id": "R8QfuiMBsatr",
        "outputId": "f9c90f6b-5e99-4faa-bc8e-1ec332d76716"
      },
      "source": [
        "print('original data: {}'.format(str(df_scaled.shape)))\n",
        "print('transform data: {}'.format(str(X_pca.shape)))"
      ],
      "execution_count": 429,
      "outputs": [
        {
          "output_type": "stream",
          "name": "stdout",
          "text": [
            "original data: (17, 10)\n",
            "transform data: (17, 10)\n"
          ]
        }
      ]
    },
    {
      "cell_type": "code",
      "metadata": {
        "colab": {
          "base_uri": "https://localhost:8080/"
        },
        "id": "qhMYwpfnsaql",
        "outputId": "2e2784f6-5662-4b86-d316-a972e4ad5e28"
      },
      "source": [
        "pca.components_"
      ],
      "execution_count": 430,
      "outputs": [
        {
          "output_type": "execute_result",
          "data": {
            "text/plain": [
              "array([[-0.29558979,  0.42446944,  0.42736102,  0.40001862,  0.19427066,\n",
              "         0.3522986 ,  0.18021629,  0.02304571,  0.16920784,  0.40780427],\n",
              "       [ 0.31064327,  0.11388475, -0.06910967,  0.18859933,  0.46742226,\n",
              "        -0.19250313,  0.4418184 ,  0.50153787, -0.35943587, -0.13677083],\n",
              "       [ 0.08184544, -0.00847971, -0.02666653,  0.01860866,  0.15922185,\n",
              "        -0.36974293, -0.04831459,  0.29977273,  0.85848087, -0.03038426],\n",
              "       [-0.03506363, -0.0115791 , -0.1087501 ,  0.07160017, -0.06469466,\n",
              "        -0.3296321 ,  0.69749815, -0.60616629,  0.12003289,  0.02216842],\n",
              "       [ 0.78882246,  0.03221811,  0.087645  ,  0.04178447, -0.43467187,\n",
              "         0.2583423 ,  0.13960063,  0.04355619,  0.12119036,  0.27484645],\n",
              "       [-0.19624638,  0.05847223, -0.00464354,  0.30552907, -0.50493754,\n",
              "        -0.58120394, -0.10271634,  0.26691163, -0.23002276,  0.37045364],\n",
              "       [-0.38194842, -0.20177216, -0.12774092, -0.21050927, -0.39397147,\n",
              "         0.34131249,  0.4887937 ,  0.46151419,  0.1170406 , -0.12430063],\n",
              "       [ 0.00498902,  0.20519327, -0.44585952,  0.66604263, -0.19197136,\n",
              "         0.19916932, -0.11469818, -0.06359129,  0.09406995, -0.46140787],\n",
              "       [-0.03040444, -0.50194408, -0.52508597,  0.20894543,  0.27948399,\n",
              "         0.1804436 , -0.0326439 , -0.00990172,  0.02447623,  0.56153388],\n",
              "       [-0.02473597,  0.68368766, -0.54911   , -0.41504631,  0.01260816,\n",
              "         0.01413477, -0.01735113,  0.01874   ,  0.00574002,  0.23901909]])"
            ]
          },
          "metadata": {},
          "execution_count": 430
        }
      ]
    },
    {
      "cell_type": "code",
      "metadata": {
        "colab": {
          "base_uri": "https://localhost:8080/",
          "height": 598
        },
        "id": "u9oLcd4ksak8",
        "outputId": "b4df2a1d-2b8a-45b8-841f-b4a782916a08"
      },
      "source": [
        "def biplot2(score, coeff, label, pcax, pcay, labels = None):\n",
        "    pca1=pcax-1\n",
        "    pca2=pcay-1\n",
        "    xs = score[:,pca1]\n",
        "    ys = score[:,pca2]\n",
        "    n=score.shape[1]\n",
        "    scalex = 1.0/(xs.max() - xs.min())\n",
        "    scaley = 1.0/(ys.max() - ys.min())\n",
        "    \n",
        "    for i in range(len(xs)):\n",
        "        plt.scatter(xs[i]*scalex, ys[i]*scaley)\n",
        "        plt.annotate(label.iloc[i], xy=(xs[i]*scalex, ys[i]*scaley), ha='right')\n",
        "        \n",
        "    for i in range(n):\n",
        "        plt.arrow(0, 0, coeff[i,pca1], coeff[i,pca2], color='r', alpha=1)\n",
        "        if labels is None:\n",
        "            plt.text(coeff[i,pca1]*1.15, coeff[i,pca2]*1.15, \"Var\"+str(i+1), color='g', ha = 'center', va='center')\n",
        "        else:\n",
        "            plt.text(coeff[i,pca1]*1.15, coeff[i,pca2]*1.15, labels[i], color='g', ha='center', va='center', size=15)\n",
        "    plt.xlim(-0.8, 0.75)\n",
        "    plt.ylim(-1,1)\n",
        "    plt.xlabel(\"PC{}\".format(pcax))\n",
        "    plt.ylabel(\"PC{}\".format(pcay))\n",
        "    plt.grid()\n",
        "    \n",
        "    \n",
        " ##한글 폰트 설정\n",
        "import matplotlib.pyplot as plt\n",
        "import matplotlib.font_manager as fm\n",
        "\n",
        "\n",
        "\n",
        "%matplotlib inline\n",
        "biplot2(X_pca, pca.components_, y, 1,2,labels=X)"
      ],
      "execution_count": 431,
      "outputs": [
        {
          "output_type": "error",
          "ename": "AttributeError",
          "evalue": "ignored",
          "traceback": [
            "\u001b[0;31m---------------------------------------------------------------------------\u001b[0m",
            "\u001b[0;31mAttributeError\u001b[0m                            Traceback (most recent call last)",
            "\u001b[0;32m<ipython-input-431-0f325c695e59>\u001b[0m in \u001b[0;36m<module>\u001b[0;34m()\u001b[0m\n\u001b[1;32m     32\u001b[0m \u001b[0;34m\u001b[0m\u001b[0m\n\u001b[1;32m     33\u001b[0m \u001b[0mget_ipython\u001b[0m\u001b[0;34m(\u001b[0m\u001b[0;34m)\u001b[0m\u001b[0;34m.\u001b[0m\u001b[0mmagic\u001b[0m\u001b[0;34m(\u001b[0m\u001b[0;34m'matplotlib inline'\u001b[0m\u001b[0;34m)\u001b[0m\u001b[0;34m\u001b[0m\u001b[0;34m\u001b[0m\u001b[0m\n\u001b[0;32m---> 34\u001b[0;31m \u001b[0mbiplot2\u001b[0m\u001b[0;34m(\u001b[0m\u001b[0mX_pca\u001b[0m\u001b[0;34m,\u001b[0m \u001b[0mpca\u001b[0m\u001b[0;34m.\u001b[0m\u001b[0mcomponents_\u001b[0m\u001b[0;34m,\u001b[0m \u001b[0my\u001b[0m\u001b[0;34m,\u001b[0m \u001b[0;36m1\u001b[0m\u001b[0;34m,\u001b[0m\u001b[0;36m2\u001b[0m\u001b[0;34m,\u001b[0m\u001b[0mlabels\u001b[0m\u001b[0;34m=\u001b[0m\u001b[0mX\u001b[0m\u001b[0;34m)\u001b[0m\u001b[0;34m\u001b[0m\u001b[0;34m\u001b[0m\u001b[0m\n\u001b[0m",
            "\u001b[0;32m<ipython-input-431-0f325c695e59>\u001b[0m in \u001b[0;36mbiplot2\u001b[0;34m(score, coeff, label, pcax, pcay, labels)\u001b[0m\n\u001b[1;32m     10\u001b[0m     \u001b[0;32mfor\u001b[0m \u001b[0mi\u001b[0m \u001b[0;32min\u001b[0m \u001b[0mrange\u001b[0m\u001b[0;34m(\u001b[0m\u001b[0mlen\u001b[0m\u001b[0;34m(\u001b[0m\u001b[0mxs\u001b[0m\u001b[0;34m)\u001b[0m\u001b[0;34m)\u001b[0m\u001b[0;34m:\u001b[0m\u001b[0;34m\u001b[0m\u001b[0;34m\u001b[0m\u001b[0m\n\u001b[1;32m     11\u001b[0m         \u001b[0mplt\u001b[0m\u001b[0;34m.\u001b[0m\u001b[0mscatter\u001b[0m\u001b[0;34m(\u001b[0m\u001b[0mxs\u001b[0m\u001b[0;34m[\u001b[0m\u001b[0mi\u001b[0m\u001b[0;34m]\u001b[0m\u001b[0;34m*\u001b[0m\u001b[0mscalex\u001b[0m\u001b[0;34m,\u001b[0m \u001b[0mys\u001b[0m\u001b[0;34m[\u001b[0m\u001b[0mi\u001b[0m\u001b[0;34m]\u001b[0m\u001b[0;34m*\u001b[0m\u001b[0mscaley\u001b[0m\u001b[0;34m)\u001b[0m\u001b[0;34m\u001b[0m\u001b[0;34m\u001b[0m\u001b[0m\n\u001b[0;32m---> 12\u001b[0;31m         \u001b[0mplt\u001b[0m\u001b[0;34m.\u001b[0m\u001b[0mannotate\u001b[0m\u001b[0;34m(\u001b[0m\u001b[0mlabel\u001b[0m\u001b[0;34m.\u001b[0m\u001b[0miloc\u001b[0m\u001b[0;34m[\u001b[0m\u001b[0mi\u001b[0m\u001b[0;34m]\u001b[0m\u001b[0;34m,\u001b[0m \u001b[0mxy\u001b[0m\u001b[0;34m=\u001b[0m\u001b[0;34m(\u001b[0m\u001b[0mxs\u001b[0m\u001b[0;34m[\u001b[0m\u001b[0mi\u001b[0m\u001b[0;34m]\u001b[0m\u001b[0;34m*\u001b[0m\u001b[0mscalex\u001b[0m\u001b[0;34m,\u001b[0m \u001b[0mys\u001b[0m\u001b[0;34m[\u001b[0m\u001b[0mi\u001b[0m\u001b[0;34m]\u001b[0m\u001b[0;34m*\u001b[0m\u001b[0mscaley\u001b[0m\u001b[0;34m)\u001b[0m\u001b[0;34m,\u001b[0m \u001b[0mha\u001b[0m\u001b[0;34m=\u001b[0m\u001b[0;34m'right'\u001b[0m\u001b[0;34m)\u001b[0m\u001b[0;34m\u001b[0m\u001b[0;34m\u001b[0m\u001b[0m\n\u001b[0m\u001b[1;32m     13\u001b[0m \u001b[0;34m\u001b[0m\u001b[0m\n\u001b[1;32m     14\u001b[0m     \u001b[0;32mfor\u001b[0m \u001b[0mi\u001b[0m \u001b[0;32min\u001b[0m \u001b[0mrange\u001b[0m\u001b[0;34m(\u001b[0m\u001b[0mn\u001b[0m\u001b[0;34m)\u001b[0m\u001b[0;34m:\u001b[0m\u001b[0;34m\u001b[0m\u001b[0;34m\u001b[0m\u001b[0m\n",
            "\u001b[0;31mAttributeError\u001b[0m: 'numpy.ndarray' object has no attribute 'iloc'"
          ]
        },
        {
          "output_type": "display_data",
          "data": {
            "image/png": "[encoded data removed]",
            "text/plain": [
              "<Figure size 432x288 with 1 Axes>"
            ]
          },
          "metadata": {
            "needs_background": "light"
          }
        }
      ]
    },
    {
      "cell_type": "markdown",
      "metadata": {
        "id": "TdfknSSpElnE"
      },
      "source": [
        "## PCA 분석2"
      ]
    },
    {
      "cell_type": "code",
      "metadata": {
        "id": "LfRaGLX6qyvn"
      },
      "source": [
        "from sklearn.preprocessing import StandardScaler\n",
        "\n",
        "# Standardization 평균 0 / 분산 1\n",
        "scaler = StandardScaler().fit_transform(df)\n"
      ],
      "execution_count": 491,
      "outputs": []
    },
    {
      "cell_type": "code",
      "metadata": {
        "id": "f8UGveQSb4H8"
      },
      "source": [
        "# MinMax 스케일링\n",
        "\n",
        "from sklearn.preprocessing import MinMaxScaler\n",
        "scaler = MinMaxScaler()\n",
        "data_scale = pd.DataFrame(scaler.fit_transform(df), columns=df.columns, index = df.index)"
      ],
      "execution_count": 492,
      "outputs": []
    },
    {
      "cell_type": "code",
      "metadata": {
        "id": "x8JFBlTig7MV"
      },
      "source": [
        ""
      ],
      "execution_count": 492,
      "outputs": []
    },
    {
      "cell_type": "code",
      "metadata": {
        "id": "RZNOmMaksDgX"
      },
      "source": [
        "X = df5.drop(['십만명당 회피가능사망수'], axis=1).values # 독립변인들의 value값만 추출\n",
        "y = df5['십만명당 회피가능사망수'].values # 종속변인 추출"
      ],
      "execution_count": 493,
      "outputs": []
    },
    {
      "cell_type": "code",
      "metadata": {
        "colab": {
          "base_uri": "https://localhost:8080/"
        },
        "id": "LC7fqh98b4CA",
        "outputId": "6f5465bc-89e1-41ee-f23e-fa6e8987f91e"
      },
      "source": [
        "from sklearn.decomposition import PCA\n",
        "# PCA 주성분분석\n",
        "pca = PCA(random_state=1107)\n",
        "X_p = pca.fit_transform(data_scale)\n",
        "\n",
        "pd.Series(np.cumsum(pca.explained_variance_ratio_))"
      ],
      "execution_count": 494,
      "outputs": [
        {
          "output_type": "execute_result",
          "data": {
            "text/plain": [
              "0     0.436264\n",
              "1     0.773624\n",
              "2     0.853237\n",
              "3     0.908853\n",
              "4     0.951988\n",
              "5     0.974602\n",
              "6     0.989285\n",
              "7     0.997192\n",
              "8     0.999088\n",
              "9     0.999747\n",
              "10    0.999953\n",
              "11    1.000000\n",
              "dtype: float64"
            ]
          },
          "metadata": {},
          "execution_count": 494
        }
      ]
    },
    {
      "cell_type": "code",
      "metadata": {
        "id": "PkK21ZQamGXG"
      },
      "source": [
        "from sklearn.decomposition import PCA\n",
        "pca = PCA(n_components=2) # 주성분을 몇개로 할지 결정\n",
        "printcipalComponents = pca.fit_transform(x)\n",
        "principalDf = pd.DataFrame(data=printcipalComponents, columns = ['principal component1', 'principal component2'])\n",
        "# 주성분으로 이루어진 데이터 프레임 구성"
      ],
      "execution_count": 495,
      "outputs": []
    },
    {
      "cell_type": "code",
      "metadata": {
        "colab": {
          "base_uri": "https://localhost:8080/",
          "height": 206
        },
        "id": "nWspalj8oCmr",
        "outputId": "aaffebb7-3b4a-4ec4-ad13-44096a8c4cbd"
      },
      "source": [
        "principalDf.head()"
      ],
      "execution_count": 496,
      "outputs": [
        {
          "output_type": "execute_result",
          "data": {
            "text/html": [
              "<div>\n",
              "<style scoped>\n",
              "    .dataframe tbody tr th:only-of-type {\n",
              "        vertical-align: middle;\n",
              "    }\n",
              "\n",
              "    .dataframe tbody tr th {\n",
              "        vertical-align: top;\n",
              "    }\n",
              "\n",
              "    .dataframe thead th {\n",
              "        text-align: right;\n",
              "    }\n",
              "</style>\n",
              "<table border=\"1\" class=\"dataframe\">\n",
              "  <thead>\n",
              "    <tr style=\"text-align: right;\">\n",
              "      <th></th>\n",
              "      <th>principal component1</th>\n",
              "      <th>principal component2</th>\n",
              "    </tr>\n",
              "  </thead>\n",
              "  <tbody>\n",
              "    <tr>\n",
              "      <th>0</th>\n",
              "      <td>-4.160057</td>\n",
              "      <td>3.933001</td>\n",
              "    </tr>\n",
              "    <tr>\n",
              "      <th>1</th>\n",
              "      <td>-2.420159</td>\n",
              "      <td>-0.518195</td>\n",
              "    </tr>\n",
              "    <tr>\n",
              "      <th>2</th>\n",
              "      <td>-1.961736</td>\n",
              "      <td>0.617726</td>\n",
              "    </tr>\n",
              "    <tr>\n",
              "      <th>3</th>\n",
              "      <td>0.627397</td>\n",
              "      <td>0.731210</td>\n",
              "    </tr>\n",
              "    <tr>\n",
              "      <th>4</th>\n",
              "      <td>-3.616902</td>\n",
              "      <td>-2.204566</td>\n",
              "    </tr>\n",
              "  </tbody>\n",
              "</table>\n",
              "</div>"
            ],
            "text/plain": [
              "   principal component1  principal component2\n",
              "0             -4.160057              3.933001\n",
              "1             -2.420159             -0.518195\n",
              "2             -1.961736              0.617726\n",
              "3              0.627397              0.731210\n",
              "4             -3.616902             -2.204566"
            ]
          },
          "metadata": {},
          "execution_count": 496
        }
      ]
    },
    {
      "cell_type": "code",
      "metadata": {
        "colab": {
          "base_uri": "https://localhost:8080/",
          "height": 455
        },
        "id": "gLqI8v8zhZFB",
        "outputId": "305556b9-b1ae-4b40-c2d9-bf59db9b1afd"
      },
      "source": [
        "percent_variance = np.round(pca.explained_variance_ratio_* 100, decimals =2)\n",
        "columns = []\n",
        "for i in range(len(percent_variance)):\n",
        "    columns.append(f'PC{i+1}')\n",
        "    \n",
        "\n",
        "ax = plt.bar(x = range(len(percent_variance)), height=percent_variance, tick_label=columns)\n",
        "plt.ylabel('Percentate of Variance Explained')\n",
        "plt.xlabel('Principal Component')\n",
        "plt.title('PCA Scree Plot')\n",
        "plt.show()"
      ],
      "execution_count": 497,
      "outputs": [
        {
          "output_type": "display_data",
          "data": {
            "image/png": "[encoded data removed]",
            "text/plain": [
              "<Figure size 504x504 with 1 Axes>"
            ]
          },
          "metadata": {
            "needs_background": "light"
          }
        }
      ]
    },
    {
      "cell_type": "code",
      "metadata": {
        "colab": {
          "base_uri": "https://localhost:8080/",
          "height": 582
        },
        "id": "iW2yUFychZB-",
        "outputId": "66f60a49-d133-4f54-8e3c-c690ae7db10f"
      },
      "source": [
        "X_pp = pd.DataFrame(X_p[:,:3], columns = ['PC1','PC2','PC3'], index = df5.index)\n",
        "X_pp"
      ],
      "execution_count": 498,
      "outputs": [
        {
          "output_type": "execute_result",
          "data": {
            "text/html": [
              "<div>\n",
              "<style scoped>\n",
              "    .dataframe tbody tr th:only-of-type {\n",
              "        vertical-align: middle;\n",
              "    }\n",
              "\n",
              "    .dataframe tbody tr th {\n",
              "        vertical-align: top;\n",
              "    }\n",
              "\n",
              "    .dataframe thead th {\n",
              "        text-align: right;\n",
              "    }\n",
              "</style>\n",
              "<table border=\"1\" class=\"dataframe\">\n",
              "  <thead>\n",
              "    <tr style=\"text-align: right;\">\n",
              "      <th></th>\n",
              "      <th>PC1</th>\n",
              "      <th>PC2</th>\n",
              "      <th>PC3</th>\n",
              "    </tr>\n",
              "  </thead>\n",
              "  <tbody>\n",
              "    <tr>\n",
              "      <th>0</th>\n",
              "      <td>1.486098</td>\n",
              "      <td>0.292298</td>\n",
              "      <td>0.386057</td>\n",
              "    </tr>\n",
              "    <tr>\n",
              "      <th>1</th>\n",
              "      <td>0.438970</td>\n",
              "      <td>-0.501953</td>\n",
              "      <td>0.055897</td>\n",
              "    </tr>\n",
              "    <tr>\n",
              "      <th>2</th>\n",
              "      <td>0.630198</td>\n",
              "      <td>0.033286</td>\n",
              "      <td>-0.225430</td>\n",
              "    </tr>\n",
              "    <tr>\n",
              "      <th>3</th>\n",
              "      <td>0.011154</td>\n",
              "      <td>0.381833</td>\n",
              "      <td>-0.152307</td>\n",
              "    </tr>\n",
              "    <tr>\n",
              "      <th>4</th>\n",
              "      <td>0.676822</td>\n",
              "      <td>-0.589291</td>\n",
              "      <td>-0.396104</td>\n",
              "    </tr>\n",
              "    <tr>\n",
              "      <th>5</th>\n",
              "      <td>0.589862</td>\n",
              "      <td>0.006024</td>\n",
              "      <td>-0.214027</td>\n",
              "    </tr>\n",
              "    <tr>\n",
              "      <th>6</th>\n",
              "      <td>-0.117394</td>\n",
              "      <td>0.283181</td>\n",
              "      <td>-0.219190</td>\n",
              "    </tr>\n",
              "    <tr>\n",
              "      <th>7</th>\n",
              "      <td>-0.649234</td>\n",
              "      <td>1.117211</td>\n",
              "      <td>-0.229728</td>\n",
              "    </tr>\n",
              "    <tr>\n",
              "      <th>8</th>\n",
              "      <td>0.065077</td>\n",
              "      <td>0.797550</td>\n",
              "      <td>0.591024</td>\n",
              "    </tr>\n",
              "    <tr>\n",
              "      <th>9</th>\n",
              "      <td>-0.287831</td>\n",
              "      <td>-0.088619</td>\n",
              "      <td>0.038822</td>\n",
              "    </tr>\n",
              "    <tr>\n",
              "      <th>10</th>\n",
              "      <td>-0.401351</td>\n",
              "      <td>0.045929</td>\n",
              "      <td>-0.034636</td>\n",
              "    </tr>\n",
              "    <tr>\n",
              "      <th>11</th>\n",
              "      <td>-0.589036</td>\n",
              "      <td>0.025897</td>\n",
              "      <td>0.091820</td>\n",
              "    </tr>\n",
              "    <tr>\n",
              "      <th>12</th>\n",
              "      <td>-0.155993</td>\n",
              "      <td>-0.548408</td>\n",
              "      <td>0.067649</td>\n",
              "    </tr>\n",
              "    <tr>\n",
              "      <th>13</th>\n",
              "      <td>-0.595881</td>\n",
              "      <td>-1.063637</td>\n",
              "      <td>0.323517</td>\n",
              "    </tr>\n",
              "    <tr>\n",
              "      <th>14</th>\n",
              "      <td>-0.619885</td>\n",
              "      <td>-0.127646</td>\n",
              "      <td>0.053526</td>\n",
              "    </tr>\n",
              "    <tr>\n",
              "      <th>15</th>\n",
              "      <td>-0.414523</td>\n",
              "      <td>-0.196063</td>\n",
              "      <td>-0.014951</td>\n",
              "    </tr>\n",
              "    <tr>\n",
              "      <th>16</th>\n",
              "      <td>-0.067052</td>\n",
              "      <td>0.132407</td>\n",
              "      <td>-0.121943</td>\n",
              "    </tr>\n",
              "  </tbody>\n",
              "</table>\n",
              "</div>"
            ],
            "text/plain": [
              "         PC1       PC2       PC3\n",
              "0   1.486098  0.292298  0.386057\n",
              "1   0.438970 -0.501953  0.055897\n",
              "2   0.630198  0.033286 -0.225430\n",
              "3   0.011154  0.381833 -0.152307\n",
              "4   0.676822 -0.589291 -0.396104\n",
              "5   0.589862  0.006024 -0.214027\n",
              "6  -0.117394  0.283181 -0.219190\n",
              "7  -0.649234  1.117211 -0.229728\n",
              "8   0.065077  0.797550  0.591024\n",
              "9  -0.287831 -0.088619  0.038822\n",
              "10 -0.401351  0.045929 -0.034636\n",
              "11 -0.589036  0.025897  0.091820\n",
              "12 -0.155993 -0.548408  0.067649\n",
              "13 -0.595881 -1.063637  0.323517\n",
              "14 -0.619885 -0.127646  0.053526\n",
              "15 -0.414523 -0.196063 -0.014951\n",
              "16 -0.067052  0.132407 -0.121943"
            ]
          },
          "metadata": {},
          "execution_count": 498
        }
      ]
    },
    {
      "cell_type": "code",
      "metadata": {
        "colab": {
          "base_uri": "https://localhost:8080/"
        },
        "id": "X2zJozwZkeA8",
        "outputId": "721d68eb-3e0f-4d98-8678-dababf855a5c"
      },
      "source": [
        "pca.explained_variance_"
      ],
      "execution_count": 499,
      "outputs": [
        {
          "output_type": "execute_result",
          "data": {
            "text/plain": [
              "array([4.76257378, 3.42662388])"
            ]
          },
          "metadata": {},
          "execution_count": 499
        }
      ]
    },
    {
      "cell_type": "code",
      "metadata": {
        "colab": {
          "base_uri": "https://localhost:8080/",
          "height": 865
        },
        "id": "UPG4rP75hY_J",
        "outputId": "1877cf6f-b775-4300-e39f-03e05c6bcd9a"
      },
      "source": [
        "fig = plt.figure()\n",
        "ax = fig.gca(projection = '3d')\n",
        "\n",
        "ax.scatter(X_p[0],X_p[1],X_p[2], s=100, c = df5.index)\n",
        "plt.show()"
      ],
      "execution_count": 500,
      "outputs": [
        {
          "output_type": "error",
          "ename": "ValueError",
          "evalue": "ignored",
          "traceback": [
            "\u001b[0;31m---------------------------------------------------------------------------\u001b[0m",
            "\u001b[0;31mValueError\u001b[0m                                Traceback (most recent call last)",
            "\u001b[0;32m/usr/local/lib/python3.7/dist-packages/matplotlib/axes/_axes.py\u001b[0m in \u001b[0;36m_parse_scatter_color_args\u001b[0;34m(c, edgecolors, kwargs, xsize, get_next_color_func)\u001b[0m\n\u001b[1;32m   4238\u001b[0m             \u001b[0;32mtry\u001b[0m\u001b[0;34m:\u001b[0m  \u001b[0;31m# Is 'c' acceptable as PathCollection facecolors?\u001b[0m\u001b[0;34m\u001b[0m\u001b[0;34m\u001b[0m\u001b[0m\n\u001b[0;32m-> 4239\u001b[0;31m                 \u001b[0mcolors\u001b[0m \u001b[0;34m=\u001b[0m \u001b[0mmcolors\u001b[0m\u001b[0;34m.\u001b[0m\u001b[0mto_rgba_array\u001b[0m\u001b[0;34m(\u001b[0m\u001b[0mc\u001b[0m\u001b[0;34m)\u001b[0m\u001b[0;34m\u001b[0m\u001b[0;34m\u001b[0m\u001b[0m\n\u001b[0m\u001b[1;32m   4240\u001b[0m             \u001b[0;32mexcept\u001b[0m \u001b[0mValueError\u001b[0m\u001b[0;34m:\u001b[0m\u001b[0;34m\u001b[0m\u001b[0;34m\u001b[0m\u001b[0m\n",
            "\u001b[0;32m/usr/local/lib/python3.7/dist-packages/matplotlib/colors.py\u001b[0m in \u001b[0;36mto_rgba_array\u001b[0;34m(c, alpha)\u001b[0m\n\u001b[1;32m    339\u001b[0m     \u001b[0;32melse\u001b[0m\u001b[0;34m:\u001b[0m\u001b[0;34m\u001b[0m\u001b[0;34m\u001b[0m\u001b[0m\n\u001b[0;32m--> 340\u001b[0;31m         \u001b[0;32mreturn\u001b[0m \u001b[0mnp\u001b[0m\u001b[0;34m.\u001b[0m\u001b[0marray\u001b[0m\u001b[0;34m(\u001b[0m\u001b[0;34m[\u001b[0m\u001b[0mto_rgba\u001b[0m\u001b[0;34m(\u001b[0m\u001b[0mcc\u001b[0m\u001b[0;34m,\u001b[0m \u001b[0malpha\u001b[0m\u001b[0;34m)\u001b[0m \u001b[0;32mfor\u001b[0m \u001b[0mcc\u001b[0m \u001b[0;32min\u001b[0m \u001b[0mc\u001b[0m\u001b[0;34m]\u001b[0m\u001b[0;34m)\u001b[0m\u001b[0;34m\u001b[0m\u001b[0;34m\u001b[0m\u001b[0m\n\u001b[0m\u001b[1;32m    341\u001b[0m \u001b[0;34m\u001b[0m\u001b[0m\n",
            "\u001b[0;32m/usr/local/lib/python3.7/dist-packages/matplotlib/colors.py\u001b[0m in \u001b[0;36m<listcomp>\u001b[0;34m(.0)\u001b[0m\n\u001b[1;32m    339\u001b[0m     \u001b[0;32melse\u001b[0m\u001b[0;34m:\u001b[0m\u001b[0;34m\u001b[0m\u001b[0;34m\u001b[0m\u001b[0m\n\u001b[0;32m--> 340\u001b[0;31m         \u001b[0;32mreturn\u001b[0m \u001b[0mnp\u001b[0m\u001b[0;34m.\u001b[0m\u001b[0marray\u001b[0m\u001b[0;34m(\u001b[0m\u001b[0;34m[\u001b[0m\u001b[0mto_rgba\u001b[0m\u001b[0;34m(\u001b[0m\u001b[0mcc\u001b[0m\u001b[0;34m,\u001b[0m \u001b[0malpha\u001b[0m\u001b[0;34m)\u001b[0m \u001b[0;32mfor\u001b[0m \u001b[0mcc\u001b[0m \u001b[0;32min\u001b[0m \u001b[0mc\u001b[0m\u001b[0;34m]\u001b[0m\u001b[0;34m)\u001b[0m\u001b[0;34m\u001b[0m\u001b[0;34m\u001b[0m\u001b[0m\n\u001b[0m\u001b[1;32m    341\u001b[0m \u001b[0;34m\u001b[0m\u001b[0m\n",
            "\u001b[0;32m/usr/local/lib/python3.7/dist-packages/matplotlib/colors.py\u001b[0m in \u001b[0;36mto_rgba\u001b[0;34m(c, alpha)\u001b[0m\n\u001b[1;32m    184\u001b[0m     \u001b[0;32mif\u001b[0m \u001b[0mrgba\u001b[0m \u001b[0;32mis\u001b[0m \u001b[0;32mNone\u001b[0m\u001b[0;34m:\u001b[0m  \u001b[0;31m# Suppress exception chaining of cache lookup failure.\u001b[0m\u001b[0;34m\u001b[0m\u001b[0;34m\u001b[0m\u001b[0m\n\u001b[0;32m--> 185\u001b[0;31m         \u001b[0mrgba\u001b[0m \u001b[0;34m=\u001b[0m \u001b[0m_to_rgba_no_colorcycle\u001b[0m\u001b[0;34m(\u001b[0m\u001b[0mc\u001b[0m\u001b[0;34m,\u001b[0m \u001b[0malpha\u001b[0m\u001b[0;34m)\u001b[0m\u001b[0;34m\u001b[0m\u001b[0;34m\u001b[0m\u001b[0m\n\u001b[0m\u001b[1;32m    186\u001b[0m         \u001b[0;32mtry\u001b[0m\u001b[0;34m:\u001b[0m\u001b[0;34m\u001b[0m\u001b[0;34m\u001b[0m\u001b[0m\n",
            "\u001b[0;32m/usr/local/lib/python3.7/dist-packages/matplotlib/colors.py\u001b[0m in \u001b[0;36m_to_rgba_no_colorcycle\u001b[0;34m(c, alpha)\u001b[0m\n\u001b[1;32m    267\u001b[0m         \u001b[0;31m# Test dimensionality to reject single floats.\u001b[0m\u001b[0;34m\u001b[0m\u001b[0;34m\u001b[0m\u001b[0;34m\u001b[0m\u001b[0m\n\u001b[0;32m--> 268\u001b[0;31m         \u001b[0;32mraise\u001b[0m \u001b[0mValueError\u001b[0m\u001b[0;34m(\u001b[0m\u001b[0;34mf\"Invalid RGBA argument: {orig_c!r}\"\u001b[0m\u001b[0;34m)\u001b[0m\u001b[0;34m\u001b[0m\u001b[0;34m\u001b[0m\u001b[0m\n\u001b[0m\u001b[1;32m    269\u001b[0m     \u001b[0;31m# Return a tuple to prevent the cached value from being modified.\u001b[0m\u001b[0;34m\u001b[0m\u001b[0;34m\u001b[0m\u001b[0;34m\u001b[0m\u001b[0m\n",
            "\u001b[0;31mValueError\u001b[0m: Invalid RGBA argument: 0.0",
            "\nDuring handling of the above exception, another exception occurred:\n",
            "\u001b[0;31mValueError\u001b[0m                                Traceback (most recent call last)",
            "\u001b[0;32m<ipython-input-500-d92e4b213623>\u001b[0m in \u001b[0;36m<module>\u001b[0;34m()\u001b[0m\n\u001b[1;32m      2\u001b[0m \u001b[0max\u001b[0m \u001b[0;34m=\u001b[0m \u001b[0mfig\u001b[0m\u001b[0;34m.\u001b[0m\u001b[0mgca\u001b[0m\u001b[0;34m(\u001b[0m\u001b[0mprojection\u001b[0m \u001b[0;34m=\u001b[0m \u001b[0;34m'3d'\u001b[0m\u001b[0;34m)\u001b[0m\u001b[0;34m\u001b[0m\u001b[0;34m\u001b[0m\u001b[0m\n\u001b[1;32m      3\u001b[0m \u001b[0;34m\u001b[0m\u001b[0m\n\u001b[0;32m----> 4\u001b[0;31m \u001b[0max\u001b[0m\u001b[0;34m.\u001b[0m\u001b[0mscatter\u001b[0m\u001b[0;34m(\u001b[0m\u001b[0mX_p\u001b[0m\u001b[0;34m[\u001b[0m\u001b[0;36m0\u001b[0m\u001b[0;34m]\u001b[0m\u001b[0;34m,\u001b[0m\u001b[0mX_p\u001b[0m\u001b[0;34m[\u001b[0m\u001b[0;36m1\u001b[0m\u001b[0;34m]\u001b[0m\u001b[0;34m,\u001b[0m\u001b[0mX_p\u001b[0m\u001b[0;34m[\u001b[0m\u001b[0;36m2\u001b[0m\u001b[0;34m]\u001b[0m\u001b[0;34m,\u001b[0m \u001b[0ms\u001b[0m\u001b[0;34m=\u001b[0m\u001b[0;36m100\u001b[0m\u001b[0;34m,\u001b[0m \u001b[0mc\u001b[0m \u001b[0;34m=\u001b[0m \u001b[0mdf5\u001b[0m\u001b[0;34m.\u001b[0m\u001b[0mindex\u001b[0m\u001b[0;34m)\u001b[0m\u001b[0;34m\u001b[0m\u001b[0;34m\u001b[0m\u001b[0m\n\u001b[0m\u001b[1;32m      5\u001b[0m \u001b[0mplt\u001b[0m\u001b[0;34m.\u001b[0m\u001b[0mshow\u001b[0m\u001b[0;34m(\u001b[0m\u001b[0;34m)\u001b[0m\u001b[0;34m\u001b[0m\u001b[0;34m\u001b[0m\u001b[0m\n",
            "\u001b[0;32m/usr/local/lib/python3.7/dist-packages/mpl_toolkits/mplot3d/axes3d.py\u001b[0m in \u001b[0;36mscatter\u001b[0;34m(self, xs, ys, zs, zdir, s, c, depthshade, *args, **kwargs)\u001b[0m\n\u001b[1;32m   2237\u001b[0m         \u001b[0mxs\u001b[0m\u001b[0;34m,\u001b[0m \u001b[0mys\u001b[0m\u001b[0;34m,\u001b[0m \u001b[0mzs\u001b[0m\u001b[0;34m,\u001b[0m \u001b[0ms\u001b[0m\u001b[0;34m,\u001b[0m \u001b[0mc\u001b[0m \u001b[0;34m=\u001b[0m \u001b[0mcbook\u001b[0m\u001b[0;34m.\u001b[0m\u001b[0mdelete_masked_points\u001b[0m\u001b[0;34m(\u001b[0m\u001b[0mxs\u001b[0m\u001b[0;34m,\u001b[0m \u001b[0mys\u001b[0m\u001b[0;34m,\u001b[0m \u001b[0mzs\u001b[0m\u001b[0;34m,\u001b[0m \u001b[0ms\u001b[0m\u001b[0;34m,\u001b[0m \u001b[0mc\u001b[0m\u001b[0;34m)\u001b[0m\u001b[0;34m\u001b[0m\u001b[0;34m\u001b[0m\u001b[0m\n\u001b[1;32m   2238\u001b[0m \u001b[0;34m\u001b[0m\u001b[0m\n\u001b[0;32m-> 2239\u001b[0;31m         \u001b[0mpatches\u001b[0m \u001b[0;34m=\u001b[0m \u001b[0msuper\u001b[0m\u001b[0;34m(\u001b[0m\u001b[0;34m)\u001b[0m\u001b[0;34m.\u001b[0m\u001b[0mscatter\u001b[0m\u001b[0;34m(\u001b[0m\u001b[0mxs\u001b[0m\u001b[0;34m,\u001b[0m \u001b[0mys\u001b[0m\u001b[0;34m,\u001b[0m \u001b[0ms\u001b[0m\u001b[0;34m=\u001b[0m\u001b[0ms\u001b[0m\u001b[0;34m,\u001b[0m \u001b[0mc\u001b[0m\u001b[0;34m=\u001b[0m\u001b[0mc\u001b[0m\u001b[0;34m,\u001b[0m \u001b[0;34m*\u001b[0m\u001b[0margs\u001b[0m\u001b[0;34m,\u001b[0m \u001b[0;34m**\u001b[0m\u001b[0mkwargs\u001b[0m\u001b[0;34m)\u001b[0m\u001b[0;34m\u001b[0m\u001b[0;34m\u001b[0m\u001b[0m\n\u001b[0m\u001b[1;32m   2240\u001b[0m         art3d.patch_collection_2d_to_3d(patches, zs=zs, zdir=zdir,\n\u001b[1;32m   2241\u001b[0m                                         depthshade=depthshade)\n",
            "\u001b[0;32m/usr/local/lib/python3.7/dist-packages/matplotlib/__init__.py\u001b[0m in \u001b[0;36minner\u001b[0;34m(ax, data, *args, **kwargs)\u001b[0m\n\u001b[1;32m   1563\u001b[0m     \u001b[0;32mdef\u001b[0m \u001b[0minner\u001b[0m\u001b[0;34m(\u001b[0m\u001b[0max\u001b[0m\u001b[0;34m,\u001b[0m \u001b[0;34m*\u001b[0m\u001b[0margs\u001b[0m\u001b[0;34m,\u001b[0m \u001b[0mdata\u001b[0m\u001b[0;34m=\u001b[0m\u001b[0;32mNone\u001b[0m\u001b[0;34m,\u001b[0m \u001b[0;34m**\u001b[0m\u001b[0mkwargs\u001b[0m\u001b[0;34m)\u001b[0m\u001b[0;34m:\u001b[0m\u001b[0;34m\u001b[0m\u001b[0;34m\u001b[0m\u001b[0m\n\u001b[1;32m   1564\u001b[0m         \u001b[0;32mif\u001b[0m \u001b[0mdata\u001b[0m \u001b[0;32mis\u001b[0m \u001b[0;32mNone\u001b[0m\u001b[0;34m:\u001b[0m\u001b[0;34m\u001b[0m\u001b[0;34m\u001b[0m\u001b[0m\n\u001b[0;32m-> 1565\u001b[0;31m             \u001b[0;32mreturn\u001b[0m \u001b[0mfunc\u001b[0m\u001b[0;34m(\u001b[0m\u001b[0max\u001b[0m\u001b[0;34m,\u001b[0m \u001b[0;34m*\u001b[0m\u001b[0mmap\u001b[0m\u001b[0;34m(\u001b[0m\u001b[0msanitize_sequence\u001b[0m\u001b[0;34m,\u001b[0m \u001b[0margs\u001b[0m\u001b[0;34m)\u001b[0m\u001b[0;34m,\u001b[0m \u001b[0;34m**\u001b[0m\u001b[0mkwargs\u001b[0m\u001b[0;34m)\u001b[0m\u001b[0;34m\u001b[0m\u001b[0;34m\u001b[0m\u001b[0m\n\u001b[0m\u001b[1;32m   1566\u001b[0m \u001b[0;34m\u001b[0m\u001b[0m\n\u001b[1;32m   1567\u001b[0m         \u001b[0mbound\u001b[0m \u001b[0;34m=\u001b[0m \u001b[0mnew_sig\u001b[0m\u001b[0;34m.\u001b[0m\u001b[0mbind\u001b[0m\u001b[0;34m(\u001b[0m\u001b[0max\u001b[0m\u001b[0;34m,\u001b[0m \u001b[0;34m*\u001b[0m\u001b[0margs\u001b[0m\u001b[0;34m,\u001b[0m \u001b[0;34m**\u001b[0m\u001b[0mkwargs\u001b[0m\u001b[0;34m)\u001b[0m\u001b[0;34m\u001b[0m\u001b[0;34m\u001b[0m\u001b[0m\n",
            "\u001b[0;32m/usr/local/lib/python3.7/dist-packages/matplotlib/cbook/deprecation.py\u001b[0m in \u001b[0;36mwrapper\u001b[0;34m(*args, **kwargs)\u001b[0m\n\u001b[1;32m    356\u001b[0m                 \u001b[0;34mf\"%(removal)s.  If any parameter follows {name!r}, they \"\u001b[0m\u001b[0;34m\u001b[0m\u001b[0;34m\u001b[0m\u001b[0m\n\u001b[1;32m    357\u001b[0m                 f\"should be pass as keyword, not positionally.\")\n\u001b[0;32m--> 358\u001b[0;31m         \u001b[0;32mreturn\u001b[0m \u001b[0mfunc\u001b[0m\u001b[0;34m(\u001b[0m\u001b[0;34m*\u001b[0m\u001b[0margs\u001b[0m\u001b[0;34m,\u001b[0m \u001b[0;34m**\u001b[0m\u001b[0mkwargs\u001b[0m\u001b[0;34m)\u001b[0m\u001b[0;34m\u001b[0m\u001b[0;34m\u001b[0m\u001b[0m\n\u001b[0m\u001b[1;32m    359\u001b[0m \u001b[0;34m\u001b[0m\u001b[0m\n\u001b[1;32m    360\u001b[0m     \u001b[0;32mreturn\u001b[0m \u001b[0mwrapper\u001b[0m\u001b[0;34m\u001b[0m\u001b[0;34m\u001b[0m\u001b[0m\n",
            "\u001b[0;32m/usr/local/lib/python3.7/dist-packages/matplotlib/axes/_axes.py\u001b[0m in \u001b[0;36mscatter\u001b[0;34m(self, x, y, s, c, marker, cmap, norm, vmin, vmax, alpha, linewidths, verts, edgecolors, plotnonfinite, **kwargs)\u001b[0m\n\u001b[1;32m   4401\u001b[0m             self._parse_scatter_color_args(\n\u001b[1;32m   4402\u001b[0m                 \u001b[0mc\u001b[0m\u001b[0;34m,\u001b[0m \u001b[0medgecolors\u001b[0m\u001b[0;34m,\u001b[0m \u001b[0mkwargs\u001b[0m\u001b[0;34m,\u001b[0m \u001b[0mx\u001b[0m\u001b[0;34m.\u001b[0m\u001b[0msize\u001b[0m\u001b[0;34m,\u001b[0m\u001b[0;34m\u001b[0m\u001b[0;34m\u001b[0m\u001b[0m\n\u001b[0;32m-> 4403\u001b[0;31m                 get_next_color_func=self._get_patches_for_fill.get_next_color)\n\u001b[0m\u001b[1;32m   4404\u001b[0m \u001b[0;34m\u001b[0m\u001b[0m\n\u001b[1;32m   4405\u001b[0m         \u001b[0;32mif\u001b[0m \u001b[0mplotnonfinite\u001b[0m \u001b[0;32mand\u001b[0m \u001b[0mcolors\u001b[0m \u001b[0;32mis\u001b[0m \u001b[0;32mNone\u001b[0m\u001b[0;34m:\u001b[0m\u001b[0;34m\u001b[0m\u001b[0;34m\u001b[0m\u001b[0m\n",
            "\u001b[0;32m/usr/local/lib/python3.7/dist-packages/matplotlib/axes/_axes.py\u001b[0m in \u001b[0;36m_parse_scatter_color_args\u001b[0;34m(c, edgecolors, kwargs, xsize, get_next_color_func)\u001b[0m\n\u001b[1;32m   4240\u001b[0m             \u001b[0;32mexcept\u001b[0m \u001b[0mValueError\u001b[0m\u001b[0;34m:\u001b[0m\u001b[0;34m\u001b[0m\u001b[0;34m\u001b[0m\u001b[0m\n\u001b[1;32m   4241\u001b[0m                 \u001b[0;32mif\u001b[0m \u001b[0;32mnot\u001b[0m \u001b[0mvalid_shape\u001b[0m\u001b[0;34m:\u001b[0m\u001b[0;34m\u001b[0m\u001b[0;34m\u001b[0m\u001b[0m\n\u001b[0;32m-> 4242\u001b[0;31m                     \u001b[0;32mraise\u001b[0m \u001b[0minvalid_shape_exception\u001b[0m\u001b[0;34m(\u001b[0m\u001b[0mc\u001b[0m\u001b[0;34m.\u001b[0m\u001b[0msize\u001b[0m\u001b[0;34m,\u001b[0m \u001b[0mxsize\u001b[0m\u001b[0;34m)\u001b[0m\u001b[0;34m\u001b[0m\u001b[0;34m\u001b[0m\u001b[0m\n\u001b[0m\u001b[1;32m   4243\u001b[0m                 \u001b[0;31m# Both the mapping *and* the RGBA conversion failed: pretty\u001b[0m\u001b[0;34m\u001b[0m\u001b[0;34m\u001b[0m\u001b[0;34m\u001b[0m\u001b[0m\n\u001b[1;32m   4244\u001b[0m                 \u001b[0;31m# severe failure => one may appreciate a verbose feedback.\u001b[0m\u001b[0;34m\u001b[0m\u001b[0;34m\u001b[0m\u001b[0;34m\u001b[0m\u001b[0m\n",
            "\u001b[0;31mValueError\u001b[0m: 'c' argument has 17 elements, which is inconsistent with 'x' and 'y' with size 12."
          ]
        },
        {
          "output_type": "display_data",
          "data": {
            "image/png": "[encoded data removed]",
            "text/plain": [
              "<Figure size 504x504 with 1 Axes>"
            ]
          },
          "metadata": {
            "needs_background": "light"
          }
        }
      ]
    },
    {
      "cell_type": "markdown",
      "metadata": {
        "id": "UIbfglnQEw8h"
      },
      "source": [
        "## PCA 분석3"
      ]
    },
    {
      "cell_type": "code",
      "metadata": {
        "colab": {
          "base_uri": "https://localhost:8080/"
        },
        "id": "2UxXevDHUL3z",
        "outputId": "2a058e41-2876-4527-fea2-7afc704e6aa5"
      },
      "source": [
        "pca = PCA()\n",
        "pca.fit(X)\n",
        "PC_score = pca.transform(X)\n",
        "PC_score[:5]"
      ],
      "execution_count": 485,
      "outputs": [
        {
          "output_type": "execute_result",
          "data": {
            "text/plain": [
              "array([[-2.84406415e+03,  1.44798235e+01, -7.15140051e+00,\n",
              "         1.54339837e+00, -2.51082565e-01,  4.96140128e-02,\n",
              "        -2.10704228e-02,  8.32982941e-04,  2.70165123e-06],\n",
              "       [ 3.07492411e+03,  1.11885990e+01, -2.13897497e+00,\n",
              "        -5.68717101e-01,  8.92593603e-02, -2.61728422e-02,\n",
              "        -3.24195092e-02, -8.94693393e-04,  9.41605966e-07],\n",
              "       [-1.71881962e+03,  6.73588077e+00,  1.00717645e+00,\n",
              "         7.43869953e-01,  2.03112112e-02, -4.40657415e-02,\n",
              "        -8.50938358e-03, -1.95008616e-03, -2.28036018e-06],\n",
              "       [-2.13886421e+03,  3.56315474e+00, -2.12973176e+00,\n",
              "        -7.33289997e-01,  3.35144979e-01,  1.48587459e-03,\n",
              "         8.17832541e-02, -8.88291748e-04, -3.59550927e-06],\n",
              "       [-2.35133186e+02,  9.89735798e+00,  1.07383169e+01,\n",
              "        -4.03811129e-01,  9.91428578e-02, -3.10488936e-02,\n",
              "         3.20689755e-03,  3.24123670e-03,  1.75928914e-06]])"
            ]
          },
          "metadata": {},
          "execution_count": 485
        }
      ]
    },
    {
      "cell_type": "code",
      "metadata": {
        "colab": {
          "base_uri": "https://localhost:8080/",
          "height": 514
        },
        "id": "mQg9JOPHR6Mt",
        "outputId": "df6baec5-73e1-42dd-e6ec-a1c5c71571b9"
      },
      "source": [
        "pca1 = PCA(n_components=3)\n",
        "X_low = pca1.fit_transform(X)\n",
        "X2 = pca1.inverse_transform(X_low)\n",
        "\n",
        "plt.figure(figsize=(7, 7))\n",
        "ax = sns.scatterplot(0, 1, data=pd.DataFrame(X), s=100, color=\".2\", marker=\"s\")\n",
        "\n",
        "plt.plot(X2[:, 0], X2[:, 1], \"o-\", markersize=10)\n",
        "plt.plot(X[:, 0].mean(), X[:, 1].mean(), markersize=10, marker=\"D\")\n",
        "plt.axvline(X[:, 0].mean(), c='r')\n",
        "plt.axhline(X[:, 1].mean(), c='r')\n",
        "plt.grid(False)\n",
        "plt.xlabel(\"??\")\n",
        "plt.ylabel(\"사망수\")\n",
        "plt.title(\"차원축소\")\n",
        "plt.axis(\"equal\")\n",
        "plt.show()"
      ],
      "execution_count": 486,
      "outputs": [
        {
          "output_type": "stream",
          "name": "stderr",
          "text": [
            "/usr/local/lib/python3.7/dist-packages/seaborn/_decorators.py:43: FutureWarning: Pass the following variables as keyword args: x, y. From version 0.12, the only valid positional argument will be `data`, and passing other arguments without an explicit keyword will result in an error or misinterpretation.\n",
            "  FutureWarning\n"
          ]
        },
        {
          "output_type": "display_data",
          "data": {
            "image/png": "[encoded data removed]",
            "text/plain": [
              "<Figure size 504x504 with 1 Axes>"
            ]
          },
          "metadata": {
            "needs_background": "light"
          }
        }
      ]
    },
    {
      "cell_type": "code",
      "metadata": {
        "id": "_A1Ng2QDw5Z0"
      },
      "source": [
        ""
      ],
      "execution_count": null,
      "outputs": []
    }
  ]
}