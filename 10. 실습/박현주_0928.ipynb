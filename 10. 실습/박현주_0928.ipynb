{
  "nbformat": 4,
  "nbformat_minor": 0,
  "metadata": {
    "colab": {
      "name": "박현주_0928.ipynb",
      "provenance": [],
      "collapsed_sections": []
    },
    "kernelspec": {
      "name": "python3",
      "display_name": "Python 3"
    },
    "language_info": {
      "name": "python"
    }
  },
  "cells": [
    {
      "cell_type": "code",
      "metadata": {
        "colab": {
          "base_uri": "https://localhost:8080/"
        },
        "id": "4dLS2pJTGEOj",
        "outputId": "042f59d4-bd77-4c74-94d6-f716dece7afe"
      },
      "source": [
        "from google.colab import drive\n",
        "drive.mount('/gdrive', force_remount=True)"
      ],
      "execution_count": 52,
      "outputs": [
        {
          "output_type": "stream",
          "name": "stdout",
          "text": [
            "Mounted at /gdrive\n"
          ]
        }
      ]
    },
    {
      "cell_type": "code",
      "metadata": {
        "id": "VZ5vxnsOGHai"
      },
      "source": [
        "import pandas as pd\n",
        "import numpy as np\n",
        "import seaborn as sns\n",
        "import matplotlib as mpl\n",
        "import matplotlib.pyplot as plt"
      ],
      "execution_count": 104,
      "outputs": []
    },
    {
      "cell_type": "code",
      "metadata": {
        "colab": {
          "base_uri": "https://localhost:8080/"
        },
        "id": "XdBZ6eY0I7Kw",
        "outputId": "d69bc487-9079-412f-833a-f5ffdd141067"
      },
      "source": [
        "from google.colab import drive\n",
        "drive.mount('/content/drive')"
      ],
      "execution_count": 54,
      "outputs": [
        {
          "output_type": "stream",
          "name": "stdout",
          "text": [
            "Mounted at /content/drive\n"
          ]
        }
      ]
    },
    {
      "cell_type": "code",
      "metadata": {
        "colab": {
          "base_uri": "https://localhost:8080/",
          "height": 143
        },
        "id": "B2cqJxHlGOHw",
        "outputId": "9b51f3e6-67e6-4afb-8143-f03dc4b2c19c"
      },
      "source": [
        "healthcare = '/content/drive/MyDrive/4조_헬스케어/자료파일/1차전처리/healthcare.csv'\n",
        "healthcare = pd.read_csv(healthcare)\n",
        "healthcare.head(3)"
      ],
      "execution_count": 55,
      "outputs": [
        {
          "output_type": "execute_result",
          "data": {
            "text/html": [
              "<div>\n",
              "<style scoped>\n",
              "    .dataframe tbody tr th:only-of-type {\n",
              "        vertical-align: middle;\n",
              "    }\n",
              "\n",
              "    .dataframe tbody tr th {\n",
              "        vertical-align: top;\n",
              "    }\n",
              "\n",
              "    .dataframe thead th {\n",
              "        text-align: right;\n",
              "    }\n",
              "</style>\n",
              "<table border=\"1\" class=\"dataframe\">\n",
              "  <thead>\n",
              "    <tr style=\"text-align: right;\">\n",
              "      <th></th>\n",
              "      <th>Unnamed: 0</th>\n",
              "      <th>가입자 일련번호</th>\n",
              "      <th>시도코드</th>\n",
              "      <th>연령대코드</th>\n",
              "      <th>서식코드</th>\n",
              "      <th>주상병코드</th>\n",
              "      <th>부상병코드</th>\n",
              "      <th>심결가산율</th>\n",
              "    </tr>\n",
              "  </thead>\n",
              "  <tbody>\n",
              "    <tr>\n",
              "      <th>0</th>\n",
              "      <td>0</td>\n",
              "      <td>1</td>\n",
              "      <td>46</td>\n",
              "      <td>12</td>\n",
              "      <td>3</td>\n",
              "      <td>M751</td>\n",
              "      <td>M750</td>\n",
              "      <td>0.25</td>\n",
              "    </tr>\n",
              "    <tr>\n",
              "      <th>1</th>\n",
              "      <td>1</td>\n",
              "      <td>1</td>\n",
              "      <td>46</td>\n",
              "      <td>12</td>\n",
              "      <td>3</td>\n",
              "      <td>E1164</td>\n",
              "      <td>N308</td>\n",
              "      <td>0.25</td>\n",
              "    </tr>\n",
              "    <tr>\n",
              "      <th>2</th>\n",
              "      <td>2</td>\n",
              "      <td>1</td>\n",
              "      <td>46</td>\n",
              "      <td>12</td>\n",
              "      <td>3</td>\n",
              "      <td>N308</td>\n",
              "      <td>E1164</td>\n",
              "      <td>0.25</td>\n",
              "    </tr>\n",
              "  </tbody>\n",
              "</table>\n",
              "</div>"
            ],
            "text/plain": [
              "   Unnamed: 0  가입자 일련번호  시도코드  연령대코드  서식코드  주상병코드  부상병코드  심결가산율\n",
              "0           0         1    46     12     3   M751   M750   0.25\n",
              "1           1         1    46     12     3  E1164   N308   0.25\n",
              "2           2         1    46     12     3   N308  E1164   0.25"
            ]
          },
          "metadata": {},
          "execution_count": 55
        }
      ]
    },
    {
      "cell_type": "code",
      "metadata": {
        "id": "CizXIYiK4C2j"
      },
      "source": [
        "healthcare.replace([0.30, 0.25, 0.20, 0.15],['상급종합병원', '종합병원', '병원', '의원'],inplace=True)"
      ],
      "execution_count": 56,
      "outputs": []
    },
    {
      "cell_type": "code",
      "metadata": {
        "colab": {
          "base_uri": "https://localhost:8080/"
        },
        "id": "c5EPojC24DX-",
        "outputId": "67a6e093-934e-4f9c-87ad-a17d3cf23f80"
      },
      "source": [
        "healthcare['심결가산율'].values"
      ],
      "execution_count": 57,
      "outputs": [
        {
          "output_type": "execute_result",
          "data": {
            "text/plain": [
              "array(['종합병원', '종합병원', '종합병원', ..., '종합병원', '종합병원', '의원'], dtype=object)"
            ]
          },
          "metadata": {},
          "execution_count": 57
        }
      ]
    },
    {
      "cell_type": "code",
      "metadata": {
        "colab": {
          "base_uri": "https://localhost:8080/",
          "height": 143
        },
        "id": "lJlfYzDu4DUO",
        "outputId": "0b6f2d5f-e95a-4092-dbc9-2d3eaa89301c"
      },
      "source": [
        "healthcare.rename(columns={'심결가산율':'요양기관'},inplace=True)\n",
        "healthcare.head(3)"
      ],
      "execution_count": 90,
      "outputs": [
        {
          "output_type": "execute_result",
          "data": {
            "text/html": [
              "<div>\n",
              "<style scoped>\n",
              "    .dataframe tbody tr th:only-of-type {\n",
              "        vertical-align: middle;\n",
              "    }\n",
              "\n",
              "    .dataframe tbody tr th {\n",
              "        vertical-align: top;\n",
              "    }\n",
              "\n",
              "    .dataframe thead th {\n",
              "        text-align: right;\n",
              "    }\n",
              "</style>\n",
              "<table border=\"1\" class=\"dataframe\">\n",
              "  <thead>\n",
              "    <tr style=\"text-align: right;\">\n",
              "      <th></th>\n",
              "      <th>Unnamed: 0</th>\n",
              "      <th>가입자 일련번호</th>\n",
              "      <th>시도코드</th>\n",
              "      <th>연령대코드</th>\n",
              "      <th>서식코드</th>\n",
              "      <th>주상병코드</th>\n",
              "      <th>부상병코드</th>\n",
              "      <th>요양기관</th>\n",
              "    </tr>\n",
              "  </thead>\n",
              "  <tbody>\n",
              "    <tr>\n",
              "      <th>0</th>\n",
              "      <td>0</td>\n",
              "      <td>1</td>\n",
              "      <td>46</td>\n",
              "      <td>12</td>\n",
              "      <td>3</td>\n",
              "      <td>M751</td>\n",
              "      <td>M750</td>\n",
              "      <td>종합병원</td>\n",
              "    </tr>\n",
              "    <tr>\n",
              "      <th>1</th>\n",
              "      <td>1</td>\n",
              "      <td>1</td>\n",
              "      <td>46</td>\n",
              "      <td>12</td>\n",
              "      <td>3</td>\n",
              "      <td>E1164</td>\n",
              "      <td>N308</td>\n",
              "      <td>종합병원</td>\n",
              "    </tr>\n",
              "    <tr>\n",
              "      <th>2</th>\n",
              "      <td>2</td>\n",
              "      <td>1</td>\n",
              "      <td>46</td>\n",
              "      <td>12</td>\n",
              "      <td>3</td>\n",
              "      <td>N308</td>\n",
              "      <td>E1164</td>\n",
              "      <td>종합병원</td>\n",
              "    </tr>\n",
              "  </tbody>\n",
              "</table>\n",
              "</div>"
            ],
            "text/plain": [
              "   Unnamed: 0  가입자 일련번호  시도코드  연령대코드  서식코드  주상병코드  부상병코드  요양기관\n",
              "0           0         1    46     12     3   M751   M750  종합병원\n",
              "1           1         1    46     12     3  E1164   N308  종합병원\n",
              "2           2         1    46     12     3   N308  E1164  종합병원"
            ]
          },
          "metadata": {},
          "execution_count": 90
        }
      ]
    },
    {
      "cell_type": "code",
      "metadata": {
        "colab": {
          "base_uri": "https://localhost:8080/",
          "height": 205
        },
        "id": "Awp0UMs-8nl0",
        "outputId": "3884a535-3746-4421-ec8c-2e464bd0ffac"
      },
      "source": [
        "seoul = healthcare[healthcare.시도코드==11]\n",
        "seoul = seoul[['요양기관', '주상병코드']]\n",
        "seoul.head()"
      ],
      "execution_count": 95,
      "outputs": [
        {
          "output_type": "execute_result",
          "data": {
            "text/html": [
              "<div>\n",
              "<style scoped>\n",
              "    .dataframe tbody tr th:only-of-type {\n",
              "        vertical-align: middle;\n",
              "    }\n",
              "\n",
              "    .dataframe tbody tr th {\n",
              "        vertical-align: top;\n",
              "    }\n",
              "\n",
              "    .dataframe thead th {\n",
              "        text-align: right;\n",
              "    }\n",
              "</style>\n",
              "<table border=\"1\" class=\"dataframe\">\n",
              "  <thead>\n",
              "    <tr style=\"text-align: right;\">\n",
              "      <th></th>\n",
              "      <th>요양기관</th>\n",
              "      <th>주상병코드</th>\n",
              "    </tr>\n",
              "  </thead>\n",
              "  <tbody>\n",
              "    <tr>\n",
              "      <th>59</th>\n",
              "      <td>의원</td>\n",
              "      <td>B308</td>\n",
              "    </tr>\n",
              "    <tr>\n",
              "      <th>60</th>\n",
              "      <td>의원</td>\n",
              "      <td>J209</td>\n",
              "    </tr>\n",
              "    <tr>\n",
              "      <th>61</th>\n",
              "      <td>의원</td>\n",
              "      <td>K219</td>\n",
              "    </tr>\n",
              "    <tr>\n",
              "      <th>62</th>\n",
              "      <td>의원</td>\n",
              "      <td>K641</td>\n",
              "    </tr>\n",
              "    <tr>\n",
              "      <th>63</th>\n",
              "      <td>의원</td>\n",
              "      <td>K641</td>\n",
              "    </tr>\n",
              "  </tbody>\n",
              "</table>\n",
              "</div>"
            ],
            "text/plain": [
              "   요양기관 주상병코드\n",
              "59   의원  B308\n",
              "60   의원  J209\n",
              "61   의원  K219\n",
              "62   의원  K641\n",
              "63   의원  K641"
            ]
          },
          "metadata": {},
          "execution_count": 95
        }
      ]
    },
    {
      "cell_type": "code",
      "metadata": {
        "colab": {
          "base_uri": "https://localhost:8080/"
        },
        "id": "HFREc0dlDyxM",
        "outputId": "49e17ec7-7edf-4395-e695-52b3ea19372f"
      },
      "source": [
        "s = seoul['요양기관'].value_counts()\n",
        "s"
      ],
      "execution_count": 99,
      "outputs": [
        {
          "output_type": "execute_result",
          "data": {
            "text/plain": [
              "의원        1846200\n",
              "상급종합병원     181296\n",
              "종합병원       179823\n",
              "병원         154289\n",
              "Name: 요양기관, dtype: int64"
            ]
          },
          "metadata": {},
          "execution_count": 99
        }
      ]
    },
    {
      "cell_type": "code",
      "metadata": {
        "id": "eD9kZkaiKsgv",
        "colab": {
          "base_uri": "https://localhost:8080/"
        },
        "outputId": "89eda2fe-a485-4f92-9d2a-75c652b5a787"
      },
      "source": [
        "!sudo apt install -y fonts-nanum*  > /dev/null\n",
        "!sudo fc-cache -fv                 > /dev/null\n",
        "!rm ~/.cache/matplotlib -rf        > /dev/null\n",
        "\n",
        "# 폰트 설정\n",
        "mpl.rc('font', family='NanumGothic')\n",
        "# 유니코드에서  음수 부호설정\n",
        "mpl.rc('axes', unicode_minus=False)"
      ],
      "execution_count": 61,
      "outputs": [
        {
          "output_type": "stream",
          "name": "stdout",
          "text": [
            "\n",
            "WARNING: apt does not have a stable CLI interface. Use with caution in scripts.\n",
            "\n"
          ]
        }
      ]
    },
    {
      "cell_type": "code",
      "metadata": {
        "colab": {
          "base_uri": "https://localhost:8080/",
          "height": 294
        },
        "id": "XaHB10c2K92B",
        "outputId": "9d3102ea-5696-42d3-b441-567c439ac3c9"
      },
      "source": [
        "y = s.values\n",
        "x = np.arange(len(y))\n",
        "xlabel = s.index.to_list()\n",
        "\n",
        "plt.title('2019 서울지역 요양기관이용수')\n",
        "plt.bar(x, y)\n",
        "plt.xticks(x, xlabel)\n",
        "plt.xlabel('요양기관')\n",
        "plt.ylabel('이용 수')\n",
        "plt.show()"
      ],
      "execution_count": 101,
      "outputs": [
        {
          "output_type": "display_data",
          "data": {
            "image/png": "[encoded data removed]",
            "text/plain": [
              "<Figure size 432x288 with 1 Axes>"
            ]
          },
          "metadata": {
            "needs_background": "light"
          }
        }
      ]
    },
    {
      "cell_type": "code",
      "metadata": {
        "id": "sU3bjccfERuE"
      },
      "source": [
        ""
      ],
      "execution_count": null,
      "outputs": []
    },
    {
      "cell_type": "code",
      "metadata": {
        "id": "AY-Z3tfVGY3p"
      },
      "source": [
        ""
      ],
      "execution_count": null,
      "outputs": []
    },
    {
      "cell_type": "code",
      "metadata": {
        "id": "4AetpcV_GY0E"
      },
      "source": [
        ""
      ],
      "execution_count": null,
      "outputs": []
    },
    {
      "cell_type": "code",
      "metadata": {
        "id": "d7IZpCf8GYu-"
      },
      "source": [
        ""
      ],
      "execution_count": null,
      "outputs": []
    },
    {
      "cell_type": "code",
      "metadata": {
        "id": "vBK52S97ERkF"
      },
      "source": [
        ""
      ],
      "execution_count": null,
      "outputs": []
    },
    {
      "cell_type": "code",
      "metadata": {
        "colab": {
          "base_uri": "https://localhost:8080/",
          "height": 143
        },
        "id": "hkUJ6UAvERSe",
        "outputId": "b2d32dbc-da3c-40cf-ebc6-26ed763f3702"
      },
      "source": [
        "healthcare = '/content/drive/MyDrive/4조_헬스케어/자료파일/1차전처리/healthcare.csv'\n",
        "healthcare = pd.read_csv(healthcare)\n",
        "healthcare.head(3)"
      ],
      "execution_count": 106,
      "outputs": [
        {
          "output_type": "execute_result",
          "data": {
            "text/html": [
              "<div>\n",
              "<style scoped>\n",
              "    .dataframe tbody tr th:only-of-type {\n",
              "        vertical-align: middle;\n",
              "    }\n",
              "\n",
              "    .dataframe tbody tr th {\n",
              "        vertical-align: top;\n",
              "    }\n",
              "\n",
              "    .dataframe thead th {\n",
              "        text-align: right;\n",
              "    }\n",
              "</style>\n",
              "<table border=\"1\" class=\"dataframe\">\n",
              "  <thead>\n",
              "    <tr style=\"text-align: right;\">\n",
              "      <th></th>\n",
              "      <th>Unnamed: 0</th>\n",
              "      <th>가입자 일련번호</th>\n",
              "      <th>시도코드</th>\n",
              "      <th>연령대코드</th>\n",
              "      <th>서식코드</th>\n",
              "      <th>주상병코드</th>\n",
              "      <th>부상병코드</th>\n",
              "      <th>심결가산율</th>\n",
              "    </tr>\n",
              "  </thead>\n",
              "  <tbody>\n",
              "    <tr>\n",
              "      <th>0</th>\n",
              "      <td>0</td>\n",
              "      <td>1</td>\n",
              "      <td>46</td>\n",
              "      <td>12</td>\n",
              "      <td>3</td>\n",
              "      <td>M751</td>\n",
              "      <td>M750</td>\n",
              "      <td>0.25</td>\n",
              "    </tr>\n",
              "    <tr>\n",
              "      <th>1</th>\n",
              "      <td>1</td>\n",
              "      <td>1</td>\n",
              "      <td>46</td>\n",
              "      <td>12</td>\n",
              "      <td>3</td>\n",
              "      <td>E1164</td>\n",
              "      <td>N308</td>\n",
              "      <td>0.25</td>\n",
              "    </tr>\n",
              "    <tr>\n",
              "      <th>2</th>\n",
              "      <td>2</td>\n",
              "      <td>1</td>\n",
              "      <td>46</td>\n",
              "      <td>12</td>\n",
              "      <td>3</td>\n",
              "      <td>N308</td>\n",
              "      <td>E1164</td>\n",
              "      <td>0.25</td>\n",
              "    </tr>\n",
              "  </tbody>\n",
              "</table>\n",
              "</div>"
            ],
            "text/plain": [
              "   Unnamed: 0  가입자 일련번호  시도코드  연령대코드  서식코드  주상병코드  부상병코드  심결가산율\n",
              "0           0         1    46     12     3   M751   M750   0.25\n",
              "1           1         1    46     12     3  E1164   N308   0.25\n",
              "2           2         1    46     12     3   N308  E1164   0.25"
            ]
          },
          "metadata": {},
          "execution_count": 106
        }
      ]
    },
    {
      "cell_type": "code",
      "metadata": {
        "colab": {
          "base_uri": "https://localhost:8080/"
        },
        "id": "XKaJHIsOGFw2",
        "outputId": "97b3e9f8-73db-45ae-e7bf-ae5944275011"
      },
      "source": [
        "# 결측치 확인\n",
        "healthcare.isnull().sum()"
      ],
      "execution_count": 107,
      "outputs": [
        {
          "output_type": "execute_result",
          "data": {
            "text/plain": [
              "Unnamed: 0    0\n",
              "가입자 일련번호      0\n",
              "시도코드          0\n",
              "연령대코드         0\n",
              "서식코드          0\n",
              "주상병코드         0\n",
              "부상병코드         0\n",
              "심결가산율         0\n",
              "dtype: int64"
            ]
          },
          "metadata": {},
          "execution_count": 107
        }
      ]
    },
    {
      "cell_type": "code",
      "metadata": {
        "id": "VoIRRUhgGFuP"
      },
      "source": [
        "from sklearn.preprocessing import LabelEncoder\n",
        "label_encoder = LabelEncoder()\n",
        "\n",
        "\n",
        "healthcare_encode = healthcare[['주상병코드', '부상병코드', '심결가산율']]\n",
        "\n",
        "healthcare_encode = healthcare_encode.apply(label_encoder.fit_transform)\n",
        "\n",
        "healthcare['주상병코드'] = healthcare_encode['주상병코드']\n",
        "healthcare['부상병코드'] = healthcare_encode['부상병코드']\n",
        "healthcare['심결가산율'] = healthcare_encode['심결가산율']\n"
      ],
      "execution_count": 108,
      "outputs": []
    },
    {
      "cell_type": "code",
      "metadata": {
        "colab": {
          "base_uri": "https://localhost:8080/",
          "height": 205
        },
        "id": "llI-BoyWGFr7",
        "outputId": "dc53b4e8-54f5-4928-e2f9-489b83109083"
      },
      "source": [
        "healthcare.head()"
      ],
      "execution_count": 109,
      "outputs": [
        {
          "output_type": "execute_result",
          "data": {
            "text/html": [
              "<div>\n",
              "<style scoped>\n",
              "    .dataframe tbody tr th:only-of-type {\n",
              "        vertical-align: middle;\n",
              "    }\n",
              "\n",
              "    .dataframe tbody tr th {\n",
              "        vertical-align: top;\n",
              "    }\n",
              "\n",
              "    .dataframe thead th {\n",
              "        text-align: right;\n",
              "    }\n",
              "</style>\n",
              "<table border=\"1\" class=\"dataframe\">\n",
              "  <thead>\n",
              "    <tr style=\"text-align: right;\">\n",
              "      <th></th>\n",
              "      <th>Unnamed: 0</th>\n",
              "      <th>가입자 일련번호</th>\n",
              "      <th>시도코드</th>\n",
              "      <th>연령대코드</th>\n",
              "      <th>서식코드</th>\n",
              "      <th>주상병코드</th>\n",
              "      <th>부상병코드</th>\n",
              "      <th>심결가산율</th>\n",
              "    </tr>\n",
              "  </thead>\n",
              "  <tbody>\n",
              "    <tr>\n",
              "      <th>0</th>\n",
              "      <td>0</td>\n",
              "      <td>1</td>\n",
              "      <td>46</td>\n",
              "      <td>12</td>\n",
              "      <td>3</td>\n",
              "      <td>5894</td>\n",
              "      <td>5882</td>\n",
              "      <td>2</td>\n",
              "    </tr>\n",
              "    <tr>\n",
              "      <th>1</th>\n",
              "      <td>1</td>\n",
              "      <td>1</td>\n",
              "      <td>46</td>\n",
              "      <td>12</td>\n",
              "      <td>3</td>\n",
              "      <td>1105</td>\n",
              "      <td>6704</td>\n",
              "      <td>2</td>\n",
              "    </tr>\n",
              "    <tr>\n",
              "      <th>2</th>\n",
              "      <td>2</td>\n",
              "      <td>1</td>\n",
              "      <td>46</td>\n",
              "      <td>12</td>\n",
              "      <td>3</td>\n",
              "      <td>6676</td>\n",
              "      <td>1069</td>\n",
              "      <td>2</td>\n",
              "    </tr>\n",
              "    <tr>\n",
              "      <th>3</th>\n",
              "      <td>3</td>\n",
              "      <td>1</td>\n",
              "      <td>46</td>\n",
              "      <td>12</td>\n",
              "      <td>2</td>\n",
              "      <td>1105</td>\n",
              "      <td>6704</td>\n",
              "      <td>2</td>\n",
              "    </tr>\n",
              "    <tr>\n",
              "      <th>4</th>\n",
              "      <td>4</td>\n",
              "      <td>1</td>\n",
              "      <td>46</td>\n",
              "      <td>12</td>\n",
              "      <td>3</td>\n",
              "      <td>2302</td>\n",
              "      <td>2925</td>\n",
              "      <td>0</td>\n",
              "    </tr>\n",
              "  </tbody>\n",
              "</table>\n",
              "</div>"
            ],
            "text/plain": [
              "   Unnamed: 0  가입자 일련번호  시도코드  연령대코드  서식코드  주상병코드  부상병코드  심결가산율\n",
              "0           0         1    46     12     3   5894   5882      2\n",
              "1           1         1    46     12     3   1105   6704      2\n",
              "2           2         1    46     12     3   6676   1069      2\n",
              "3           3         1    46     12     2   1105   6704      2\n",
              "4           4         1    46     12     3   2302   2925      0"
            ]
          },
          "metadata": {},
          "execution_count": 109
        }
      ]
    },
    {
      "cell_type": "code",
      "metadata": {
        "id": "KwYXYA91GFpF"
      },
      "source": [
        "from sklearn.preprocessing import MinMaxScaler\n",
        "\n",
        "X = healthcare.iloc[:, 1:]\n",
        "y = healthcare.loc[:, '시도코드']\n",
        "\n",
        "\n",
        "\n",
        "scaler = MinMaxScaler()\n",
        "scaler.fit(X)\n",
        "X_scaled = scaler.transform(X)\n"
      ],
      "execution_count": 110,
      "outputs": []
    },
    {
      "cell_type": "code",
      "metadata": {
        "id": "_avUrJCoGFmV"
      },
      "source": [
        "# 테스트 사이즈만 지정해주면 트레인/테스트 데이터를 나눠줌\n",
        "from sklearn.model_selection import train_test_split\n",
        "\n",
        "X_train, X_test, y_train, y_test = train_test_split(X_scaled, y, test_size=0.2, random_state=42)\n",
        "# 트레인에 사용되지 않은 데이터로 성능을 확인해야 함"
      ],
      "execution_count": 111,
      "outputs": []
    },
    {
      "cell_type": "code",
      "metadata": {
        "id": "aHj6XwaaGFh7"
      },
      "source": [
        "# 모델 빌딩, 트레이닝\n",
        "from sklearn.linear_model import LogisticRegression\n",
        "\n",
        "clf = LogisticRegression()\n",
        "# training the model\n",
        "clf.fit(X_train, y_train)"
      ],
      "execution_count": null,
      "outputs": []
    },
    {
      "cell_type": "code",
      "metadata": {
        "id": "3PUcYI0mGFfQ"
      },
      "source": [
        ""
      ],
      "execution_count": null,
      "outputs": []
    },
    {
      "cell_type": "code",
      "metadata": {
        "id": "AFsNTwKDGO5w"
      },
      "source": [
        ""
      ],
      "execution_count": null,
      "outputs": []
    },
    {
      "cell_type": "code",
      "metadata": {
        "id": "IfXLoIZxGO2Q"
      },
      "source": [
        ""
      ],
      "execution_count": null,
      "outputs": []
    },
    {
      "cell_type": "code",
      "metadata": {
        "id": "UmI9kijIGOzT"
      },
      "source": [
        ""
      ],
      "execution_count": null,
      "outputs": []
    },
    {
      "cell_type": "code",
      "metadata": {
        "colab": {
          "base_uri": "https://localhost:8080/",
          "height": 205
        },
        "id": "WzJw4oqJO7Wa",
        "outputId": "f1798693-9ae8-4575-a626-b36d2d11608e"
      },
      "source": [
        "healthcare = '/content/drive/MyDrive/4조_헬스케어/자료파일/1차전처리/인구데이터/고령인구수2019.csv'\n",
        "healthcare = pd.read_csv(healthcare)\n",
        "healthcare.head(5)"
      ],
      "execution_count": 31,
      "outputs": [
        {
          "output_type": "execute_result",
          "data": {
            "text/html": [
              "<div>\n",
              "<style scoped>\n",
              "    .dataframe tbody tr th:only-of-type {\n",
              "        vertical-align: middle;\n",
              "    }\n",
              "\n",
              "    .dataframe tbody tr th {\n",
              "        vertical-align: top;\n",
              "    }\n",
              "\n",
              "    .dataframe thead th {\n",
              "        text-align: right;\n",
              "    }\n",
              "</style>\n",
              "<table border=\"1\" class=\"dataframe\">\n",
              "  <thead>\n",
              "    <tr style=\"text-align: right;\">\n",
              "      <th></th>\n",
              "      <th>Unnamed: 0</th>\n",
              "      <th>행정구역별(읍면동)</th>\n",
              "      <th>연령별</th>\n",
              "      <th>2019</th>\n",
              "      <th>2019.1</th>\n",
              "      <th>2019.2</th>\n",
              "      <th>2019.3</th>\n",
              "    </tr>\n",
              "  </thead>\n",
              "  <tbody>\n",
              "    <tr>\n",
              "      <th>0</th>\n",
              "      <td>15</td>\n",
              "      <td>서울특별시</td>\n",
              "      <td>65~69세</td>\n",
              "      <td>481211</td>\n",
              "      <td>226481</td>\n",
              "      <td>254730</td>\n",
              "      <td>88.9</td>\n",
              "    </tr>\n",
              "    <tr>\n",
              "      <th>1</th>\n",
              "      <td>16</td>\n",
              "      <td>서울특별시</td>\n",
              "      <td>70~74세</td>\n",
              "      <td>377160</td>\n",
              "      <td>173395</td>\n",
              "      <td>203765</td>\n",
              "      <td>85.1</td>\n",
              "    </tr>\n",
              "    <tr>\n",
              "      <th>2</th>\n",
              "      <td>17</td>\n",
              "      <td>서울특별시</td>\n",
              "      <td>75~79세</td>\n",
              "      <td>285466</td>\n",
              "      <td>128585</td>\n",
              "      <td>156881</td>\n",
              "      <td>82.0</td>\n",
              "    </tr>\n",
              "    <tr>\n",
              "      <th>3</th>\n",
              "      <td>18</td>\n",
              "      <td>서울특별시</td>\n",
              "      <td>80~84세</td>\n",
              "      <td>169625</td>\n",
              "      <td>68264</td>\n",
              "      <td>101361</td>\n",
              "      <td>67.3</td>\n",
              "    </tr>\n",
              "    <tr>\n",
              "      <th>4</th>\n",
              "      <td>19</td>\n",
              "      <td>서울특별시</td>\n",
              "      <td>85세이상</td>\n",
              "      <td>106485</td>\n",
              "      <td>32115</td>\n",
              "      <td>74370</td>\n",
              "      <td>43.2</td>\n",
              "    </tr>\n",
              "  </tbody>\n",
              "</table>\n",
              "</div>"
            ],
            "text/plain": [
              "   Unnamed: 0 행정구역별(읍면동)     연령별    2019  2019.1  2019.2  2019.3\n",
              "0          15      서울특별시  65~69세  481211  226481  254730    88.9\n",
              "1          16      서울특별시  70~74세  377160  173395  203765    85.1\n",
              "2          17      서울특별시  75~79세  285466  128585  156881    82.0\n",
              "3          18      서울특별시  80~84세  169625   68264  101361    67.3\n",
              "4          19      서울특별시   85세이상  106485   32115   74370    43.2"
            ]
          },
          "metadata": {},
          "execution_count": 31
        }
      ]
    },
    {
      "cell_type": "code",
      "metadata": {
        "id": "2SIo5RvwS4Fg"
      },
      "source": [
        ""
      ],
      "execution_count": null,
      "outputs": []
    }
  ]
}