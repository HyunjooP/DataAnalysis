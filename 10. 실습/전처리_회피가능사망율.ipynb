{
  "nbformat": 4,
  "nbformat_minor": 0,
  "metadata": {
    "colab": {
      "name": "회피가능사망율.ipynb",
      "provenance": [],
      "collapsed_sections": []
    },
    "kernelspec": {
      "name": "python3",
      "display_name": "Python 3"
    },
    "language_info": {
      "name": "python"
    }
  },
  "cells": [
    {
      "cell_type": "code",
      "metadata": {
        "colab": {
          "base_uri": "https://localhost:8080/"
        },
        "id": "YeuTRnY69rTP",
        "outputId": "a708c2f4-023e-45b6-8a84-8cc0319c4d03"
      },
      "source": [
        "from google.colab import drive\n",
        "drive.mount('/gdrive', force_remount=True)"
      ],
      "execution_count": 68,
      "outputs": [
        {
          "output_type": "stream",
          "name": "stdout",
          "text": [
            "Mounted at /gdrive\n"
          ]
        }
      ]
    },
    {
      "cell_type": "code",
      "metadata": {
        "id": "Ci2yNItoyCL2"
      },
      "source": [
        "import pandas as pd\n",
        "import numpy as np\n",
        "import seaborn as sns\n",
        "import matplotlib as mpl\n",
        "import matplotlib.pyplot as plt"
      ],
      "execution_count": 69,
      "outputs": []
    },
    {
      "cell_type": "code",
      "metadata": {
        "colab": {
          "base_uri": "https://localhost:8080/"
        },
        "id": "JG43lZllyINi",
        "outputId": "3d30c5ca-abcf-4fe3-f224-e1c2173d5d15"
      },
      "source": [
        "from google.colab import drive\n",
        "drive.mount('/content/drive')"
      ],
      "execution_count": 70,
      "outputs": [
        {
          "output_type": "stream",
          "name": "stdout",
          "text": [
            "Mounted at /content/drive\n"
          ]
        }
      ]
    },
    {
      "cell_type": "code",
      "metadata": {
        "colab": {
          "base_uri": "https://localhost:8080/",
          "height": 143
        },
        "id": "aOP5gyDAyJHS",
        "outputId": "583587f1-20b7-4909-bcbf-772561479ee0"
      },
      "source": [
        "df1 = '/content/drive/MyDrive/4조_헬스케어/자료파일/raw_data/중증도보정입원의료사망비.csv'\n",
        "df1 = pd.read_csv(df1, encoding=\"euc-kr\")\n",
        "df1.head(3)"
      ],
      "execution_count": 48,
      "outputs": [
        {
          "output_type": "execute_result",
          "data": {
            "text/html": [
              "<div>\n",
              "<style scoped>\n",
              "    .dataframe tbody tr th:only-of-type {\n",
              "        vertical-align: middle;\n",
              "    }\n",
              "\n",
              "    .dataframe tbody tr th {\n",
              "        vertical-align: top;\n",
              "    }\n",
              "\n",
              "    .dataframe thead th {\n",
              "        text-align: right;\n",
              "    }\n",
              "</style>\n",
              "<table border=\"1\" class=\"dataframe\">\n",
              "  <thead>\n",
              "    <tr style=\"text-align: right;\">\n",
              "      <th></th>\n",
              "      <th>지표연도</th>\n",
              "      <th>\\t시도코드</th>\n",
              "      <th>\\t시도명</th>\n",
              "      <th>\\t구분</th>\n",
              "      <th>\\t성별</th>\n",
              "      <th>\\t연령대</th>\n",
              "      <th>\\t보험료구분</th>\n",
              "      <th>\\t이벤트건수</th>\n",
              "      <th>\\t대상자건수</th>\n",
              "      <th>\\t지표비율</th>\n",
              "      <th>\\t표준화율</th>\n",
              "    </tr>\n",
              "  </thead>\n",
              "  <tbody>\n",
              "    <tr>\n",
              "      <th>0</th>\n",
              "      <td>2017</td>\n",
              "      <td>11</td>\n",
              "      <td>\\t서울특별시</td>\n",
              "      <td>\\t권내</td>\n",
              "      <td>\\t전체</td>\n",
              "      <td>\\t전체</td>\n",
              "      <td>\\t전체</td>\n",
              "      <td>11955</td>\n",
              "      <td>14296</td>\n",
              "      <td>84.0</td>\n",
              "      <td>84.0</td>\n",
              "    </tr>\n",
              "    <tr>\n",
              "      <th>1</th>\n",
              "      <td>2019</td>\n",
              "      <td>11</td>\n",
              "      <td>\\t서울특별시</td>\n",
              "      <td>\\t권외</td>\n",
              "      <td>\\t전체</td>\n",
              "      <td>\\t전체</td>\n",
              "      <td>\\t전체</td>\n",
              "      <td>2599</td>\n",
              "      <td>2263</td>\n",
              "      <td>115.0</td>\n",
              "      <td>115.0</td>\n",
              "    </tr>\n",
              "    <tr>\n",
              "      <th>2</th>\n",
              "      <td>2019</td>\n",
              "      <td>11</td>\n",
              "      <td>\\t서울특별시</td>\n",
              "      <td>\\t권내</td>\n",
              "      <td>\\t전체</td>\n",
              "      <td>\\t전체</td>\n",
              "      <td>\\t전체</td>\n",
              "      <td>3792</td>\n",
              "      <td>4358</td>\n",
              "      <td>87.0</td>\n",
              "      <td>87.0</td>\n",
              "    </tr>\n",
              "  </tbody>\n",
              "</table>\n",
              "</div>"
            ],
            "text/plain": [
              "   지표연도  \\t시도코드    \\t시도명  \\t구분  \\t성별  ... \\t보험료구분 \\t이벤트건수  \\t대상자건수  \\t지표비율  \\t표준화율\n",
              "0  2017      11  \\t서울특별시  \\t권내  \\t전체  ...    \\t전체   11955    14296    84.0    84.0\n",
              "1  2019      11  \\t서울특별시  \\t권외  \\t전체  ...    \\t전체    2599     2263   115.0   115.0\n",
              "2  2019      11  \\t서울특별시  \\t권내  \\t전체  ...    \\t전체    3792     4358    87.0    87.0\n",
              "\n",
              "[3 rows x 11 columns]"
            ]
          },
          "metadata": {},
          "execution_count": 48
        }
      ]
    },
    {
      "cell_type": "code",
      "metadata": {
        "colab": {
          "base_uri": "https://localhost:8080/"
        },
        "id": "kGyYK9436HtP",
        "outputId": "b9d8567e-160f-4728-c513-a9d3b51f43cf"
      },
      "source": [
        "df1.columns"
      ],
      "execution_count": 49,
      "outputs": [
        {
          "output_type": "execute_result",
          "data": {
            "text/plain": [
              "Index(['지표연도', '\\t시도코드', '\\t시도명', '\\t구분', '\\t성별', '\\t연령대', '\\t보험료구분',\n",
              "       '\\t이벤트건수', '\\t대상자건수', '\\t지표비율', '\\t표준화율'],\n",
              "      dtype='object')"
            ]
          },
          "metadata": {},
          "execution_count": 49
        }
      ]
    },
    {
      "cell_type": "code",
      "metadata": {
        "colab": {
          "base_uri": "https://localhost:8080/"
        },
        "id": "Z38wQyE9GT6P",
        "outputId": "ac4ebfb0-5e9b-4a86-ef53-83a07abfcc33"
      },
      "source": [
        "df1.info()"
      ],
      "execution_count": 50,
      "outputs": [
        {
          "output_type": "stream",
          "name": "stdout",
          "text": [
            "<class 'pandas.core.frame.DataFrame'>\n",
            "RangeIndex: 453 entries, 0 to 452\n",
            "Data columns (total 11 columns):\n",
            " #   Column  Non-Null Count  Dtype  \n",
            "---  ------  --------------  -----  \n",
            " 0   지표연도    453 non-null    int64  \n",
            " 1   \t시도코드   453 non-null    int64  \n",
            " 2   \t시도명    453 non-null    object \n",
            " 3   \t구분     453 non-null    object \n",
            " 4   \t성별     453 non-null    object \n",
            " 5   \t연령대    453 non-null    object \n",
            " 6   \t보험료구분  453 non-null    object \n",
            " 7   \t이벤트건수  453 non-null    int64  \n",
            " 8   \t대상자건수  453 non-null    int64  \n",
            " 9   \t지표비율   453 non-null    float64\n",
            " 10  \t표준화율   453 non-null    float64\n",
            "dtypes: float64(2), int64(4), object(5)\n",
            "memory usage: 39.1+ KB\n"
          ]
        }
      ]
    },
    {
      "cell_type": "code",
      "metadata": {
        "colab": {
          "base_uri": "https://localhost:8080/",
          "height": 205
        },
        "id": "f2SLasZFHc_m",
        "outputId": "b1ef2ea3-ae22-47c4-9cd5-4a312f2eebb0"
      },
      "source": [
        "df1 = df1.replace(r'\\W+', '', regex=True)\n",
        "df1.head()"
      ],
      "execution_count": 51,
      "outputs": [
        {
          "output_type": "execute_result",
          "data": {
            "text/html": [
              "<div>\n",
              "<style scoped>\n",
              "    .dataframe tbody tr th:only-of-type {\n",
              "        vertical-align: middle;\n",
              "    }\n",
              "\n",
              "    .dataframe tbody tr th {\n",
              "        vertical-align: top;\n",
              "    }\n",
              "\n",
              "    .dataframe thead th {\n",
              "        text-align: right;\n",
              "    }\n",
              "</style>\n",
              "<table border=\"1\" class=\"dataframe\">\n",
              "  <thead>\n",
              "    <tr style=\"text-align: right;\">\n",
              "      <th></th>\n",
              "      <th>지표연도</th>\n",
              "      <th>\\t시도코드</th>\n",
              "      <th>\\t시도명</th>\n",
              "      <th>\\t구분</th>\n",
              "      <th>\\t성별</th>\n",
              "      <th>\\t연령대</th>\n",
              "      <th>\\t보험료구분</th>\n",
              "      <th>\\t이벤트건수</th>\n",
              "      <th>\\t대상자건수</th>\n",
              "      <th>\\t지표비율</th>\n",
              "      <th>\\t표준화율</th>\n",
              "    </tr>\n",
              "  </thead>\n",
              "  <tbody>\n",
              "    <tr>\n",
              "      <th>0</th>\n",
              "      <td>2017</td>\n",
              "      <td>11</td>\n",
              "      <td>서울특별시</td>\n",
              "      <td>권내</td>\n",
              "      <td>전체</td>\n",
              "      <td>전체</td>\n",
              "      <td>전체</td>\n",
              "      <td>11955</td>\n",
              "      <td>14296</td>\n",
              "      <td>84.0</td>\n",
              "      <td>84.0</td>\n",
              "    </tr>\n",
              "    <tr>\n",
              "      <th>1</th>\n",
              "      <td>2019</td>\n",
              "      <td>11</td>\n",
              "      <td>서울특별시</td>\n",
              "      <td>권외</td>\n",
              "      <td>전체</td>\n",
              "      <td>전체</td>\n",
              "      <td>전체</td>\n",
              "      <td>2599</td>\n",
              "      <td>2263</td>\n",
              "      <td>115.0</td>\n",
              "      <td>115.0</td>\n",
              "    </tr>\n",
              "    <tr>\n",
              "      <th>2</th>\n",
              "      <td>2019</td>\n",
              "      <td>11</td>\n",
              "      <td>서울특별시</td>\n",
              "      <td>권내</td>\n",
              "      <td>전체</td>\n",
              "      <td>전체</td>\n",
              "      <td>전체</td>\n",
              "      <td>3792</td>\n",
              "      <td>4358</td>\n",
              "      <td>87.0</td>\n",
              "      <td>87.0</td>\n",
              "    </tr>\n",
              "    <tr>\n",
              "      <th>3</th>\n",
              "      <td>2019</td>\n",
              "      <td>11</td>\n",
              "      <td>서울특별시</td>\n",
              "      <td>전체</td>\n",
              "      <td>전체</td>\n",
              "      <td>전체</td>\n",
              "      <td>전체</td>\n",
              "      <td>6391</td>\n",
              "      <td>6410</td>\n",
              "      <td>100.0</td>\n",
              "      <td>100.0</td>\n",
              "    </tr>\n",
              "    <tr>\n",
              "      <th>4</th>\n",
              "      <td>2018</td>\n",
              "      <td>11</td>\n",
              "      <td>서울특별시</td>\n",
              "      <td>권외</td>\n",
              "      <td>전체</td>\n",
              "      <td>전체</td>\n",
              "      <td>전체</td>\n",
              "      <td>7053</td>\n",
              "      <td>6337</td>\n",
              "      <td>111.0</td>\n",
              "      <td>111.0</td>\n",
              "    </tr>\n",
              "  </tbody>\n",
              "</table>\n",
              "</div>"
            ],
            "text/plain": [
              "   지표연도  \\t시도코드  \\t시도명 \\t구분 \\t성별  ... \\t보험료구분 \\t이벤트건수  \\t대상자건수  \\t지표비율  \\t표준화율\n",
              "0  2017      11  서울특별시   권내   전체  ...      전체   11955    14296    84.0    84.0\n",
              "1  2019      11  서울특별시   권외   전체  ...      전체    2599     2263   115.0   115.0\n",
              "2  2019      11  서울특별시   권내   전체  ...      전체    3792     4358    87.0    87.0\n",
              "3  2019      11  서울특별시   전체   전체  ...      전체    6391     6410   100.0   100.0\n",
              "4  2018      11  서울특별시   권외   전체  ...      전체    7053     6337   111.0   111.0\n",
              "\n",
              "[5 rows x 11 columns]"
            ]
          },
          "metadata": {},
          "execution_count": 51
        }
      ]
    },
    {
      "cell_type": "code",
      "metadata": {
        "colab": {
          "base_uri": "https://localhost:8080/",
          "height": 205
        },
        "id": "BTxNqMKryfJ3",
        "outputId": "c5cdd15c-b5a4-4604-d422-9a505c045f1b"
      },
      "source": [
        "df1 = df1[df1.지표연도 == 2019]\n",
        "df1.head()"
      ],
      "execution_count": 52,
      "outputs": [
        {
          "output_type": "execute_result",
          "data": {
            "text/html": [
              "<div>\n",
              "<style scoped>\n",
              "    .dataframe tbody tr th:only-of-type {\n",
              "        vertical-align: middle;\n",
              "    }\n",
              "\n",
              "    .dataframe tbody tr th {\n",
              "        vertical-align: top;\n",
              "    }\n",
              "\n",
              "    .dataframe thead th {\n",
              "        text-align: right;\n",
              "    }\n",
              "</style>\n",
              "<table border=\"1\" class=\"dataframe\">\n",
              "  <thead>\n",
              "    <tr style=\"text-align: right;\">\n",
              "      <th></th>\n",
              "      <th>지표연도</th>\n",
              "      <th>\\t시도코드</th>\n",
              "      <th>\\t시도명</th>\n",
              "      <th>\\t구분</th>\n",
              "      <th>\\t성별</th>\n",
              "      <th>\\t연령대</th>\n",
              "      <th>\\t보험료구분</th>\n",
              "      <th>\\t이벤트건수</th>\n",
              "      <th>\\t대상자건수</th>\n",
              "      <th>\\t지표비율</th>\n",
              "      <th>\\t표준화율</th>\n",
              "    </tr>\n",
              "  </thead>\n",
              "  <tbody>\n",
              "    <tr>\n",
              "      <th>1</th>\n",
              "      <td>2019</td>\n",
              "      <td>11</td>\n",
              "      <td>서울특별시</td>\n",
              "      <td>권외</td>\n",
              "      <td>전체</td>\n",
              "      <td>전체</td>\n",
              "      <td>전체</td>\n",
              "      <td>2599</td>\n",
              "      <td>2263</td>\n",
              "      <td>115.0</td>\n",
              "      <td>115.0</td>\n",
              "    </tr>\n",
              "    <tr>\n",
              "      <th>2</th>\n",
              "      <td>2019</td>\n",
              "      <td>11</td>\n",
              "      <td>서울특별시</td>\n",
              "      <td>권내</td>\n",
              "      <td>전체</td>\n",
              "      <td>전체</td>\n",
              "      <td>전체</td>\n",
              "      <td>3792</td>\n",
              "      <td>4358</td>\n",
              "      <td>87.0</td>\n",
              "      <td>87.0</td>\n",
              "    </tr>\n",
              "    <tr>\n",
              "      <th>3</th>\n",
              "      <td>2019</td>\n",
              "      <td>11</td>\n",
              "      <td>서울특별시</td>\n",
              "      <td>전체</td>\n",
              "      <td>전체</td>\n",
              "      <td>전체</td>\n",
              "      <td>전체</td>\n",
              "      <td>6391</td>\n",
              "      <td>6410</td>\n",
              "      <td>100.0</td>\n",
              "      <td>100.0</td>\n",
              "    </tr>\n",
              "    <tr>\n",
              "      <th>36</th>\n",
              "      <td>2019</td>\n",
              "      <td>21</td>\n",
              "      <td>부산광역시</td>\n",
              "      <td>전체</td>\n",
              "      <td>전체</td>\n",
              "      <td>전체</td>\n",
              "      <td>전체</td>\n",
              "      <td>2418</td>\n",
              "      <td>2913</td>\n",
              "      <td>83.0</td>\n",
              "      <td>83.0</td>\n",
              "    </tr>\n",
              "    <tr>\n",
              "      <th>37</th>\n",
              "      <td>2019</td>\n",
              "      <td>21</td>\n",
              "      <td>부산광역시</td>\n",
              "      <td>권내</td>\n",
              "      <td>전체</td>\n",
              "      <td>전체</td>\n",
              "      <td>전체</td>\n",
              "      <td>1215</td>\n",
              "      <td>1663</td>\n",
              "      <td>73.0</td>\n",
              "      <td>73.0</td>\n",
              "    </tr>\n",
              "  </tbody>\n",
              "</table>\n",
              "</div>"
            ],
            "text/plain": [
              "    지표연도  \\t시도코드  \\t시도명 \\t구분 \\t성별  ... \\t보험료구분 \\t이벤트건수  \\t대상자건수  \\t지표비율  \\t표준화율\n",
              "1   2019      11  서울특별시   권외   전체  ...      전체    2599     2263   115.0   115.0\n",
              "2   2019      11  서울특별시   권내   전체  ...      전체    3792     4358    87.0    87.0\n",
              "3   2019      11  서울특별시   전체   전체  ...      전체    6391     6410   100.0   100.0\n",
              "36  2019      21  부산광역시   전체   전체  ...      전체    2418     2913    83.0    83.0\n",
              "37  2019      21  부산광역시   권내   전체  ...      전체    1215     1663    73.0    73.0\n",
              "\n",
              "[5 rows x 11 columns]"
            ]
          },
          "metadata": {},
          "execution_count": 52
        }
      ]
    },
    {
      "cell_type": "code",
      "metadata": {
        "colab": {
          "base_uri": "https://localhost:8080/",
          "height": 143
        },
        "id": "NDgg-eg-I13x",
        "outputId": "c9bcbffb-b9b3-44eb-b330-3ae6ddfcd1aa"
      },
      "source": [
        "df1.rename(columns={'\\t구분':'구분'},inplace=True)\n",
        "df1.head(3)"
      ],
      "execution_count": 53,
      "outputs": [
        {
          "output_type": "execute_result",
          "data": {
            "text/html": [
              "<div>\n",
              "<style scoped>\n",
              "    .dataframe tbody tr th:only-of-type {\n",
              "        vertical-align: middle;\n",
              "    }\n",
              "\n",
              "    .dataframe tbody tr th {\n",
              "        vertical-align: top;\n",
              "    }\n",
              "\n",
              "    .dataframe thead th {\n",
              "        text-align: right;\n",
              "    }\n",
              "</style>\n",
              "<table border=\"1\" class=\"dataframe\">\n",
              "  <thead>\n",
              "    <tr style=\"text-align: right;\">\n",
              "      <th></th>\n",
              "      <th>지표연도</th>\n",
              "      <th>\\t시도코드</th>\n",
              "      <th>\\t시도명</th>\n",
              "      <th>구분</th>\n",
              "      <th>\\t성별</th>\n",
              "      <th>\\t연령대</th>\n",
              "      <th>\\t보험료구분</th>\n",
              "      <th>\\t이벤트건수</th>\n",
              "      <th>\\t대상자건수</th>\n",
              "      <th>\\t지표비율</th>\n",
              "      <th>\\t표준화율</th>\n",
              "    </tr>\n",
              "  </thead>\n",
              "  <tbody>\n",
              "    <tr>\n",
              "      <th>1</th>\n",
              "      <td>2019</td>\n",
              "      <td>11</td>\n",
              "      <td>서울특별시</td>\n",
              "      <td>권외</td>\n",
              "      <td>전체</td>\n",
              "      <td>전체</td>\n",
              "      <td>전체</td>\n",
              "      <td>2599</td>\n",
              "      <td>2263</td>\n",
              "      <td>115.0</td>\n",
              "      <td>115.0</td>\n",
              "    </tr>\n",
              "    <tr>\n",
              "      <th>2</th>\n",
              "      <td>2019</td>\n",
              "      <td>11</td>\n",
              "      <td>서울특별시</td>\n",
              "      <td>권내</td>\n",
              "      <td>전체</td>\n",
              "      <td>전체</td>\n",
              "      <td>전체</td>\n",
              "      <td>3792</td>\n",
              "      <td>4358</td>\n",
              "      <td>87.0</td>\n",
              "      <td>87.0</td>\n",
              "    </tr>\n",
              "    <tr>\n",
              "      <th>3</th>\n",
              "      <td>2019</td>\n",
              "      <td>11</td>\n",
              "      <td>서울특별시</td>\n",
              "      <td>전체</td>\n",
              "      <td>전체</td>\n",
              "      <td>전체</td>\n",
              "      <td>전체</td>\n",
              "      <td>6391</td>\n",
              "      <td>6410</td>\n",
              "      <td>100.0</td>\n",
              "      <td>100.0</td>\n",
              "    </tr>\n",
              "  </tbody>\n",
              "</table>\n",
              "</div>"
            ],
            "text/plain": [
              "   지표연도  \\t시도코드  \\t시도명  구분 \\t성별 \\t연령대 \\t보험료구분  \\t이벤트건수  \\t대상자건수  \\t지표비율  \\t표준화율\n",
              "1  2019      11  서울특별시  권외   전체    전체      전체     2599     2263   115.0   115.0\n",
              "2  2019      11  서울특별시  권내   전체    전체      전체     3792     4358    87.0    87.0\n",
              "3  2019      11  서울특별시  전체   전체    전체      전체     6391     6410   100.0   100.0"
            ]
          },
          "metadata": {},
          "execution_count": 53
        }
      ]
    },
    {
      "cell_type": "code",
      "metadata": {
        "id": "MDyjTFeVJQ7t"
      },
      "source": [
        "df1.rename(columns={'\\t시도코드':'시도코드'},inplace=True)\n",
        "df1.rename(columns={'\\t시도명':'시도명'},inplace=True)\n",
        "df1.rename(columns={'\\t대상자건수':'대상자건수'},inplace=True)\n",
        "df1.rename(columns={'\\t지표비율':'지표비율'},inplace=True)"
      ],
      "execution_count": 60,
      "outputs": []
    },
    {
      "cell_type": "code",
      "metadata": {
        "colab": {
          "base_uri": "https://localhost:8080/",
          "height": 205
        },
        "id": "0-j33QWUIAQw",
        "outputId": "f81411b0-0d78-4009-dc4a-79e14764c0e6"
      },
      "source": [
        "df1 = df1[df1.구분 == '전체']\n",
        "df1.head()"
      ],
      "execution_count": 61,
      "outputs": [
        {
          "output_type": "execute_result",
          "data": {
            "text/html": [
              "<div>\n",
              "<style scoped>\n",
              "    .dataframe tbody tr th:only-of-type {\n",
              "        vertical-align: middle;\n",
              "    }\n",
              "\n",
              "    .dataframe tbody tr th {\n",
              "        vertical-align: top;\n",
              "    }\n",
              "\n",
              "    .dataframe thead th {\n",
              "        text-align: right;\n",
              "    }\n",
              "</style>\n",
              "<table border=\"1\" class=\"dataframe\">\n",
              "  <thead>\n",
              "    <tr style=\"text-align: right;\">\n",
              "      <th></th>\n",
              "      <th>지표연도</th>\n",
              "      <th>시도코드</th>\n",
              "      <th>시도명</th>\n",
              "      <th>구분</th>\n",
              "      <th>\\t성별</th>\n",
              "      <th>\\t연령대</th>\n",
              "      <th>\\t보험료구분</th>\n",
              "      <th>\\t이벤트건수</th>\n",
              "      <th>대상자건수</th>\n",
              "      <th>지표비율</th>\n",
              "      <th>\\t표준화율</th>\n",
              "    </tr>\n",
              "  </thead>\n",
              "  <tbody>\n",
              "    <tr>\n",
              "      <th>3</th>\n",
              "      <td>2019</td>\n",
              "      <td>11</td>\n",
              "      <td>서울특별시</td>\n",
              "      <td>전체</td>\n",
              "      <td>전체</td>\n",
              "      <td>전체</td>\n",
              "      <td>전체</td>\n",
              "      <td>6391</td>\n",
              "      <td>6410</td>\n",
              "      <td>100.0</td>\n",
              "      <td>100.0</td>\n",
              "    </tr>\n",
              "    <tr>\n",
              "      <th>36</th>\n",
              "      <td>2019</td>\n",
              "      <td>21</td>\n",
              "      <td>부산광역시</td>\n",
              "      <td>전체</td>\n",
              "      <td>전체</td>\n",
              "      <td>전체</td>\n",
              "      <td>전체</td>\n",
              "      <td>2418</td>\n",
              "      <td>2913</td>\n",
              "      <td>83.0</td>\n",
              "      <td>83.0</td>\n",
              "    </tr>\n",
              "    <tr>\n",
              "      <th>63</th>\n",
              "      <td>2019</td>\n",
              "      <td>22</td>\n",
              "      <td>대구광역시</td>\n",
              "      <td>전체</td>\n",
              "      <td>전체</td>\n",
              "      <td>전체</td>\n",
              "      <td>전체</td>\n",
              "      <td>1650</td>\n",
              "      <td>1491</td>\n",
              "      <td>111.0</td>\n",
              "      <td>111.0</td>\n",
              "    </tr>\n",
              "    <tr>\n",
              "      <th>84</th>\n",
              "      <td>2019</td>\n",
              "      <td>23</td>\n",
              "      <td>인천광역시</td>\n",
              "      <td>전체</td>\n",
              "      <td>전체</td>\n",
              "      <td>전체</td>\n",
              "      <td>전체</td>\n",
              "      <td>1885</td>\n",
              "      <td>1938</td>\n",
              "      <td>97.0</td>\n",
              "      <td>97.0</td>\n",
              "    </tr>\n",
              "    <tr>\n",
              "      <th>117</th>\n",
              "      <td>2019</td>\n",
              "      <td>24</td>\n",
              "      <td>광주광역시</td>\n",
              "      <td>전체</td>\n",
              "      <td>전체</td>\n",
              "      <td>전체</td>\n",
              "      <td>전체</td>\n",
              "      <td>814</td>\n",
              "      <td>904</td>\n",
              "      <td>90.0</td>\n",
              "      <td>90.0</td>\n",
              "    </tr>\n",
              "  </tbody>\n",
              "</table>\n",
              "</div>"
            ],
            "text/plain": [
              "     지표연도  시도코드    시도명  구분 \\t성별 \\t연령대 \\t보험료구분  \\t이벤트건수  대상자건수   지표비율  \\t표준화율\n",
              "3    2019    11  서울특별시  전체   전체    전체      전체     6391   6410  100.0   100.0\n",
              "36   2019    21  부산광역시  전체   전체    전체      전체     2418   2913   83.0    83.0\n",
              "63   2019    22  대구광역시  전체   전체    전체      전체     1650   1491  111.0   111.0\n",
              "84   2019    23  인천광역시  전체   전체    전체      전체     1885   1938   97.0    97.0\n",
              "117  2019    24  광주광역시  전체   전체    전체      전체      814    904   90.0    90.0"
            ]
          },
          "metadata": {},
          "execution_count": 61
        }
      ]
    },
    {
      "cell_type": "code",
      "metadata": {
        "id": "l6c1vSoc3GGR",
        "colab": {
          "base_uri": "https://localhost:8080/",
          "height": 205
        },
        "outputId": "a24774ab-139d-4229-f70d-1fd22eb32a18"
      },
      "source": [
        "df1 = df1[['시도코드', '시도명', '대상자건수', '지표비율']]\n",
        "df1.head()"
      ],
      "execution_count": 66,
      "outputs": [
        {
          "output_type": "execute_result",
          "data": {
            "text/html": [
              "<div>\n",
              "<style scoped>\n",
              "    .dataframe tbody tr th:only-of-type {\n",
              "        vertical-align: middle;\n",
              "    }\n",
              "\n",
              "    .dataframe tbody tr th {\n",
              "        vertical-align: top;\n",
              "    }\n",
              "\n",
              "    .dataframe thead th {\n",
              "        text-align: right;\n",
              "    }\n",
              "</style>\n",
              "<table border=\"1\" class=\"dataframe\">\n",
              "  <thead>\n",
              "    <tr style=\"text-align: right;\">\n",
              "      <th></th>\n",
              "      <th>시도코드</th>\n",
              "      <th>시도명</th>\n",
              "      <th>대상자건수</th>\n",
              "      <th>지표비율</th>\n",
              "    </tr>\n",
              "  </thead>\n",
              "  <tbody>\n",
              "    <tr>\n",
              "      <th>0</th>\n",
              "      <td>11</td>\n",
              "      <td>서울특별시</td>\n",
              "      <td>6410</td>\n",
              "      <td>100.0</td>\n",
              "    </tr>\n",
              "    <tr>\n",
              "      <th>1</th>\n",
              "      <td>21</td>\n",
              "      <td>부산광역시</td>\n",
              "      <td>2913</td>\n",
              "      <td>83.0</td>\n",
              "    </tr>\n",
              "    <tr>\n",
              "      <th>2</th>\n",
              "      <td>22</td>\n",
              "      <td>대구광역시</td>\n",
              "      <td>1491</td>\n",
              "      <td>111.0</td>\n",
              "    </tr>\n",
              "    <tr>\n",
              "      <th>3</th>\n",
              "      <td>23</td>\n",
              "      <td>인천광역시</td>\n",
              "      <td>1938</td>\n",
              "      <td>97.0</td>\n",
              "    </tr>\n",
              "    <tr>\n",
              "      <th>4</th>\n",
              "      <td>24</td>\n",
              "      <td>광주광역시</td>\n",
              "      <td>904</td>\n",
              "      <td>90.0</td>\n",
              "    </tr>\n",
              "  </tbody>\n",
              "</table>\n",
              "</div>"
            ],
            "text/plain": [
              "   시도코드    시도명  대상자건수   지표비율\n",
              "0    11  서울특별시   6410  100.0\n",
              "1    21  부산광역시   2913   83.0\n",
              "2    22  대구광역시   1491  111.0\n",
              "3    23  인천광역시   1938   97.0\n",
              "4    24  광주광역시    904   90.0"
            ]
          },
          "metadata": {},
          "execution_count": 66
        }
      ]
    },
    {
      "cell_type": "code",
      "metadata": {
        "id": "QRMJ5_iUJluD"
      },
      "source": [
        "df1.to_csv('회피가능사망율.csv')"
      ],
      "execution_count": 63,
      "outputs": []
    },
    {
      "cell_type": "code",
      "metadata": {
        "id": "5sxk-8d0KVn_"
      },
      "source": [
        ""
      ],
      "execution_count": null,
      "outputs": []
    },
    {
      "cell_type": "markdown",
      "metadata": {
        "id": "R-bYQlwGSu1q"
      },
      "source": [
        "- KOSIS 데이터"
      ]
    },
    {
      "cell_type": "code",
      "metadata": {
        "colab": {
          "base_uri": "https://localhost:8080/",
          "height": 143
        },
        "id": "XeMvYOPGSrRo",
        "outputId": "73902642-914b-45ff-ada1-bdb0a3d80ba7"
      },
      "source": [
        "df2 = '/content/drive/MyDrive/4조_헬스케어/자료파일/raw_data/의료기관_소재지별_치료가능_사망률_2015.csv'\n",
        "df2 = pd.read_csv(df2, header=2, encoding=\"euc-kr\")\n",
        "df2.head(3)"
      ],
      "execution_count": 88,
      "outputs": [
        {
          "output_type": "execute_result",
          "data": {
            "text/html": [
              "<div>\n",
              "<style scoped>\n",
              "    .dataframe tbody tr th:only-of-type {\n",
              "        vertical-align: middle;\n",
              "    }\n",
              "\n",
              "    .dataframe tbody tr th {\n",
              "        vertical-align: top;\n",
              "    }\n",
              "\n",
              "    .dataframe thead th {\n",
              "        text-align: right;\n",
              "    }\n",
              "</style>\n",
              "<table border=\"1\" class=\"dataframe\">\n",
              "  <thead>\n",
              "    <tr style=\"text-align: right;\">\n",
              "      <th></th>\n",
              "      <th>전국</th>\n",
              "      <th>69.3</th>\n",
              "      <th>50.4</th>\n",
              "    </tr>\n",
              "  </thead>\n",
              "  <tbody>\n",
              "    <tr>\n",
              "      <th>0</th>\n",
              "      <td>서울</td>\n",
              "      <td>59.1</td>\n",
              "      <td>44.6</td>\n",
              "    </tr>\n",
              "    <tr>\n",
              "      <th>1</th>\n",
              "      <td>부산</td>\n",
              "      <td>75.2</td>\n",
              "      <td>55.3</td>\n",
              "    </tr>\n",
              "    <tr>\n",
              "      <th>2</th>\n",
              "      <td>대구</td>\n",
              "      <td>76.2</td>\n",
              "      <td>54.2</td>\n",
              "    </tr>\n",
              "  </tbody>\n",
              "</table>\n",
              "</div>"
            ],
            "text/plain": [
              "   전국  69.3  50.4\n",
              "0  서울  59.1  44.6\n",
              "1  부산  75.2  55.3\n",
              "2  대구  76.2  54.2"
            ]
          },
          "metadata": {},
          "execution_count": 88
        }
      ]
    },
    {
      "cell_type": "code",
      "metadata": {
        "colab": {
          "base_uri": "https://localhost:8080/",
          "height": 143
        },
        "id": "bp2YnhF5SuHK",
        "outputId": "23b20459-8a1e-4347-84b7-246bba4ca7d9"
      },
      "source": [
        "df2 = df2[['전국', '50.4']]\n",
        "# index reset \n",
        "df2 = df2.reset_index(drop=True)\n",
        "df2.head(3)"
      ],
      "execution_count": 89,
      "outputs": [
        {
          "output_type": "execute_result",
          "data": {
            "text/html": [
              "<div>\n",
              "<style scoped>\n",
              "    .dataframe tbody tr th:only-of-type {\n",
              "        vertical-align: middle;\n",
              "    }\n",
              "\n",
              "    .dataframe tbody tr th {\n",
              "        vertical-align: top;\n",
              "    }\n",
              "\n",
              "    .dataframe thead th {\n",
              "        text-align: right;\n",
              "    }\n",
              "</style>\n",
              "<table border=\"1\" class=\"dataframe\">\n",
              "  <thead>\n",
              "    <tr style=\"text-align: right;\">\n",
              "      <th></th>\n",
              "      <th>전국</th>\n",
              "      <th>50.4</th>\n",
              "    </tr>\n",
              "  </thead>\n",
              "  <tbody>\n",
              "    <tr>\n",
              "      <th>0</th>\n",
              "      <td>서울</td>\n",
              "      <td>44.6</td>\n",
              "    </tr>\n",
              "    <tr>\n",
              "      <th>1</th>\n",
              "      <td>부산</td>\n",
              "      <td>55.3</td>\n",
              "    </tr>\n",
              "    <tr>\n",
              "      <th>2</th>\n",
              "      <td>대구</td>\n",
              "      <td>54.2</td>\n",
              "    </tr>\n",
              "  </tbody>\n",
              "</table>\n",
              "</div>"
            ],
            "text/plain": [
              "   전국  50.4\n",
              "0  서울  44.6\n",
              "1  부산  55.3\n",
              "2  대구  54.2"
            ]
          },
          "metadata": {},
          "execution_count": 89
        }
      ]
    },
    {
      "cell_type": "code",
      "metadata": {
        "colab": {
          "base_uri": "https://localhost:8080/",
          "height": 143
        },
        "id": "MzaNuMS1SrPN",
        "outputId": "aeede9bf-c273-4f41-cb35-712dd3c42d3c"
      },
      "source": [
        "df2.rename(columns={'전국':'시도명'},inplace=True)\n",
        "df2.rename(columns={'50.4':'사망률'},inplace=True)\n",
        "df2.head(3)"
      ],
      "execution_count": 90,
      "outputs": [
        {
          "output_type": "execute_result",
          "data": {
            "text/html": [
              "<div>\n",
              "<style scoped>\n",
              "    .dataframe tbody tr th:only-of-type {\n",
              "        vertical-align: middle;\n",
              "    }\n",
              "\n",
              "    .dataframe tbody tr th {\n",
              "        vertical-align: top;\n",
              "    }\n",
              "\n",
              "    .dataframe thead th {\n",
              "        text-align: right;\n",
              "    }\n",
              "</style>\n",
              "<table border=\"1\" class=\"dataframe\">\n",
              "  <thead>\n",
              "    <tr style=\"text-align: right;\">\n",
              "      <th></th>\n",
              "      <th>시도명</th>\n",
              "      <th>사망률</th>\n",
              "    </tr>\n",
              "  </thead>\n",
              "  <tbody>\n",
              "    <tr>\n",
              "      <th>0</th>\n",
              "      <td>서울</td>\n",
              "      <td>44.6</td>\n",
              "    </tr>\n",
              "    <tr>\n",
              "      <th>1</th>\n",
              "      <td>부산</td>\n",
              "      <td>55.3</td>\n",
              "    </tr>\n",
              "    <tr>\n",
              "      <th>2</th>\n",
              "      <td>대구</td>\n",
              "      <td>54.2</td>\n",
              "    </tr>\n",
              "  </tbody>\n",
              "</table>\n",
              "</div>"
            ],
            "text/plain": [
              "  시도명   사망률\n",
              "0  서울  44.6\n",
              "1  부산  55.3\n",
              "2  대구  54.2"
            ]
          },
          "metadata": {},
          "execution_count": 90
        }
      ]
    },
    {
      "cell_type": "code",
      "metadata": {
        "id": "bcRfJVajVPQK"
      },
      "source": [
        "df2.replace(['서울', '부산', '인천', '대구', '광주', '대전', '울산', '경기', '강원', '충북', '충남',\n",
        "       '전북', '전남', '경북', '경남', '제주', '세종'],\n",
        "       ['11', '21', '23', '22', '24', '25', '26', '31', '32',\n",
        "       '33', '34', '35', '36', '37', '38', '39', '29'],inplace=True)"
      ],
      "execution_count": 91,
      "outputs": []
    },
    {
      "cell_type": "code",
      "metadata": {
        "colab": {
          "base_uri": "https://localhost:8080/",
          "height": 143
        },
        "id": "S6rAPiQqWoO_",
        "outputId": "da0ecae1-22dc-4369-cefb-6caf72af675f"
      },
      "source": [
        "df2.head(3)"
      ],
      "execution_count": 92,
      "outputs": [
        {
          "output_type": "execute_result",
          "data": {
            "text/html": [
              "<div>\n",
              "<style scoped>\n",
              "    .dataframe tbody tr th:only-of-type {\n",
              "        vertical-align: middle;\n",
              "    }\n",
              "\n",
              "    .dataframe tbody tr th {\n",
              "        vertical-align: top;\n",
              "    }\n",
              "\n",
              "    .dataframe thead th {\n",
              "        text-align: right;\n",
              "    }\n",
              "</style>\n",
              "<table border=\"1\" class=\"dataframe\">\n",
              "  <thead>\n",
              "    <tr style=\"text-align: right;\">\n",
              "      <th></th>\n",
              "      <th>시도명</th>\n",
              "      <th>사망률</th>\n",
              "    </tr>\n",
              "  </thead>\n",
              "  <tbody>\n",
              "    <tr>\n",
              "      <th>0</th>\n",
              "      <td>11</td>\n",
              "      <td>44.6</td>\n",
              "    </tr>\n",
              "    <tr>\n",
              "      <th>1</th>\n",
              "      <td>21</td>\n",
              "      <td>55.3</td>\n",
              "    </tr>\n",
              "    <tr>\n",
              "      <th>2</th>\n",
              "      <td>22</td>\n",
              "      <td>54.2</td>\n",
              "    </tr>\n",
              "  </tbody>\n",
              "</table>\n",
              "</div>"
            ],
            "text/plain": [
              "  시도명   사망률\n",
              "0  11  44.6\n",
              "1  21  55.3\n",
              "2  22  54.2"
            ]
          },
          "metadata": {},
          "execution_count": 92
        }
      ]
    },
    {
      "cell_type": "code",
      "metadata": {
        "id": "dMpbaL4RSrM-"
      },
      "source": [
        "df2.to_csv('회피가능사망율(KOSIS).csv')"
      ],
      "execution_count": 93,
      "outputs": []
    },
    {
      "cell_type": "code",
      "metadata": {
        "id": "PwvIctMESrKU"
      },
      "source": [
        ""
      ],
      "execution_count": null,
      "outputs": []
    },
    {
      "cell_type": "code",
      "metadata": {
        "id": "RhOJoiiBSrFm"
      },
      "source": [
        ""
      ],
      "execution_count": null,
      "outputs": []
    }
  ]
}