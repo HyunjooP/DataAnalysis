{
  "nbformat": 4,
  "nbformat_minor": 0,
  "metadata": {
    "colab": {
      "name": "02_넘파이2.ipynb",
      "provenance": [],
      "collapsed_sections": []
    },
    "kernelspec": {
      "name": "python3",
      "display_name": "Python 3"
    },
    "language_info": {
      "name": "python"
    }
  },
  "cells": [
    {
      "cell_type": "markdown",
      "metadata": {
        "id": "BxKI5SA2VA6z"
      },
      "source": [
        "# Numpy - part2"
      ]
    },
    {
      "cell_type": "code",
      "metadata": {
        "id": "EMAyy6OKU7Ui"
      },
      "source": [
        "import numpy as np"
      ],
      "execution_count": 4,
      "outputs": []
    },
    {
      "cell_type": "markdown",
      "metadata": {
        "id": "lxYdA-prVIPA"
      },
      "source": [
        "## 4. 생성(Creation)"
      ]
    },
    {
      "cell_type": "markdown",
      "metadata": {
        "id": "mdaHO0SwVNtG"
      },
      "source": [
        "### arange"
      ]
    },
    {
      "cell_type": "code",
      "metadata": {
        "colab": {
          "base_uri": "https://localhost:8080/"
        },
        "id": "cdAgs9URVHtd",
        "outputId": "4a3d5bb7-a6bb-46b1-a762-3f492292e0d8"
      },
      "source": [
        "np.arange(10)"
      ],
      "execution_count": 5,
      "outputs": [
        {
          "output_type": "execute_result",
          "data": {
            "text/plain": [
              "array([0, 1, 2, 3, 4, 5, 6, 7, 8, 9])"
            ]
          },
          "metadata": {
            "tags": []
          },
          "execution_count": 5
        }
      ]
    },
    {
      "cell_type": "code",
      "metadata": {
        "colab": {
          "base_uri": "https://localhost:8080/"
        },
        "id": "HGJFHUyYVTe-",
        "outputId": "c2991bd7-ec53-4994-caf4-3c7bfeef7b99"
      },
      "source": [
        "np.arange(1, 10, 2)"
      ],
      "execution_count": 6,
      "outputs": [
        {
          "output_type": "execute_result",
          "data": {
            "text/plain": [
              "array([1, 3, 5, 7, 9])"
            ]
          },
          "metadata": {
            "tags": []
          },
          "execution_count": 6
        }
      ]
    },
    {
      "cell_type": "code",
      "metadata": {
        "colab": {
          "base_uri": "https://localhost:8080/"
        },
        "id": "Hbq2V91kVgoL",
        "outputId": "c21fa48a-95df-4a02-fe78-b9b0e53c2a6c"
      },
      "source": [
        "# 실수도 가능\n",
        "np.arange(0, 5.1, 0.5)"
      ],
      "execution_count": 7,
      "outputs": [
        {
          "output_type": "execute_result",
          "data": {
            "text/plain": [
              "array([0. , 0.5, 1. , 1.5, 2. , 2.5, 3. , 3.5, 4. , 4.5, 5. ])"
            ]
          },
          "metadata": {
            "tags": []
          },
          "execution_count": 7
        }
      ]
    },
    {
      "cell_type": "code",
      "metadata": {
        "colab": {
          "base_uri": "https://localhost:8080/"
        },
        "id": "TmNbmrtovEZs",
        "outputId": "32f6cb94-5063-4601-fc16-1ca39515a945"
      },
      "source": [
        "np.arange(0, 5.1, 0.5).tolist()"
      ],
      "execution_count": 8,
      "outputs": [
        {
          "output_type": "execute_result",
          "data": {
            "text/plain": [
              "[0.0, 0.5, 1.0, 1.5, 2.0, 2.5, 3.0, 3.5, 4.0, 4.5, 5.0]"
            ]
          },
          "metadata": {
            "tags": []
          },
          "execution_count": 8
        }
      ]
    },
    {
      "cell_type": "code",
      "metadata": {
        "colab": {
          "base_uri": "https://localhost:8080/"
        },
        "id": "EzqMj6-3o1hv",
        "outputId": "835ecaf2-65e2-4862-aeb9-927fc32ea379"
      },
      "source": [
        "x = np.linspace(-2, 2, 401)\n",
        "x.size, x[-1]"
      ],
      "execution_count": 9,
      "outputs": [
        {
          "output_type": "execute_result",
          "data": {
            "text/plain": [
              "(401, 2.0)"
            ]
          },
          "metadata": {
            "tags": []
          },
          "execution_count": 9
        }
      ]
    },
    {
      "cell_type": "markdown",
      "metadata": {
        "id": "6y-_obtzu4rO"
      },
      "source": [
        "### 그래프 그리는 경우"
      ]
    },
    {
      "cell_type": "code",
      "metadata": {
        "colab": {
          "base_uri": "https://localhost:8080/"
        },
        "id": "B2ko4q6Ko1Yr",
        "outputId": "59059b04-e267-43c6-f273-145155fdb679"
      },
      "source": [
        "\n",
        "x = np.arange(-2, 2.005, 0.01)\n",
        "x.size, x[-1]\n"
      ],
      "execution_count": 10,
      "outputs": [
        {
          "output_type": "execute_result",
          "data": {
            "text/plain": [
              "(401, 2.0000000000000036)"
            ]
          },
          "metadata": {
            "tags": []
          },
          "execution_count": 10
        }
      ]
    },
    {
      "cell_type": "code",
      "metadata": {
        "colab": {
          "base_uri": "https://localhost:8080/"
        },
        "id": "hB4sR2cLvMum",
        "outputId": "5aaceda8-4886-447e-f280-09ad2dd17cf8"
      },
      "source": [
        "# linspace(시작, 끝, 몇등분)\n",
        "x = np.linspace(-2, 2, 401)\n",
        "x.size, x[-1]"
      ],
      "execution_count": 11,
      "outputs": [
        {
          "output_type": "execute_result",
          "data": {
            "text/plain": [
              "(401, 2.0)"
            ]
          },
          "metadata": {
            "tags": []
          },
          "execution_count": 11
        }
      ]
    },
    {
      "cell_type": "code",
      "metadata": {
        "colab": {
          "base_uri": "https://localhost:8080/",
          "height": 283
        },
        "id": "k5pofjE8VmBC",
        "outputId": "4fcc06fc-28a1-4f94-e721-ae700cc815a3"
      },
      "source": [
        "import matplotlib.pyplot as plt\n",
        "\n",
        "y = np.tanh(x)  # Hyperbolic tangent\n",
        "plt.plot(x, y)\n",
        "plt.grid()\n",
        "plt.show"
      ],
      "execution_count": 13,
      "outputs": [
        {
          "output_type": "execute_result",
          "data": {
            "text/plain": [
              "<function matplotlib.pyplot.show>"
            ]
          },
          "metadata": {
            "tags": []
          },
          "execution_count": 13
        },
        {
          "output_type": "display_data",
          "data": {
            "image/png": "[encoded data removed]",
            "text/plain": [
              "<Figure size 432x288 with 1 Axes>"
            ]
          },
          "metadata": {
            "tags": [],
            "needs_background": "light"
          }
        }
      ]
    },
    {
      "cell_type": "markdown",
      "metadata": {
        "id": "b_ichN1PpQ-k"
      },
      "source": [
        "### ones, zeros, empty"
      ]
    },
    {
      "cell_type": "code",
      "metadata": {
        "colab": {
          "base_uri": "https://localhost:8080/"
        },
        "id": "FlLENTC6ogmB",
        "outputId": "8d7f56ce-58bb-4853-8808-8034fcd5ed59"
      },
      "source": [
        "np.ones(shape=(10,), dtype=np.int8)"
      ],
      "execution_count": 19,
      "outputs": [
        {
          "output_type": "execute_result",
          "data": {
            "text/plain": [
              "array([1, 1, 1, 1, 1, 1, 1, 1, 1, 1], dtype=int8)"
            ]
          },
          "metadata": {
            "tags": []
          },
          "execution_count": 19
        }
      ]
    },
    {
      "cell_type": "code",
      "metadata": {
        "colab": {
          "base_uri": "https://localhost:8080/"
        },
        "id": "Gi2nYFClpctQ",
        "outputId": "df20558b-9dc4-4726-ce23-5bdf3d34b81c"
      },
      "source": [
        "np.zeros((8,), np.float32)"
      ],
      "execution_count": 20,
      "outputs": [
        {
          "output_type": "execute_result",
          "data": {
            "text/plain": [
              "array([0., 0., 0., 0., 0., 0., 0., 0.], dtype=float32)"
            ]
          },
          "metadata": {
            "tags": []
          },
          "execution_count": 20
        }
      ]
    },
    {
      "cell_type": "code",
      "metadata": {
        "colab": {
          "base_uri": "https://localhost:8080/"
        },
        "id": "fmZgEpK7p3Yi",
        "outputId": "1bd34093-7337-4d24-ae4e-753cf2a46ba8"
      },
      "source": [
        "np.empty((4,))"
      ],
      "execution_count": 21,
      "outputs": [
        {
          "output_type": "execute_result",
          "data": {
            "text/plain": [
              "array([0., 0., 0., 0.])"
            ]
          },
          "metadata": {
            "tags": []
          },
          "execution_count": 21
        }
      ]
    },
    {
      "cell_type": "markdown",
      "metadata": {
        "id": "R2W9fu82qciV"
      },
      "source": [
        "### Something like"
      ]
    },
    {
      "cell_type": "code",
      "metadata": {
        "colab": {
          "base_uri": "https://localhost:8080/"
        },
        "id": "NEtjfJ3AqD5w",
        "outputId": "9f1bbfe8-3dbd-4da8-d631-8b27f5611cfc"
      },
      "source": [
        "a = np.arange(12).reshape(3,4)\n",
        "np.ones_like(a)"
      ],
      "execution_count": 15,
      "outputs": [
        {
          "output_type": "execute_result",
          "data": {
            "text/plain": [
              "array([[1, 1, 1, 1],\n",
              "       [1, 1, 1, 1],\n",
              "       [1, 1, 1, 1]])"
            ]
          },
          "metadata": {
            "tags": []
          },
          "execution_count": 15
        }
      ]
    },
    {
      "cell_type": "code",
      "metadata": {
        "colab": {
          "base_uri": "https://localhost:8080/"
        },
        "id": "Cb2OmS7zqrRk",
        "outputId": "8d01b29b-8551-4b33-abd4-8dc20da2cd0d"
      },
      "source": [
        "np.zeros_like(a)"
      ],
      "execution_count": 16,
      "outputs": [
        {
          "output_type": "execute_result",
          "data": {
            "text/plain": [
              "array([[0, 0, 0, 0],\n",
              "       [0, 0, 0, 0],\n",
              "       [0, 0, 0, 0]])"
            ]
          },
          "metadata": {
            "tags": []
          },
          "execution_count": 16
        }
      ]
    },
    {
      "cell_type": "code",
      "metadata": {
        "colab": {
          "base_uri": "https://localhost:8080/"
        },
        "id": "69vcxfTXv75e",
        "outputId": "7037e4ae-b45e-471e-8605-642d052a8315"
      },
      "source": [
        "np.zeros_like(a).dtype"
      ],
      "execution_count": 17,
      "outputs": [
        {
          "output_type": "execute_result",
          "data": {
            "text/plain": [
              "dtype('int64')"
            ]
          },
          "metadata": {
            "tags": []
          },
          "execution_count": 17
        }
      ]
    },
    {
      "cell_type": "markdown",
      "metadata": {
        "id": "P-nmVRUArAYR"
      },
      "source": [
        "### 단위행렬(identity)"
      ]
    },
    {
      "cell_type": "code",
      "metadata": {
        "colab": {
          "base_uri": "https://localhost:8080/"
        },
        "id": "2Xr3pipJq1co",
        "outputId": "0b4047a2-7f7f-4cf2-9603-d078f9f55084"
      },
      "source": [
        "np.identity(n=3, dtype=np.int8)"
      ],
      "execution_count": 24,
      "outputs": [
        {
          "output_type": "execute_result",
          "data": {
            "text/plain": [
              "array([[1, 0, 0],\n",
              "       [0, 1, 0],\n",
              "       [0, 0, 1]], dtype=int8)"
            ]
          },
          "metadata": {
            "tags": []
          },
          "execution_count": 24
        }
      ]
    },
    {
      "cell_type": "markdown",
      "metadata": {
        "id": "L4bWZOL7s0P6"
      },
      "source": [
        "### eye (대각선이 1인 행렬)"
      ]
    },
    {
      "cell_type": "code",
      "metadata": {
        "colab": {
          "base_uri": "https://localhost:8080/"
        },
        "id": "Pq_ExD8Psxx1",
        "outputId": "4b818ddc-4b3b-4e7a-c2fa-5a99cc75cd17"
      },
      "source": [
        "np.eye(N=3, M=5, dtype=np.int8)"
      ],
      "execution_count": 18,
      "outputs": [
        {
          "output_type": "execute_result",
          "data": {
            "text/plain": [
              "array([[1, 0, 0, 0, 0],\n",
              "       [0, 1, 0, 0, 0],\n",
              "       [0, 0, 1, 0, 0]], dtype=int8)"
            ]
          },
          "metadata": {
            "tags": []
          },
          "execution_count": 18
        }
      ]
    },
    {
      "cell_type": "code",
      "metadata": {
        "colab": {
          "base_uri": "https://localhost:8080/"
        },
        "id": "OiSOWvVvwC8x",
        "outputId": "85c9438c-3943-4460-97e9-2ff3f0d017ce"
      },
      "source": [
        "np.eye(N=3, M=5, k=2, dtype=np.int32)   # k : start index"
      ],
      "execution_count": 19,
      "outputs": [
        {
          "output_type": "execute_result",
          "data": {
            "text/plain": [
              "array([[0, 0, 1, 0, 0],\n",
              "       [0, 0, 0, 1, 0],\n",
              "       [0, 0, 0, 0, 1]], dtype=int32)"
            ]
          },
          "metadata": {
            "tags": []
          },
          "execution_count": 19
        }
      ]
    },
    {
      "cell_type": "markdown",
      "metadata": {
        "id": "USEmDl-3s6U5"
      },
      "source": [
        "### diag (대각 행렬의 값을 추출)\n"
      ]
    },
    {
      "cell_type": "code",
      "metadata": {
        "colab": {
          "base_uri": "https://localhost:8080/"
        },
        "id": "mIPZ8yT7s24R",
        "outputId": "2701e4d5-79a3-47d7-ed41-1b97307dc53b"
      },
      "source": [
        "matrix = np.arange(9).reshape(3,3)\n",
        "np.diag(matrix)\n",
        "np.diag(matrix, k=1) # k → start index"
      ],
      "execution_count": 26,
      "outputs": [
        {
          "output_type": "execute_result",
          "data": {
            "text/plain": [
              "array([1, 5])"
            ]
          },
          "metadata": {
            "tags": []
          },
          "execution_count": 26
        }
      ]
    },
    {
      "cell_type": "code",
      "metadata": {
        "colab": {
          "base_uri": "https://localhost:8080/"
        },
        "id": "ISmM1LZlwGu3",
        "outputId": "d200a2fe-d02c-4d47-a861-a2fad8b801b4"
      },
      "source": [
        "np.diag(np.arange(9).reshape(3,3), k=1)"
      ],
      "execution_count": 20,
      "outputs": [
        {
          "output_type": "execute_result",
          "data": {
            "text/plain": [
              "array([1, 5])"
            ]
          },
          "metadata": {
            "tags": []
          },
          "execution_count": 20
        }
      ]
    },
    {
      "cell_type": "markdown",
      "metadata": {
        "id": "kMkePiCGvNQ3"
      },
      "source": [
        "### Random sampling"
      ]
    },
    {
      "cell_type": "code",
      "metadata": {
        "colab": {
          "base_uri": "https://localhost:8080/"
        },
        "id": "vrI5qsWls9A-",
        "outputId": "491adcbf-5ddc-4361-e080-50ed4f7f4f41"
      },
      "source": [
        "np.random.seed(seed=1000) # 시드로 난수 생성 초기값 지정\n"
      ],
      "execution_count": 27,
      "outputs": [
        {
          "output_type": "execute_result",
          "data": {
            "text/plain": [
              "array([[0.65358959, 0.11500694, 0.95028286, 0.4821914 , 0.87247454],\n",
              "       [0.21233268, 0.04070962, 0.39719446, 0.2331322 , 0.84174072]])"
            ]
          },
          "metadata": {
            "tags": []
          },
          "execution_count": 27
        }
      ]
    },
    {
      "cell_type": "code",
      "metadata": {
        "colab": {
          "base_uri": "https://localhost:8080/"
        },
        "id": "blBZ4C3wvRhh",
        "outputId": "4cbfca96-5b72-4c12-84ed-469549a4a9e1"
      },
      "source": [
        "np.random.uniform(0, 1, 10).reshape(2,5) # 균등 분포"
      ],
      "execution_count": 28,
      "outputs": [
        {
          "output_type": "execute_result",
          "data": {
            "text/plain": [
              "array([[0.20708234, 0.74246953, 0.39215413, 0.18225652, 0.74353941],\n",
              "       [0.06958208, 0.8853372 , 0.9526444 , 0.93114343, 0.41543095]])"
            ]
          },
          "metadata": {
            "tags": []
          },
          "execution_count": 28
        }
      ]
    },
    {
      "cell_type": "code",
      "metadata": {
        "colab": {
          "base_uri": "https://localhost:8080/"
        },
        "id": "ObIiJKFHvSjF",
        "outputId": "4a4480e7-2651-483c-e064-eb41e2fc6319"
      },
      "source": [
        "np.random.normal(0, 1, 10).reshape(2,5) # 정규 분포"
      ],
      "execution_count": 29,
      "outputs": [
        {
          "output_type": "execute_result",
          "data": {
            "text/plain": [
              "array([[ 1.27179528, -0.98674733, -0.33483545, -0.0994817 ,  0.4071921 ],\n",
              "       [ 0.91938754,  0.31211801,  1.53316107, -0.55017387, -0.38314741]])"
            ]
          },
          "metadata": {
            "tags": []
          },
          "execution_count": 29
        }
      ]
    },
    {
      "cell_type": "code",
      "metadata": {
        "colab": {
          "base_uri": "https://localhost:8080/"
        },
        "id": "VJdb_KHuvUqu",
        "outputId": "b77dd5dd-c68c-46b9-9804-27f34cfdf81b"
      },
      "source": [
        "# 표준 정규분포 - N(0,1)\n",
        "np.random.randn(10)"
      ],
      "execution_count": 32,
      "outputs": [
        {
          "output_type": "execute_result",
          "data": {
            "text/plain": [
              "array([-1.11116278, -0.74200575,  2.57475919,  1.07321332, -1.86613451,\n",
              "       -0.64717693,  1.08224081,  0.17667032, -0.83532823, -1.69499832])"
            ]
          },
          "metadata": {
            "tags": []
          },
          "execution_count": 32
        }
      ]
    },
    {
      "cell_type": "code",
      "metadata": {
        "colab": {
          "base_uri": "https://localhost:8080/",
          "height": 269
        },
        "id": "j57Cqn-svm6K",
        "outputId": "1ab4bab6-df5c-4522-a48c-7f323789ea1b"
      },
      "source": [
        "rand_norm = np.random.randn(1000)\n",
        "plt.hist(rand_norm)             # Histogram\n",
        "plt.show()"
      ],
      "execution_count": 21,
      "outputs": [
        {
          "output_type": "display_data",
          "data": {
            "image/png": "[encoded data removed]",
            "text/plain": [
              "<Figure size 432x288 with 1 Axes>"
            ]
          },
          "metadata": {
            "tags": [],
            "needs_background": "light"
          }
        }
      ]
    },
    {
      "cell_type": "markdown",
      "metadata": {
        "id": "oZAMDUr5w6xY"
      },
      "source": [
        "## 5.Operation"
      ]
    },
    {
      "cell_type": "markdown",
      "metadata": {
        "id": "NK4LRm41w_GU"
      },
      "source": [
        "### Sum과 Axis"
      ]
    },
    {
      "cell_type": "code",
      "metadata": {
        "colab": {
          "base_uri": "https://localhost:8080/"
        },
        "id": "fJphYVDlw52m",
        "outputId": "797610e6-bd65-4891-e7a8-2463eb779ca7"
      },
      "source": [
        "a = np.arange(1,11)\n",
        "a.sum()"
      ],
      "execution_count": 34,
      "outputs": [
        {
          "output_type": "execute_result",
          "data": {
            "text/plain": [
              "55"
            ]
          },
          "metadata": {
            "tags": []
          },
          "execution_count": 34
        }
      ]
    },
    {
      "cell_type": "code",
      "metadata": {
        "colab": {
          "base_uri": "https://localhost:8080/"
        },
        "id": "c-Q85hjexGI0",
        "outputId": "651946c1-3b25-4eed-dc9c-7e069fe8a7fd"
      },
      "source": [
        "a = np.arange(1,13).reshape(3,4)\n",
        "a"
      ],
      "execution_count": 36,
      "outputs": [
        {
          "output_type": "execute_result",
          "data": {
            "text/plain": [
              "array([[ 1,  2,  3,  4],\n",
              "       [ 5,  6,  7,  8],\n",
              "       [ 9, 10, 11, 12]])"
            ]
          },
          "metadata": {
            "tags": []
          },
          "execution_count": 36
        }
      ]
    },
    {
      "cell_type": "code",
      "metadata": {
        "colab": {
          "base_uri": "https://localhost:8080/"
        },
        "id": "xeJ3z7hExHK3",
        "outputId": "93a559a5-9df5-4c12-a658-f1f72b675781"
      },
      "source": [
        "# column의 합, row의 방향\n",
        "a.sum(axis=0)"
      ],
      "execution_count": 37,
      "outputs": [
        {
          "output_type": "execute_result",
          "data": {
            "text/plain": [
              "array([15, 18, 21, 24])"
            ]
          },
          "metadata": {
            "tags": []
          },
          "execution_count": 37
        }
      ]
    },
    {
      "cell_type": "code",
      "metadata": {
        "colab": {
          "base_uri": "https://localhost:8080/"
        },
        "id": "6QBdXyK5xlRu",
        "outputId": "480215b5-0382-4ffb-a670-c5c95e384d20"
      },
      "source": [
        "# row의 합, column의 방향\n",
        "a.sum(axis=1)"
      ],
      "execution_count": 38,
      "outputs": [
        {
          "output_type": "execute_result",
          "data": {
            "text/plain": [
              "array([10, 26, 42])"
            ]
          },
          "metadata": {
            "tags": []
          },
          "execution_count": 38
        }
      ]
    },
    {
      "cell_type": "code",
      "metadata": {
        "colab": {
          "base_uri": "https://localhost:8080/"
        },
        "id": "7KdA4qNKwR-X",
        "outputId": "70c9c4ab-8468-408c-e465-b37391c44e2a"
      },
      "source": [
        "b = np.arange(1,25).reshape(2,3,4)\n",
        "b"
      ],
      "execution_count": 22,
      "outputs": [
        {
          "output_type": "execute_result",
          "data": {
            "text/plain": [
              "array([[[ 1,  2,  3,  4],\n",
              "        [ 5,  6,  7,  8],\n",
              "        [ 9, 10, 11, 12]],\n",
              "\n",
              "       [[13, 14, 15, 16],\n",
              "        [17, 18, 19, 20],\n",
              "        [21, 22, 23, 24]]])"
            ]
          },
          "metadata": {
            "tags": []
          },
          "execution_count": 22
        }
      ]
    },
    {
      "cell_type": "markdown",
      "metadata": {
        "id": "Oo6VsHjQwW4Q"
      },
      "source": [
        "### 정렬(Sorting)"
      ]
    },
    {
      "cell_type": "code",
      "metadata": {
        "colab": {
          "base_uri": "https://localhost:8080/"
        },
        "id": "dWd8wNxewZnb",
        "outputId": "4fd058bf-8f89-45ca-ef5b-c08fe64c171c"
      },
      "source": [
        "a = np.array([[4,3,5,7],[1,12,11,9],[2,5,1,14]])\n",
        "a"
      ],
      "execution_count": 23,
      "outputs": [
        {
          "output_type": "execute_result",
          "data": {
            "text/plain": [
              "array([[ 4,  3,  5,  7],\n",
              "       [ 1, 12, 11,  9],\n",
              "       [ 2,  5,  1, 14]])"
            ]
          },
          "metadata": {
            "tags": []
          },
          "execution_count": 23
        }
      ]
    },
    {
      "cell_type": "code",
      "metadata": {
        "colab": {
          "base_uri": "https://localhost:8080/"
        },
        "id": "Bq251fbKwZC2",
        "outputId": "e34ac017-7f86-4b80-8e10-79c130bc00cf"
      },
      "source": [
        "# axis=1 이 default\n",
        "np.sort(a)"
      ],
      "execution_count": 24,
      "outputs": [
        {
          "output_type": "execute_result",
          "data": {
            "text/plain": [
              "array([[ 3,  4,  5,  7],\n",
              "       [ 1,  9, 11, 12],\n",
              "       [ 1,  2,  5, 14]])"
            ]
          },
          "metadata": {
            "tags": []
          },
          "execution_count": 24
        }
      ]
    },
    {
      "cell_type": "code",
      "metadata": {
        "colab": {
          "base_uri": "https://localhost:8080/"
        },
        "id": "bRGyKMhYwY65",
        "outputId": "96570174-69a2-445c-ad55-4069254d75f8"
      },
      "source": [
        "np.sort(a, axis=0)"
      ],
      "execution_count": 25,
      "outputs": [
        {
          "output_type": "execute_result",
          "data": {
            "text/plain": [
              "array([[ 1,  3,  1,  7],\n",
              "       [ 2,  5,  5,  9],\n",
              "       [ 4, 12, 11, 14]])"
            ]
          },
          "metadata": {
            "tags": []
          },
          "execution_count": 25
        }
      ]
    },
    {
      "cell_type": "code",
      "metadata": {
        "colab": {
          "base_uri": "https://localhost:8080/"
        },
        "id": "8VT3FiIlwYzO",
        "outputId": "c241fdbc-dd9d-4f3c-88db-619fce907241"
      },
      "source": [
        "# a.sort() method는 in-place method임. (자기 자신을 바꿈)\n",
        "a.sort()\n",
        "a"
      ],
      "execution_count": 26,
      "outputs": [
        {
          "output_type": "execute_result",
          "data": {
            "text/plain": [
              "array([[ 3,  4,  5,  7],\n",
              "       [ 1,  9, 11, 12],\n",
              "       [ 1,  2,  5, 14]])"
            ]
          },
          "metadata": {
            "tags": []
          },
          "execution_count": 26
        }
      ]
    },
    {
      "cell_type": "code",
      "metadata": {
        "colab": {
          "base_uri": "https://localhost:8080/"
        },
        "id": "BJTonoNqwh_d",
        "outputId": "b710dd93-84c2-455b-8335-1f619c86c4a6"
      },
      "source": [
        "# argsort() - 소팅된 인덱스를 가져오는 함수\n",
        "a = np.array([42,38,12,25])\n",
        "indices = np.argsort(a)\n",
        "indices"
      ],
      "execution_count": 27,
      "outputs": [
        {
          "output_type": "execute_result",
          "data": {
            "text/plain": [
              "array([2, 3, 1, 0])"
            ]
          },
          "metadata": {
            "tags": []
          },
          "execution_count": 27
        }
      ]
    },
    {
      "cell_type": "code",
      "metadata": {
        "colab": {
          "base_uri": "https://localhost:8080/"
        },
        "id": "5AaoQCcfwh5H",
        "outputId": "d1112883-2a91-4f43-d144-d207eafac098"
      },
      "source": [
        "a[indices]"
      ],
      "execution_count": 28,
      "outputs": [
        {
          "output_type": "execute_result",
          "data": {
            "text/plain": [
              "array([12, 25, 38, 42])"
            ]
          },
          "metadata": {
            "tags": []
          },
          "execution_count": 28
        }
      ]
    },
    {
      "cell_type": "code",
      "metadata": {
        "colab": {
          "base_uri": "https://localhost:8080/"
        },
        "id": "Ig4FYoURwh2U",
        "outputId": "ac777e74-1661-46b8-c589-3c529e39f23c"
      },
      "source": [
        "# 내림차순\n",
        "a[indices][::-1]"
      ],
      "execution_count": 29,
      "outputs": [
        {
          "output_type": "execute_result",
          "data": {
            "text/plain": [
              "array([42, 38, 25, 12])"
            ]
          },
          "metadata": {
            "tags": []
          },
          "execution_count": 29
        }
      ]
    },
    {
      "cell_type": "markdown",
      "metadata": {
        "id": "QW1c_eLn1uh2"
      },
      "source": [
        "### 통계, 수학함수"
      ]
    },
    {
      "cell_type": "code",
      "metadata": {
        "colab": {
          "base_uri": "https://localhost:8080/"
        },
        "id": "XVASPjNHxyKK",
        "outputId": "b4ca6eef-c8e1-4730-eb40-87cf1eda2041"
      },
      "source": [
        "a.mean(), a.var(), a.std()"
      ],
      "execution_count": 40,
      "outputs": [
        {
          "output_type": "execute_result",
          "data": {
            "text/plain": [
              "(6.5, 11.916666666666666, 3.452052529534663)"
            ]
          },
          "metadata": {
            "tags": []
          },
          "execution_count": 40
        }
      ]
    },
    {
      "cell_type": "code",
      "metadata": {
        "colab": {
          "base_uri": "https://localhost:8080/"
        },
        "id": "GXZzl9L812sG",
        "outputId": "44043eca-9f52-4e3c-f173-e24043faae4d"
      },
      "source": [
        "a.mean(), a.mean(axis=0), a.mean(axis=1)"
      ],
      "execution_count": 41,
      "outputs": [
        {
          "output_type": "execute_result",
          "data": {
            "text/plain": [
              "(6.5, array([5., 6., 7., 8.]), array([ 2.5,  6.5, 10.5]))"
            ]
          },
          "metadata": {
            "tags": []
          },
          "execution_count": 41
        }
      ]
    },
    {
      "cell_type": "code",
      "metadata": {
        "colab": {
          "base_uri": "https://localhost:8080/"
        },
        "id": "cibK_9ne2EZy",
        "outputId": "71fde78e-bd66-46ac-d713-8f28fbad96c7"
      },
      "source": [
        "np.exp(a)"
      ],
      "execution_count": 42,
      "outputs": [
        {
          "output_type": "execute_result",
          "data": {
            "text/plain": [
              "array([[2.71828183e+00, 7.38905610e+00, 2.00855369e+01, 5.45981500e+01],\n",
              "       [1.48413159e+02, 4.03428793e+02, 1.09663316e+03, 2.98095799e+03],\n",
              "       [8.10308393e+03, 2.20264658e+04, 5.98741417e+04, 1.62754791e+05]])"
            ]
          },
          "metadata": {
            "tags": []
          },
          "execution_count": 42
        }
      ]
    },
    {
      "cell_type": "markdown",
      "metadata": {
        "id": "qn0K1BVe26o9"
      },
      "source": [
        "### Concatenate (Numpy array를 합치는 함수)"
      ]
    },
    {
      "cell_type": "code",
      "metadata": {
        "colab": {
          "base_uri": "https://localhost:8080/"
        },
        "id": "KvIv5W1o2yXg",
        "outputId": "e99e02a3-0541-4658-ecb9-690b059bfa3d"
      },
      "source": [
        "a = np.arange(1,5).reshape(2,2)\n",
        "b = np.arange(5,7).reshape(1,2)\n",
        "np.vstack((a,b))"
      ],
      "execution_count": 33,
      "outputs": [
        {
          "output_type": "execute_result",
          "data": {
            "text/plain": [
              "array([[1, 2],\n",
              "       [3, 4],\n",
              "       [5, 6]])"
            ]
          },
          "metadata": {
            "tags": []
          },
          "execution_count": 33
        }
      ]
    },
    {
      "cell_type": "code",
      "metadata": {
        "colab": {
          "base_uri": "https://localhost:8080/"
        },
        "id": "SXpTgoaU3NiM",
        "outputId": "46606260-1f70-4070-b994-d23005a632ff"
      },
      "source": [
        "np.concatenate((a,b), axis=0)"
      ],
      "execution_count": 34,
      "outputs": [
        {
          "output_type": "execute_result",
          "data": {
            "text/plain": [
              "array([[1, 2],\n",
              "       [3, 4],\n",
              "       [5, 6]])"
            ]
          },
          "metadata": {
            "tags": []
          },
          "execution_count": 34
        }
      ]
    },
    {
      "cell_type": "code",
      "metadata": {
        "colab": {
          "base_uri": "https://localhost:8080/"
        },
        "id": "04AOkgyxwscK",
        "outputId": "5aee2c66-42ec-4c8f-b5aa-1c68b74b1aa4"
      },
      "source": [
        "# 전치행렬 (Transpose) : (1,2) -> (2,1)\n",
        "b.T"
      ],
      "execution_count": 35,
      "outputs": [
        {
          "output_type": "execute_result",
          "data": {
            "text/plain": [
              "array([[5],\n",
              "       [6]])"
            ]
          },
          "metadata": {
            "tags": []
          },
          "execution_count": 35
        }
      ]
    },
    {
      "cell_type": "code",
      "metadata": {
        "colab": {
          "base_uri": "https://localhost:8080/"
        },
        "id": "zBK8ykN4wx7F",
        "outputId": "0279e8a4-07c0-43c6-b990-d5b408e08c1b"
      },
      "source": [
        "np.hstack((a,b.T))"
      ],
      "execution_count": 36,
      "outputs": [
        {
          "output_type": "execute_result",
          "data": {
            "text/plain": [
              "array([[1, 2, 5],\n",
              "       [3, 4, 6]])"
            ]
          },
          "metadata": {
            "tags": []
          },
          "execution_count": 36
        }
      ]
    },
    {
      "cell_type": "code",
      "metadata": {
        "colab": {
          "base_uri": "https://localhost:8080/"
        },
        "id": "VoZhQpBKwzdz",
        "outputId": "4f992715-9d2a-45fe-b605-27f41800d353"
      },
      "source": [
        "np.concatenate((a,b.T), axis=1)"
      ],
      "execution_count": 37,
      "outputs": [
        {
          "output_type": "execute_result",
          "data": {
            "text/plain": [
              "array([[1, 2, 5],\n",
              "       [3, 4, 6]])"
            ]
          },
          "metadata": {
            "tags": []
          },
          "execution_count": 37
        }
      ]
    },
    {
      "cell_type": "code",
      "metadata": {
        "id": "GeKztbbmw0mG"
      },
      "source": [
        ""
      ],
      "execution_count": null,
      "outputs": []
    }
  ]
}