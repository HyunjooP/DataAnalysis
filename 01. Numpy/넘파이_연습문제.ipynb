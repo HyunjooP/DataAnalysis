{
  "nbformat": 4,
  "nbformat_minor": 0,
  "metadata": {
    "colab": {
      "name": "넘파이_연습문제.ipynb",
      "provenance": [],
      "collapsed_sections": []
    },
    "kernelspec": {
      "name": "python3",
      "display_name": "Python 3"
    },
    "language_info": {
      "name": "python"
    }
  },
  "cells": [
    {
      "cell_type": "markdown",
      "metadata": {
        "id": "PehB2LwvRvC8"
      },
      "source": [
        "# 연습문제"
      ]
    },
    {
      "cell_type": "code",
      "metadata": {
        "id": "5SrL6G3QRgVL"
      },
      "source": [
        "import numpy as np"
      ],
      "execution_count": null,
      "outputs": []
    },
    {
      "cell_type": "markdown",
      "metadata": {
        "id": "5C7cds3kRz_5"
      },
      "source": [
        "## 1. 행렬 만들기\n",
        "- 넘파이를 사용하여 다음과 같은 행렬을 만드시오.\n",
        "\n",
        "- 10 20 30 40\n",
        "- 50 60 70 80"
      ]
    },
    {
      "cell_type": "code",
      "metadata": {
        "id": "GPk7Dg6ZRuRN"
      },
      "source": [
        ""
      ],
      "execution_count": null,
      "outputs": []
    },
    {
      "cell_type": "markdown",
      "metadata": {
        "id": "BIVFE67WeCZ9"
      },
      "source": [
        "# 2. 다음 행렬과 같은 행렬이 있다.\n",
        "- m = np.array([[ 0, 1, 2, 3, 4],\n",
        "- [ 5, 6, 7, 8, 9],\n",
        "- [10, 11, 12, 13, 14]])\n",
        "- 1) 이 행렬에서 값 7 을 인덱싱한다.\n",
        "- 2) 이 행렬에서 값 14 을 인덱싱한다.\n",
        "- 3) 이 행렬에서 배열 [6, 7] 을 슬라이싱한다.\n",
        "- 4) 이 행렬에서 배열 [7, 12] 을 슬라이싱한다.\n",
        "- 5) 이 행렬에서 배열 [[3, 4], [8, 9]] 을 슬라이싱한다.\n"
      ]
    },
    {
      "cell_type": "code",
      "metadata": {
        "id": "KC1hDy70e4zy"
      },
      "source": [
        ""
      ],
      "execution_count": null,
      "outputs": []
    },
    {
      "cell_type": "markdown",
      "metadata": {
        "id": "P2VxTrxueCSg"
      },
      "source": [
        "# 3. 2번의 행렬 m을 1차원 벡터 f 로 변환한 후 다음의 문제를 푸시오.\n",
        "- 1) 이 배열에서 3의 배수를 찾아라.\n",
        "- 2) 이 배열에서 4로 나누면 1이 남는 수를 찾아라.\n",
        "- 3) 이 배열에서 3으로 나누면 나누어지고 4로 나누면 1이 남는 수를 찾아라.\n"
      ]
    },
    {
      "cell_type": "code",
      "metadata": {
        "id": "ieXOBBuse4Z8"
      },
      "source": [
        ""
      ],
      "execution_count": null,
      "outputs": []
    },
    {
      "cell_type": "markdown",
      "metadata": {
        "id": "KIP6IsS8eCP_"
      },
      "source": [
        "# 4. 값을 직접 입력하지 말고 우측의 행렬을 만드시오.\n",
        "\n",
        "- 2, 1, 0, 0, 0\n",
        "- 3, 2, 1, 0, 0\n",
        "- 0, 3, 2, 1, 0\n",
        "- 0, 0, 3, 2, 1\n",
        "- 0, 0, 0, 3, 2\n",
        "\n"
      ]
    },
    {
      "cell_type": "code",
      "metadata": {
        "id": "QKSv9lcae4Bg"
      },
      "source": [
        ""
      ],
      "execution_count": null,
      "outputs": []
    },
    {
      "cell_type": "markdown",
      "metadata": {
        "id": "5C-Ue1aheCNJ"
      },
      "source": [
        "# 5. 0에서 10까지 랜덤 실수값으로 이루어진 5 x 6 형태의 데이터 행렬을 만들고 이 데이터에 대해 다음과 같은 값을 구하시오.\n",
        "- 1) 전체의 최댓값\n",
        "- 2) 각 행의 합\n",
        "- 3) 각 행의 최댓값\n",
        "- 4) 각 열의 평균\n",
        "- 5) 각 열의 최솟값\n"
      ]
    },
    {
      "cell_type": "code",
      "metadata": {
        "id": "wuOpIKw8e3lC"
      },
      "source": [
        ""
      ],
      "execution_count": null,
      "outputs": []
    },
    {
      "cell_type": "markdown",
      "metadata": {
        "id": "YQ7zV11gejRU"
      },
      "source": [
        "# 6. 다음 배열은 첫번째 행(row)에 학번, 두번째 행에 영어 성적, 세번째 행에 수학 성적을 적은 배열이다. 영어 성적을 기준으로 각 열(column)을 재정렬하시오.\n",
        "- array([[ 1, 2, 3, 4],\n",
        "- [ 46, 99, 100, 71],\n",
        "- [ 81, 59, 90, 100]]"
      ]
    },
    {
      "cell_type": "code",
      "metadata": {
        "id": "9EQIwhA-e3Ho"
      },
      "source": [
        ""
      ],
      "execution_count": null,
      "outputs": []
    },
    {
      "cell_type": "markdown",
      "metadata": {
        "id": "hHtBMnrEejOc"
      },
      "source": [
        "# 7.  주사위를 100번 던지는 가상 실험을 파이썬으로 작성하고, 던져서 나오는 숫자의 평균을 구하시오.\n"
      ]
    },
    {
      "cell_type": "code",
      "metadata": {
        "id": "Q0Eh4Biqe2ng"
      },
      "source": [
        ""
      ],
      "execution_count": null,
      "outputs": []
    },
    {
      "cell_type": "markdown",
      "metadata": {
        "id": "a0iKcbyYejJY"
      },
      "source": [
        "# 8. 가격이 10,000원인 주식이 있다. 이 주식의 일간 수익률(%)은 기댓값이 0%이고 표준편차가 1% 인 표준 정규 분포를 따른다고 하자. 250일 동안의 주가를 무작위로 생성하시오."
      ]
    },
    {
      "cell_type": "code",
      "metadata": {
        "id": "QfcIQ2yaeif_"
      },
      "source": [
        ""
      ],
      "execution_count": null,
      "outputs": []
    }
  ]
}