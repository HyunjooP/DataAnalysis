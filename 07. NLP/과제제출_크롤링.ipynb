{
 "cells": [
  {
   "cell_type": "code",
   "execution_count": 1,
   "source": [
    "from selenium import webdriver\r\n",
    "from bs4 import BeautifulSoup\r\n",
    "import time\r\n",
    "import pandas as pd \r\n",
    "from urllib.parse import quote"
   ],
   "outputs": [],
   "metadata": {}
  },
  {
   "cell_type": "code",
   "execution_count": 2,
   "source": [
    "chromedriver = '/Users/fromh/Downloads/chromedriver'\r\n",
    "driver = webdriver.Chrome(chromedriver)"
   ],
   "outputs": [],
   "metadata": {}
  },
  {
   "cell_type": "code",
   "execution_count": 3,
   "source": [
    "base_url = 'https://search.naver.com/search.naver?where=view&sm=tab_jum&query='\r\n",
    "url = base_url + quote('넷플릭스추천')\r\n",
    "driver.get(url)"
   ],
   "outputs": [],
   "metadata": {}
  },
  {
   "cell_type": "code",
   "execution_count": 4,
   "source": [
    "# blog 페이지를 아래로 내려서 많은 데이터 확보\r\n",
    "from selenium.webdriver.common.keys import Keys\r\n",
    "\r\n",
    "body = driver.find_element_by_tag_name('body')\r\n",
    "for i in range(30):\r\n",
    "    body.send_keys(Keys.PAGE_DOWN)\r\n",
    "    time.sleep(2)"
   ],
   "outputs": [],
   "metadata": {}
  },
  {
   "cell_type": "code",
   "execution_count": 5,
   "source": [
    "html = driver.page_source\r\n",
    "soup = BeautifulSoup(html, 'html.parser')"
   ],
   "outputs": [],
   "metadata": {}
  },
  {
   "cell_type": "code",
   "execution_count": 6,
   "source": [
    "lis = soup.select('li.bx._svp_item')\r\n",
    "len(lis)"
   ],
   "outputs": [
    {
     "output_type": "execute_result",
     "data": {
      "text/plain": [
       "120"
      ]
     },
     "metadata": {},
     "execution_count": 6
    }
   ],
   "metadata": {}
  },
  {
   "cell_type": "code",
   "execution_count": 7,
   "source": [
    "li = lis[0]\r\n",
    "title = li.select_one('a.api_txt_lines.total_tit._cross_trigger').get_text()\r\n",
    "content = li.select_one('div.api_txt_lines.dsc_txt').get_text()\r\n",
    "date = li.select_one('.sub_time.sub_txt').get_text()\r\n",
    "title, content, date"
   ],
   "outputs": [
    {
     "output_type": "execute_result",
     "data": {
      "text/plain": [
       "('넷플릭스 미드 추천',\n",
       " '추천 ☺️ 이 외에도 <김씨네 편의점> <루시퍼> <블랙미러> 등등 추천드릴만한 작품이 많긴 한데 일단 이 정도 추천드려봐요 ㅎㅎ 다음에 시간 날 때 추가 포스팅 하겠습니다. 즐넷플릭스 하세요 ! +) 넷플릭스 추천 포스팅...',\n",
       " '2021.06.02.')"
      ]
     },
     "metadata": {},
     "execution_count": 7
    }
   ],
   "metadata": {}
  },
  {
   "cell_type": "code",
   "execution_count": 8,
   "source": [
    "title_list, content_list, date_list = [],[],[]\r\n",
    "for i, li in enumerate(lis):\r\n",
    "    try:\r\n",
    "        adv = li.select_one('a.link_ad').get_text()\r\n",
    "        if adv.strip() == '광고':\r\n",
    "            continue\r\n",
    "    except:\r\n",
    "        title = li.select_one('a.api_txt_lines.total_tit').get_text()\r\n",
    "        content = li.select_one('div.api_txt_lines.dsc_txt').get_text()\r\n",
    "        date = li.select_one('.sub_time.sub_txt').get_text()\r\n",
    "\r\n",
    "        title_list.append(title)\r\n",
    "        content_list.append(content)\r\n",
    "        date_list.append(date)\r\n",
    "\r\n",
    "        #print(i)"
   ],
   "outputs": [],
   "metadata": {}
  },
  {
   "cell_type": "code",
   "execution_count": 9,
   "source": [
    "df = pd.DataFrame({\r\n",
    "    'title':title_list, 'date':date_list, 'content':content_list\r\n",
    "})\r\n",
    "df.head()"
   ],
   "outputs": [
    {
     "output_type": "execute_result",
     "data": {
      "text/plain": [
       "                                  title         date  \\\n",
       "0                            넷플릭스 미드 추천  2021.06.02.   \n",
       "1        넷플릭스 드라마 영화 추천 - 검블유, 클래식 외 8편  2021.07.25.   \n",
       "2                넷플릭스 드라마 추천 8편! 시간 순삭!  2021.05.16.   \n",
       "3  넷플릭스 드라마 추천! 안 보면 후회할 한국 드라마 BEST 10  2021.08.12.   \n",
       "4      아직도 못 봤다고? 넷플릭스 영국 드라마 추천작 Top 5  2021.04.01.   \n",
       "\n",
       "                                             content  \n",
       "0  추천 ☺️ 이 외에도 <김씨네 편의점> <루시퍼> <블랙미러> 등등 추천드릴만한 작...  \n",
       "1  넷플릭스 영화 추천 - 영화 클래식 그간 지속적으로 넷플릭스 추천 포스팅을 썼는데 ...  \n",
       "2  그래서 넷플릭스 드라마 추천10편 가지고 왔습니다! 취향 비슷하신 분들이 많길 바라...  \n",
       "3  액션·로맨스·시대물 다~ 있다넷플릭스 한국 드라마 추천 10   미생 출처 - tv...  \n",
       "4  넷플릭스 영국 드라마 / 넷플릭스 영드 추천1. 오티스의 비밀 상담소 넷플릭스 영국...  "
      ],
      "text/html": [
       "<div>\n",
       "<style scoped>\n",
       "    .dataframe tbody tr th:only-of-type {\n",
       "        vertical-align: middle;\n",
       "    }\n",
       "\n",
       "    .dataframe tbody tr th {\n",
       "        vertical-align: top;\n",
       "    }\n",
       "\n",
       "    .dataframe thead th {\n",
       "        text-align: right;\n",
       "    }\n",
       "</style>\n",
       "<table border=\"1\" class=\"dataframe\">\n",
       "  <thead>\n",
       "    <tr style=\"text-align: right;\">\n",
       "      <th></th>\n",
       "      <th>title</th>\n",
       "      <th>date</th>\n",
       "      <th>content</th>\n",
       "    </tr>\n",
       "  </thead>\n",
       "  <tbody>\n",
       "    <tr>\n",
       "      <th>0</th>\n",
       "      <td>넷플릭스 미드 추천</td>\n",
       "      <td>2021.06.02.</td>\n",
       "      <td>추천 ☺️ 이 외에도 &lt;김씨네 편의점&gt; &lt;루시퍼&gt; &lt;블랙미러&gt; 등등 추천드릴만한 작...</td>\n",
       "    </tr>\n",
       "    <tr>\n",
       "      <th>1</th>\n",
       "      <td>넷플릭스 드라마 영화 추천 - 검블유, 클래식 외 8편</td>\n",
       "      <td>2021.07.25.</td>\n",
       "      <td>넷플릭스 영화 추천 - 영화 클래식 그간 지속적으로 넷플릭스 추천 포스팅을 썼는데 ...</td>\n",
       "    </tr>\n",
       "    <tr>\n",
       "      <th>2</th>\n",
       "      <td>넷플릭스 드라마 추천 8편! 시간 순삭!</td>\n",
       "      <td>2021.05.16.</td>\n",
       "      <td>그래서 넷플릭스 드라마 추천10편 가지고 왔습니다! 취향 비슷하신 분들이 많길 바라...</td>\n",
       "    </tr>\n",
       "    <tr>\n",
       "      <th>3</th>\n",
       "      <td>넷플릭스 드라마 추천! 안 보면 후회할 한국 드라마 BEST 10</td>\n",
       "      <td>2021.08.12.</td>\n",
       "      <td>액션·로맨스·시대물 다~ 있다넷플릭스 한국 드라마 추천 10   미생 출처 - tv...</td>\n",
       "    </tr>\n",
       "    <tr>\n",
       "      <th>4</th>\n",
       "      <td>아직도 못 봤다고? 넷플릭스 영국 드라마 추천작 Top 5</td>\n",
       "      <td>2021.04.01.</td>\n",
       "      <td>넷플릭스 영국 드라마 / 넷플릭스 영드 추천1. 오티스의 비밀 상담소 넷플릭스 영국...</td>\n",
       "    </tr>\n",
       "  </tbody>\n",
       "</table>\n",
       "</div>"
      ]
     },
     "metadata": {},
     "execution_count": 9
    }
   ],
   "metadata": {}
  },
  {
   "cell_type": "code",
   "execution_count": 10,
   "source": [
    "df.to_csv('data/netflix_blog.txt')"
   ],
   "outputs": [],
   "metadata": {}
  },
  {
   "cell_type": "code",
   "execution_count": null,
   "source": [],
   "outputs": [],
   "metadata": {}
  },
  {
   "cell_type": "code",
   "execution_count": 11,
   "source": [
    "driver.close()"
   ],
   "outputs": [],
   "metadata": {}
  },
  {
   "cell_type": "code",
   "execution_count": null,
   "source": [],
   "outputs": [],
   "metadata": {}
  }
 ],
 "metadata": {
  "orig_nbformat": 4,
  "language_info": {
   "name": "python",
   "version": "3.8.10",
   "mimetype": "text/x-python",
   "codemirror_mode": {
    "name": "ipython",
    "version": 3
   },
   "pygments_lexer": "ipython3",
   "nbconvert_exporter": "python",
   "file_extension": ".py"
  },
  "kernelspec": {
   "name": "python3",
   "display_name": "Python 3.8.10 64-bit ('base': conda)"
  },
  "interpreter": {
   "hash": "d9bf4bb52ced98f1db1352fca05bec7ba1eb3fb5d13afa9ef47e2f572f3dcf66"
  }
 },
 "nbformat": 4,
 "nbformat_minor": 2
}