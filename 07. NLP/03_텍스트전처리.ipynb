{
  "nbformat": 4,
  "nbformat_minor": 0,
  "metadata": {
    "colab": {
      "name": "03_텍스트전처리.ipynb",
      "provenance": [],
      "collapsed_sections": []
    },
    "kernelspec": {
      "name": "python3",
      "display_name": "Python 3"
    },
    "language_info": {
      "name": "python"
    }
  },
  "cells": [
    {
      "cell_type": "markdown",
      "metadata": {
        "id": "b6vJANHs8Lnk"
      },
      "source": [
        "# 정수 인코딩\n"
      ]
    },
    {
      "cell_type": "markdown",
      "metadata": {
        "id": "yenH1sBs8Lq9"
      },
      "source": [
        "## Counter"
      ]
    },
    {
      "cell_type": "code",
      "metadata": {
        "id": "2LeYRQdd8IUD"
      },
      "source": [
        "from collections import Counter"
      ],
      "execution_count": 1,
      "outputs": []
    },
    {
      "cell_type": "code",
      "metadata": {
        "id": "HK3zDfN8YXAY"
      },
      "source": [
        "\n",
        "sentences = [\n",
        "    ['barber', 'person'], \n",
        "    ['barber', 'good', 'person'], \n",
        "    ['barber', 'huge', 'person'], \n",
        "    ['knew', 'secret'], \n",
        "    ['secret', 'kept', 'huge', 'secret'], \n",
        "    ['huge', 'secret'], \n",
        "    ['barber', 'kept', 'word'], \n",
        "    ['barber', 'kept', 'word'], \n",
        "    ['barber', 'kept', 'secret'], \n",
        "    ['keeping', 'keeping', 'huge', 'secret', 'driving', 'barber', 'crazy'], \n",
        "    ['barber', 'went', 'huge', 'mountain']\n",
        "]"
      ],
      "execution_count": 2,
      "outputs": []
    },
    {
      "cell_type": "code",
      "metadata": {
        "colab": {
          "base_uri": "https://localhost:8080/"
        },
        "id": "VqEAOhKkYZBU",
        "outputId": "76163003-5074-49ee-c210-0319d9651ae5"
      },
      "source": [
        "words = sum(sentences, [])\n",
        "print(words)"
      ],
      "execution_count": 3,
      "outputs": [
        {
          "output_type": "stream",
          "text": [
            "['barber', 'person', 'barber', 'good', 'person', 'barber', 'huge', 'person', 'knew', 'secret', 'secret', 'kept', 'huge', 'secret', 'huge', 'secret', 'barber', 'kept', 'word', 'barber', 'kept', 'word', 'barber', 'kept', 'secret', 'keeping', 'keeping', 'huge', 'secret', 'driving', 'barber', 'crazy', 'barber', 'went', 'huge', 'mountain']\n"
          ],
          "name": "stdout"
        }
      ]
    },
    {
      "cell_type": "code",
      "metadata": {
        "colab": {
          "base_uri": "https://localhost:8080/"
        },
        "id": "K8KqL-VmYZeY",
        "outputId": "536a7ed7-b4f9-4302-8fc1-2ad2413d296f"
      },
      "source": [
        "vocab = Counter(words)\n",
        "vocab"
      ],
      "execution_count": 4,
      "outputs": [
        {
          "output_type": "execute_result",
          "data": {
            "text/plain": [
              "Counter({'barber': 8,\n",
              "         'crazy': 1,\n",
              "         'driving': 1,\n",
              "         'good': 1,\n",
              "         'huge': 5,\n",
              "         'keeping': 2,\n",
              "         'kept': 4,\n",
              "         'knew': 1,\n",
              "         'mountain': 1,\n",
              "         'person': 3,\n",
              "         'secret': 6,\n",
              "         'went': 1,\n",
              "         'word': 2})"
            ]
          },
          "metadata": {},
          "execution_count": 4
        }
      ]
    },
    {
      "cell_type": "code",
      "metadata": {
        "colab": {
          "base_uri": "https://localhost:8080/"
        },
        "id": "uArBvv6pYaha",
        "outputId": "9ad9371e-5c38-4890-a7c0-ffeaefdeb78c"
      },
      "source": [
        "top5 = vocab.most_common(5)\n",
        "top5"
      ],
      "execution_count": 5,
      "outputs": [
        {
          "output_type": "execute_result",
          "data": {
            "text/plain": [
              "[('barber', 8), ('secret', 6), ('huge', 5), ('kept', 4), ('person', 3)]"
            ]
          },
          "metadata": {},
          "execution_count": 5
        }
      ]
    },
    {
      "cell_type": "code",
      "metadata": {
        "colab": {
          "base_uri": "https://localhost:8080/"
        },
        "id": "vTNlKQffYbnx",
        "outputId": "d6c03039-137b-4c2a-b063-882b73dff4a1"
      },
      "source": [
        "word_to_index = {}\n",
        "i = 0\n",
        "for word, freq in top5:\n",
        "    i += 1\n",
        "    word_to_index[word] = i\n",
        "word_to_index"
      ],
      "execution_count": 6,
      "outputs": [
        {
          "output_type": "execute_result",
          "data": {
            "text/plain": [
              "{'barber': 1, 'huge': 3, 'kept': 4, 'person': 5, 'secret': 2}"
            ]
          },
          "metadata": {},
          "execution_count": 6
        }
      ]
    },
    {
      "cell_type": "markdown",
      "metadata": {
        "id": "2jiktk-8Yead"
      },
      "source": [
        "- NLTK의 FreqDist 사용하기"
      ]
    },
    {
      "cell_type": "code",
      "metadata": {
        "id": "EUtJ84nuYcmI"
      },
      "source": [
        "from nltk import FreqDist\n",
        "import numpy as np"
      ],
      "execution_count": 7,
      "outputs": []
    },
    {
      "cell_type": "code",
      "metadata": {
        "colab": {
          "base_uri": "https://localhost:8080/"
        },
        "id": "o3TD_MQmYga1",
        "outputId": "7345e5bb-0f97-4a8b-c034-b76b11304710"
      },
      "source": [
        "vocab = FreqDist(words)\n",
        "vocab"
      ],
      "execution_count": 8,
      "outputs": [
        {
          "output_type": "execute_result",
          "data": {
            "text/plain": [
              "FreqDist({'barber': 8,\n",
              "          'crazy': 1,\n",
              "          'driving': 1,\n",
              "          'good': 1,\n",
              "          'huge': 5,\n",
              "          'keeping': 2,\n",
              "          'kept': 4,\n",
              "          'knew': 1,\n",
              "          'mountain': 1,\n",
              "          'person': 3,\n",
              "          'secret': 6,\n",
              "          'went': 1,\n",
              "          'word': 2})"
            ]
          },
          "metadata": {},
          "execution_count": 8
        }
      ]
    },
    {
      "cell_type": "code",
      "metadata": {
        "colab": {
          "base_uri": "https://localhost:8080/"
        },
        "id": "HvjeK9-GYhFP",
        "outputId": "b5289181-75c0-47d9-c7f0-33387e328b0f"
      },
      "source": [
        "top5 = vocab.most_common(5)\n",
        "top5"
      ],
      "execution_count": 9,
      "outputs": [
        {
          "output_type": "execute_result",
          "data": {
            "text/plain": [
              "[('barber', 8), ('secret', 6), ('huge', 5), ('kept', 4), ('person', 3)]"
            ]
          },
          "metadata": {},
          "execution_count": 9
        }
      ]
    },
    {
      "cell_type": "code",
      "metadata": {
        "colab": {
          "base_uri": "https://localhost:8080/"
        },
        "id": "gRQszhkbYiDF",
        "outputId": "74c3f60f-e547-462b-b4b3-2450ee0a639e"
      },
      "source": [
        "word_to_index = {word[0]: i+1 for i, word in enumerate(top5)}\n",
        "word_to_index"
      ],
      "execution_count": 10,
      "outputs": [
        {
          "output_type": "execute_result",
          "data": {
            "text/plain": [
              "{'barber': 1, 'huge': 3, 'kept': 4, 'person': 5, 'secret': 2}"
            ]
          },
          "metadata": {},
          "execution_count": 10
        }
      ]
    },
    {
      "cell_type": "markdown",
      "metadata": {
        "id": "M2jKO0RTYjzN"
      },
      "source": [
        "-  Keras 텍스트 전처리"
      ]
    },
    {
      "cell_type": "code",
      "metadata": {
        "id": "smUe1GAMYi3t"
      },
      "source": [
        "from tensorflow.keras.preprocessing.text import Tokenizer\n",
        "tokenizer = Tokenizer()"
      ],
      "execution_count": 11,
      "outputs": []
    },
    {
      "cell_type": "code",
      "metadata": {
        "colab": {
          "base_uri": "https://localhost:8080/"
        },
        "id": "gliy36jcYlAH",
        "outputId": "2bc34f42-3ba8-4361-96dc-b76d8f66f65f"
      },
      "source": [
        "tokenizer.fit_on_texts(sentences)\n",
        "tokenizer.word_index"
      ],
      "execution_count": 12,
      "outputs": [
        {
          "output_type": "execute_result",
          "data": {
            "text/plain": [
              "{'barber': 1,\n",
              " 'crazy': 11,\n",
              " 'driving': 10,\n",
              " 'good': 8,\n",
              " 'huge': 3,\n",
              " 'keeping': 7,\n",
              " 'kept': 4,\n",
              " 'knew': 9,\n",
              " 'mountain': 13,\n",
              " 'person': 5,\n",
              " 'secret': 2,\n",
              " 'went': 12,\n",
              " 'word': 6}"
            ]
          },
          "metadata": {},
          "execution_count": 12
        }
      ]
    },
    {
      "cell_type": "code",
      "metadata": {
        "colab": {
          "base_uri": "https://localhost:8080/"
        },
        "id": "Yn7lbT_TYl5v",
        "outputId": "25bce8fd-3335-4172-b9c4-324e3341445d"
      },
      "source": [
        "tokenizer.word_counts"
      ],
      "execution_count": 13,
      "outputs": [
        {
          "output_type": "execute_result",
          "data": {
            "text/plain": [
              "OrderedDict([('barber', 8),\n",
              "             ('person', 3),\n",
              "             ('good', 1),\n",
              "             ('huge', 5),\n",
              "             ('knew', 1),\n",
              "             ('secret', 6),\n",
              "             ('kept', 4),\n",
              "             ('word', 2),\n",
              "             ('keeping', 2),\n",
              "             ('driving', 1),\n",
              "             ('crazy', 1),\n",
              "             ('went', 1),\n",
              "             ('mountain', 1)])"
            ]
          },
          "metadata": {},
          "execution_count": 13
        }
      ]
    },
    {
      "cell_type": "code",
      "metadata": {
        "colab": {
          "base_uri": "https://localhost:8080/"
        },
        "id": "2ATIV13OYnB4",
        "outputId": "fa0c810f-baa3-4b2f-8415-993e827ad7fa"
      },
      "source": [
        "tokenizer.texts_to_sequences(sentences)"
      ],
      "execution_count": 14,
      "outputs": [
        {
          "output_type": "execute_result",
          "data": {
            "text/plain": [
              "[[1, 5],\n",
              " [1, 8, 5],\n",
              " [1, 3, 5],\n",
              " [9, 2],\n",
              " [2, 4, 3, 2],\n",
              " [3, 2],\n",
              " [1, 4, 6],\n",
              " [1, 4, 6],\n",
              " [1, 4, 2],\n",
              " [7, 7, 3, 2, 10, 1, 11],\n",
              " [1, 12, 3, 13]]"
            ]
          },
          "metadata": {},
          "execution_count": 14
        }
      ]
    },
    {
      "cell_type": "markdown",
      "metadata": {
        "id": "3z5Jlj2eYplt"
      },
      "source": [
        "- 단어 빈도수 Top 5만 제대로 표시하고, 나머지는 OOV 값(1)으로 표시"
      ]
    },
    {
      "cell_type": "code",
      "metadata": {
        "id": "XYwmTKyGYn01"
      },
      "source": [
        "\n",
        "vocab_size = 5\n",
        "tokenizer = Tokenizer(num_words = vocab_size + 2, oov_token = 'OOV')\n",
        "# 빈도수 상위 5개 단어만 사용. 숫자 0과 OOV를 고려해서 단어 집합의 크기는 +2\n",
        "tokenizer.fit_on_texts(sentences)"
      ],
      "execution_count": 15,
      "outputs": []
    },
    {
      "cell_type": "code",
      "metadata": {
        "colab": {
          "base_uri": "https://localhost:8080/"
        },
        "id": "paXYQfbXYq19",
        "outputId": "2cd755b2-393d-46e7-9544-49a1e929c03d"
      },
      "source": [
        "tokenizer.texts_to_sequences(sentences)"
      ],
      "execution_count": 16,
      "outputs": [
        {
          "output_type": "execute_result",
          "data": {
            "text/plain": [
              "[[2, 6],\n",
              " [2, 1, 6],\n",
              " [2, 4, 6],\n",
              " [1, 3],\n",
              " [3, 5, 4, 3],\n",
              " [4, 3],\n",
              " [2, 5, 1],\n",
              " [2, 5, 1],\n",
              " [2, 5, 3],\n",
              " [1, 1, 4, 3, 1, 2, 1],\n",
              " [2, 1, 4, 1]]"
            ]
          },
          "metadata": {},
          "execution_count": 16
        }
      ]
    },
    {
      "cell_type": "code",
      "metadata": {
        "colab": {
          "base_uri": "https://localhost:8080/"
        },
        "id": "8jwYsbNmYr6r",
        "outputId": "66097beb-0798-4a75-f0f1-5376377cb6d0"
      },
      "source": [
        "tokenizer.word_index"
      ],
      "execution_count": 17,
      "outputs": [
        {
          "output_type": "execute_result",
          "data": {
            "text/plain": [
              "{'OOV': 1,\n",
              " 'barber': 2,\n",
              " 'crazy': 12,\n",
              " 'driving': 11,\n",
              " 'good': 9,\n",
              " 'huge': 4,\n",
              " 'keeping': 8,\n",
              " 'kept': 5,\n",
              " 'knew': 10,\n",
              " 'mountain': 14,\n",
              " 'person': 6,\n",
              " 'secret': 3,\n",
              " 'went': 13,\n",
              " 'word': 7}"
            ]
          },
          "metadata": {},
          "execution_count": 17
        }
      ]
    },
    {
      "cell_type": "markdown",
      "metadata": {
        "id": "i9dP5MwOYt7E"
      },
      "source": [
        "- 패딩(Padding)"
      ]
    },
    {
      "cell_type": "code",
      "metadata": {
        "colab": {
          "base_uri": "https://localhost:8080/"
        },
        "id": "8dt_6OlNYsr9",
        "outputId": "540558fa-4cca-4b62-e8dc-ef618bc2bef7"
      },
      "source": [
        "tokenizer.fit_on_texts(sentences)\n",
        "encoded = tokenizer.texts_to_sequences(sentences)\n",
        "encoded"
      ],
      "execution_count": 18,
      "outputs": [
        {
          "output_type": "execute_result",
          "data": {
            "text/plain": [
              "[[2, 6],\n",
              " [2, 1, 6],\n",
              " [2, 4, 6],\n",
              " [1, 3],\n",
              " [3, 5, 4, 3],\n",
              " [4, 3],\n",
              " [2, 5, 1],\n",
              " [2, 5, 1],\n",
              " [2, 5, 3],\n",
              " [1, 1, 4, 3, 1, 2, 1],\n",
              " [2, 1, 4, 1]]"
            ]
          },
          "metadata": {},
          "execution_count": 18
        }
      ]
    },
    {
      "cell_type": "code",
      "metadata": {
        "colab": {
          "base_uri": "https://localhost:8080/"
        },
        "id": "VZdnc8RVYvSa",
        "outputId": "a1b1cd0b-53be-4cda-db48-427e8d3bedee"
      },
      "source": [
        "from tensorflow.keras.preprocessing.sequence import pad_sequences\n",
        "pad_sequences(encoded)"
      ],
      "execution_count": 19,
      "outputs": [
        {
          "output_type": "execute_result",
          "data": {
            "text/plain": [
              "array([[0, 0, 0, 0, 0, 2, 6],\n",
              "       [0, 0, 0, 0, 2, 1, 6],\n",
              "       [0, 0, 0, 0, 2, 4, 6],\n",
              "       [0, 0, 0, 0, 0, 1, 3],\n",
              "       [0, 0, 0, 3, 5, 4, 3],\n",
              "       [0, 0, 0, 0, 0, 4, 3],\n",
              "       [0, 0, 0, 0, 2, 5, 1],\n",
              "       [0, 0, 0, 0, 2, 5, 1],\n",
              "       [0, 0, 0, 0, 2, 5, 3],\n",
              "       [1, 1, 4, 3, 1, 2, 1],\n",
              "       [0, 0, 0, 2, 1, 4, 1]], dtype=int32)"
            ]
          },
          "metadata": {},
          "execution_count": 19
        }
      ]
    },
    {
      "cell_type": "code",
      "metadata": {
        "colab": {
          "base_uri": "https://localhost:8080/"
        },
        "id": "5wjbcXIsYwnT",
        "outputId": "d399af0f-755c-4a93-995a-f8f24b8dbcb8"
      },
      "source": [
        "pad_sequences(encoded, padding='post')"
      ],
      "execution_count": 20,
      "outputs": [
        {
          "output_type": "execute_result",
          "data": {
            "text/plain": [
              "array([[2, 6, 0, 0, 0, 0, 0],\n",
              "       [2, 1, 6, 0, 0, 0, 0],\n",
              "       [2, 4, 6, 0, 0, 0, 0],\n",
              "       [1, 3, 0, 0, 0, 0, 0],\n",
              "       [3, 5, 4, 3, 0, 0, 0],\n",
              "       [4, 3, 0, 0, 0, 0, 0],\n",
              "       [2, 5, 1, 0, 0, 0, 0],\n",
              "       [2, 5, 1, 0, 0, 0, 0],\n",
              "       [2, 5, 3, 0, 0, 0, 0],\n",
              "       [1, 1, 4, 3, 1, 2, 1],\n",
              "       [2, 1, 4, 1, 0, 0, 0]], dtype=int32)"
            ]
          },
          "metadata": {},
          "execution_count": 20
        }
      ]
    },
    {
      "cell_type": "code",
      "metadata": {
        "colab": {
          "base_uri": "https://localhost:8080/"
        },
        "id": "VqyxlfvEYxeo",
        "outputId": "7cc2c323-adc3-45b5-eecc-6861a3776901"
      },
      "source": [
        "# 실전에서 사용하는 방법\n",
        "pad_sequences(encoded, padding='post', maxlen=5)"
      ],
      "execution_count": 21,
      "outputs": [
        {
          "output_type": "execute_result",
          "data": {
            "text/plain": [
              "array([[2, 6, 0, 0, 0],\n",
              "       [2, 1, 6, 0, 0],\n",
              "       [2, 4, 6, 0, 0],\n",
              "       [1, 3, 0, 0, 0],\n",
              "       [3, 5, 4, 3, 0],\n",
              "       [4, 3, 0, 0, 0],\n",
              "       [2, 5, 1, 0, 0],\n",
              "       [2, 5, 1, 0, 0],\n",
              "       [2, 5, 3, 0, 0],\n",
              "       [4, 3, 1, 2, 1],\n",
              "       [2, 1, 4, 1, 0]], dtype=int32)"
            ]
          },
          "metadata": {},
          "execution_count": 21
        }
      ]
    },
    {
      "cell_type": "markdown",
      "metadata": {
        "id": "rg3BZ4h_Y08E"
      },
      "source": [
        "- 원-핫 인코딩(One-hot encoding)"
      ]
    },
    {
      "cell_type": "code",
      "metadata": {
        "id": "idf4UZoxYzLx"
      },
      "source": [
        "!pip install Konlpy > /dev/null"
      ],
      "execution_count": 22,
      "outputs": []
    },
    {
      "cell_type": "code",
      "metadata": {
        "colab": {
          "base_uri": "https://localhost:8080/"
        },
        "id": "0uT793X4Y2Qs",
        "outputId": "f28fc1b8-460f-40aa-e5de-eb07e0ac38aa"
      },
      "source": [
        "from konlpy.tag import Okt\n",
        "okt = Okt()\n",
        "text = '나는 자연어 처리를 배운다'\n",
        "token = okt.morphs(text)\n",
        "token"
      ],
      "execution_count": 23,
      "outputs": [
        {
          "output_type": "execute_result",
          "data": {
            "text/plain": [
              "['나', '는', '자연어', '처리', '를', '배운다']"
            ]
          },
          "metadata": {},
          "execution_count": 23
        }
      ]
    },
    {
      "cell_type": "code",
      "metadata": {
        "colab": {
          "base_uri": "https://localhost:8080/"
        },
        "id": "IbBZ7BjeY3CA",
        "outputId": "9964fdda-6dc0-46ed-eade-664e97d7125f"
      },
      "source": [
        "word_to_index = {word: i for i, word in enumerate(token)}\n",
        "word_to_index"
      ],
      "execution_count": 24,
      "outputs": [
        {
          "output_type": "execute_result",
          "data": {
            "text/plain": [
              "{'나': 0, '는': 1, '를': 4, '배운다': 5, '자연어': 2, '처리': 3}"
            ]
          },
          "metadata": {},
          "execution_count": 24
        }
      ]
    },
    {
      "cell_type": "code",
      "metadata": {
        "colab": {
          "base_uri": "https://localhost:8080/"
        },
        "id": "J0tILaWyY4FT",
        "outputId": "bdf0dffb-21ae-475e-d9de-2b7c2c3dd8f6"
      },
      "source": [
        "word_to_index.values()"
      ],
      "execution_count": 25,
      "outputs": [
        {
          "output_type": "execute_result",
          "data": {
            "text/plain": [
              "dict_values([0, 1, 2, 3, 4, 5])"
            ]
          },
          "metadata": {},
          "execution_count": 25
        }
      ]
    },
    {
      "cell_type": "code",
      "metadata": {
        "colab": {
          "base_uri": "https://localhost:8080/"
        },
        "id": "K9cwaYA2Y5DG",
        "outputId": "85d1b569-3ed3-4d6b-e111-a7bfa3fe5568"
      },
      "source": [
        "from tensorflow.keras.utils import to_categorical\n",
        "to_categorical(list(word_to_index.values()))"
      ],
      "execution_count": 26,
      "outputs": [
        {
          "output_type": "execute_result",
          "data": {
            "text/plain": [
              "array([[1., 0., 0., 0., 0., 0.],\n",
              "       [0., 1., 0., 0., 0., 0.],\n",
              "       [0., 0., 1., 0., 0., 0.],\n",
              "       [0., 0., 0., 1., 0., 0.],\n",
              "       [0., 0., 0., 0., 1., 0.],\n",
              "       [0., 0., 0., 0., 0., 1.]], dtype=float32)"
            ]
          },
          "metadata": {},
          "execution_count": 26
        }
      ]
    },
    {
      "cell_type": "code",
      "metadata": {
        "colab": {
          "base_uri": "https://localhost:8080/"
        },
        "id": "KmxuXb_WY5-J",
        "outputId": "79ba3ca3-72f0-4fcc-f534-6c3cfc1e0e65"
      },
      "source": [
        "text=\"나랑 점심 먹으러 갈래 점심 메뉴는 햄버거 갈래 갈래 햄버거 최고야\"\n",
        "\n",
        "t = Tokenizer()\n",
        "t.fit_on_texts([text])\n",
        "print(t.word_index)"
      ],
      "execution_count": 27,
      "outputs": [
        {
          "output_type": "stream",
          "text": [
            "{'갈래': 1, '점심': 2, '햄버거': 3, '나랑': 4, '먹으러': 5, '메뉴는': 6, '최고야': 7}\n"
          ],
          "name": "stdout"
        }
      ]
    },
    {
      "cell_type": "code",
      "metadata": {
        "colab": {
          "base_uri": "https://localhost:8080/"
        },
        "id": "TMjmc6nHY7o0",
        "outputId": "2f35b1a6-6bc6-4642-838e-a74ffb0cf0f9"
      },
      "source": [
        "encoded = t.texts_to_sequences([text])[0]\n",
        "encoded"
      ],
      "execution_count": 28,
      "outputs": [
        {
          "output_type": "execute_result",
          "data": {
            "text/plain": [
              "[4, 2, 5, 1, 2, 6, 3, 1, 1, 3, 7]"
            ]
          },
          "metadata": {},
          "execution_count": 28
        }
      ]
    },
    {
      "cell_type": "code",
      "metadata": {
        "colab": {
          "base_uri": "https://localhost:8080/"
        },
        "id": "Tw17drkCY8Uh",
        "outputId": "3f59cee0-335d-421c-84fa-d2f48191baf2"
      },
      "source": [
        "to_categorical(encoded)"
      ],
      "execution_count": 29,
      "outputs": [
        {
          "output_type": "execute_result",
          "data": {
            "text/plain": [
              "array([[0., 0., 0., 0., 1., 0., 0., 0.],\n",
              "       [0., 0., 1., 0., 0., 0., 0., 0.],\n",
              "       [0., 0., 0., 0., 0., 1., 0., 0.],\n",
              "       [0., 1., 0., 0., 0., 0., 0., 0.],\n",
              "       [0., 0., 1., 0., 0., 0., 0., 0.],\n",
              "       [0., 0., 0., 0., 0., 0., 1., 0.],\n",
              "       [0., 0., 0., 1., 0., 0., 0., 0.],\n",
              "       [0., 1., 0., 0., 0., 0., 0., 0.],\n",
              "       [0., 1., 0., 0., 0., 0., 0., 0.],\n",
              "       [0., 0., 0., 1., 0., 0., 0., 0.],\n",
              "       [0., 0., 0., 0., 0., 0., 0., 1.]], dtype=float32)"
            ]
          },
          "metadata": {},
          "execution_count": 29
        }
      ]
    },
    {
      "cell_type": "markdown",
      "metadata": {
        "id": "J-uJ8rvYY-PU"
      },
      "source": [
        "- 데이터의 분리"
      ]
    },
    {
      "cell_type": "code",
      "metadata": {
        "id": "TE7VbYyKY9DW"
      },
      "source": [
        "from sklearn.model_selection import train_test_split\n",
        "from sklearn.datasets import load_iris\n",
        "iris = load_iris()"
      ],
      "execution_count": 33,
      "outputs": []
    },
    {
      "cell_type": "code",
      "metadata": {
        "id": "OLL4jlW6ZAWu"
      },
      "source": [
        "iris = load_iris()"
      ],
      "execution_count": 34,
      "outputs": []
    },
    {
      "cell_type": "code",
      "metadata": {
        "colab": {
          "base_uri": "https://localhost:8080/"
        },
        "id": "6rP564tWZBBh",
        "outputId": "3ab66841-32b8-4380-ed2e-b6fb5bd76ed6"
      },
      "source": [
        "iris.data[:5]"
      ],
      "execution_count": 35,
      "outputs": [
        {
          "output_type": "execute_result",
          "data": {
            "text/plain": [
              "array([[5.1, 3.5, 1.4, 0.2],\n",
              "       [4.9, 3. , 1.4, 0.2],\n",
              "       [4.7, 3.2, 1.3, 0.2],\n",
              "       [4.6, 3.1, 1.5, 0.2],\n",
              "       [5. , 3.6, 1.4, 0.2]])"
            ]
          },
          "metadata": {},
          "execution_count": 35
        }
      ]
    },
    {
      "cell_type": "code",
      "metadata": {
        "colab": {
          "base_uri": "https://localhost:8080/"
        },
        "id": "mtG0HHIWZFq5",
        "outputId": "ba0a964f-51f5-44e5-8b2d-6e0e7920646a"
      },
      "source": [
        "\n",
        "iris.feature_names"
      ],
      "execution_count": 36,
      "outputs": [
        {
          "output_type": "execute_result",
          "data": {
            "text/plain": [
              "['sepal length (cm)',\n",
              " 'sepal width (cm)',\n",
              " 'petal length (cm)',\n",
              " 'petal width (cm)']"
            ]
          },
          "metadata": {},
          "execution_count": 36
        }
      ]
    },
    {
      "cell_type": "code",
      "metadata": {
        "colab": {
          "base_uri": "https://localhost:8080/"
        },
        "id": "p6nQg1kBZGjI",
        "outputId": "035199f5-50fa-4d08-87ab-779e0d3de360"
      },
      "source": [
        "iris.target[:5]"
      ],
      "execution_count": 37,
      "outputs": [
        {
          "output_type": "execute_result",
          "data": {
            "text/plain": [
              "array([0, 0, 0, 0, 0])"
            ]
          },
          "metadata": {},
          "execution_count": 37
        }
      ]
    },
    {
      "cell_type": "code",
      "metadata": {
        "colab": {
          "base_uri": "https://localhost:8080/"
        },
        "id": "OJuhAo0AZHZ7",
        "outputId": "0e1dfac7-66ba-4457-92e1-1e64396d33d0"
      },
      "source": [
        "iris.target_names"
      ],
      "execution_count": 38,
      "outputs": [
        {
          "output_type": "execute_result",
          "data": {
            "text/plain": [
              "array(['setosa', 'versicolor', 'virginica'], dtype='<U10')"
            ]
          },
          "metadata": {},
          "execution_count": 38
        }
      ]
    },
    {
      "cell_type": "code",
      "metadata": {
        "colab": {
          "base_uri": "https://localhost:8080/"
        },
        "id": "dSc_Pzt5ZIao",
        "outputId": "81e3b83f-37f8-4509-9277-27842f77da7b"
      },
      "source": [
        "X_train, X_test, y_train, y_test = train_test_split(\n",
        "    iris.data, iris.target, test_size=0.2, random_state=2021\n",
        ")\n",
        "X_train.shape, X_test.shape, y_train.shape, y_test.shape"
      ],
      "execution_count": 39,
      "outputs": [
        {
          "output_type": "execute_result",
          "data": {
            "text/plain": [
              "((120, 4), (30, 4), (120,), (30,))"
            ]
          },
          "metadata": {},
          "execution_count": 39
        }
      ]
    },
    {
      "cell_type": "code",
      "metadata": {
        "colab": {
          "base_uri": "https://localhost:8080/"
        },
        "id": "4_5lR0X1ZJWc",
        "outputId": "72eeb04d-1902-4945-d4f9-a1fba1231321"
      },
      "source": [
        "print(y_test)"
      ],
      "execution_count": 40,
      "outputs": [
        {
          "output_type": "stream",
          "text": [
            "[0 0 1 0 0 0 0 0 0 0 0 1 2 2 1 2 1 1 0 1 1 2 2 0 2 1 1 1 0 0]\n"
          ],
          "name": "stdout"
        }
      ]
    },
    {
      "cell_type": "code",
      "metadata": {
        "colab": {
          "base_uri": "https://localhost:8080/"
        },
        "id": "ygGOFO_pZKSM",
        "outputId": "997cd19b-5635-42cc-959f-0facbe59b1c4"
      },
      "source": [
        "import numpy as np\n",
        "np.unique(y_test, return_counts=True)"
      ],
      "execution_count": 41,
      "outputs": [
        {
          "output_type": "execute_result",
          "data": {
            "text/plain": [
              "(array([0, 1, 2]), array([14, 10,  6]))"
            ]
          },
          "metadata": {},
          "execution_count": 41
        }
      ]
    },
    {
      "cell_type": "code",
      "metadata": {
        "colab": {
          "base_uri": "https://localhost:8080/"
        },
        "id": "wIde6e77ZLNC",
        "outputId": "f66940d6-f1ba-4580-c51d-62f79b2091f4"
      },
      "source": [
        "X_train, X_test, y_train, y_test = train_test_split(\n",
        "    iris.data, iris.target, stratify=iris.target,\n",
        "    test_size=0.2, random_state=2021\n",
        ")\n",
        "print(y_test)"
      ],
      "execution_count": 42,
      "outputs": [
        {
          "output_type": "stream",
          "text": [
            "[0 1 1 2 0 1 0 1 2 0 1 1 1 2 2 0 2 0 2 0 1 2 0 2 2 0 1 1 2 0]\n"
          ],
          "name": "stdout"
        }
      ]
    },
    {
      "cell_type": "code",
      "metadata": {
        "colab": {
          "base_uri": "https://localhost:8080/"
        },
        "id": "_RA9aCyLZMZt",
        "outputId": "7033cddf-3a9a-4fce-aea8-e88f45b09496"
      },
      "source": [
        "np.unique(y_test, return_counts=True)"
      ],
      "execution_count": 43,
      "outputs": [
        {
          "output_type": "execute_result",
          "data": {
            "text/plain": [
              "(array([0, 1, 2]), array([10, 10, 10]))"
            ]
          },
          "metadata": {},
          "execution_count": 43
        }
      ]
    },
    {
      "cell_type": "code",
      "metadata": {
        "id": "er7Y-gB0ZNaN"
      },
      "source": [
        ""
      ],
      "execution_count": null,
      "outputs": []
    }
  ]
}